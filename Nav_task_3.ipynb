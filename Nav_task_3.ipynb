{
 "cells": [
  {
   "cell_type": "markdown",
   "metadata": {},
   "source": [
    "### Данные:"
   ]
  },
  {
   "cell_type": "code",
   "execution_count": 1,
   "metadata": {},
   "outputs": [],
   "source": [
    "LData = Import[\"test Task3nav.txt\", \"Data\"];"
   ]
  },
  {
   "cell_type": "code",
   "execution_count": 2,
   "metadata": {},
   "outputs": [
    {
     "data": {
      "text/html": [
       "<div><pre style=\"&#102;&#111;&#110;&#116;&#45;&#102;&#97;&#109;&#105;&#108;&#121;&#58;&#32;&#34;&#67;&#111;&#117;&#114;&#105;&#101;&#114;&#32;&#78;&#101;&#119;&#34;&#44;&#67;&#111;&#117;&#114;&#105;&#101;&#114;&#44;&#109;&#111;&#110;&#111;&#115;&#112;&#97;&#99;&#101;&#59;\">&#123;&#49;&#51;&#52;&#48;&#49;&#56;&#44;&#32;&#55;&#125;</pre></div>"
      ],
      "text/plain": [
       "{134018, 7}"
      ]
     },
     "execution_count": 2,
     "metadata": {
      "text/html": [],
      "text/plain": []
     },
     "output_type": "execute_result"
    }
   ],
   "source": [
    "Dimensions[LData]"
   ]
  },
  {
   "cell_type": "code",
   "execution_count": 3,
   "metadata": {},
   "outputs": [
    {
     "data": {
      "text/html": [
       "<div><img alt=\"Output\" src=\"data:image/png;base64,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\"></div>"
      ],
      "text/plain": [
       "192708.         0.0889773       -0.0862339      -9.90035        -0.0161368\n",
       " \n",
       ">    0.000960185     -0.000234313\n",
       "\n",
       "192708.         0.0814907       0.0757024       -9.77311        0.0184959\n",
       " \n",
       ">    0.000298802     -0.0000453431\n",
       "\n",
       "192708.         0.0716127       0.107522        -9.76608        -0.00583492\n",
       " \n",
       ">    0.000423815     0.0000108238\n",
       "\n",
       "192708.         0.0841044       -0.0791977      -9.90648        -0.0130764\n",
       " \n",
       ">    0.000180005     -0.000790694\n",
       "\n",
       "192708.         0.0846515       0.0962459       -9.77493        0.0186035\n",
       " \n",
       ">    -0.000280263    0.00117971"
      ]
     },
     "execution_count": 3,
     "metadata": {
      "text/html": [],
      "text/plain": []
     },
     "output_type": "execute_result"
    }
   ],
   "source": [
    "LData[[1;;5]] // MatrixForm"
   ]
  },
  {
   "cell_type": "code",
   "execution_count": 4,
   "metadata": {},
   "outputs": [],
   "source": [
    "DataB = LData[[2;;]];"
   ]
  },
  {
   "cell_type": "code",
   "execution_count": 5,
   "metadata": {},
   "outputs": [
    {
     "data": {
      "text/html": [
       "<div><pre style=\"&#102;&#111;&#110;&#116;&#45;&#102;&#97;&#109;&#105;&#108;&#121;&#58;&#32;&#34;&#67;&#111;&#117;&#114;&#105;&#101;&#114;&#32;&#78;&#101;&#119;&#34;&#44;&#67;&#111;&#117;&#114;&#105;&#101;&#114;&#44;&#109;&#111;&#110;&#111;&#115;&#112;&#97;&#99;&#101;&#59;\">&#123;&#49;&#51;&#52;&#48;&#49;&#55;&#44;&#32;&#55;&#125;</pre></div>"
      ],
      "text/plain": [
       "{134017, 7}"
      ]
     },
     "execution_count": 5,
     "metadata": {
      "text/html": [],
      "text/plain": []
     },
     "output_type": "execute_result"
    }
   ],
   "source": [
    "Dimensions[DataB]"
   ]
  },
  {
   "cell_type": "code",
   "execution_count": 6,
   "metadata": {},
   "outputs": [
    {
     "data": {
      "text/html": [
       "<div><img alt=\"Output\" src=\"data:image/png;base64,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\"></div>"
      ],
      "text/plain": [
       "192708.         0.0814907       0.0757024       -9.77311        0.0184959\n",
       " \n",
       ">    0.000298802     -0.0000453431\n",
       "\n",
       "192708.         0.0716127       0.107522        -9.76608        -0.00583492\n",
       " \n",
       ">    0.000423815     0.0000108238\n",
       "\n",
       "192708.         0.0841044       -0.0791977      -9.90648        -0.0130764\n",
       " \n",
       ">    0.000180005     -0.000790694\n",
       "\n",
       "192708.         0.0846515       0.0962459       -9.77493        0.0186035\n",
       " \n",
       ">    -0.000280263    0.00117971\n",
       "\n",
       "192708.         0.085869        0.091819        -9.78115        -0.00828009\n",
       " \n",
       ">    0.000364599     -0.00112713"
      ]
     },
     "execution_count": 6,
     "metadata": {
      "text/html": [],
      "text/plain": []
     },
     "output_type": "execute_result"
    }
   ],
   "source": [
    "DataB[[1;;5]] // MatrixForm"
   ]
  },
  {
   "cell_type": "code",
   "execution_count": 7,
   "metadata": {},
   "outputs": [
    {
     "data": {
      "text/html": [
       "<div><pre style=\"&#102;&#111;&#110;&#116;&#45;&#102;&#97;&#109;&#105;&#108;&#121;&#58;&#32;&#34;&#67;&#111;&#117;&#114;&#105;&#101;&#114;&#32;&#78;&#101;&#119;&#34;&#44;&#67;&#111;&#117;&#114;&#105;&#101;&#114;&#44;&#109;&#111;&#110;&#111;&#115;&#112;&#97;&#99;&#101;&#59;\">&#123;&#125;</pre></div>"
      ],
      "text/plain": [
       "{}"
      ]
     },
     "execution_count": 7,
     "metadata": {
      "text/html": [],
      "text/plain": []
     },
     "output_type": "execute_result"
    }
   ],
   "source": [
    "Data = {}"
   ]
  },
  {
   "cell_type": "code",
   "execution_count": 8,
   "metadata": {},
   "outputs": [],
   "source": [
    "For[i = 1, i < Dimensions[DataB][[1]]/10, i++, AppendTo[Data, \n",
    "                                                        {Mean[Transpose[DataB][[1]][[((i-1)*10+1);;10*(i)]]],\n",
    "                                                         Mean[Transpose[DataB][[2]][[((i-1)*10+1);;10*(i)]]],\n",
    "                                                         Mean[Transpose[DataB][[3]][[((i-1)*10+1);;10*(i)]]],\n",
    "                                                         Mean[Transpose[DataB][[4]][[((i-1)*10+1);;10*(i)]]],\n",
    "                                                         Mean[Transpose[DataB][[5]][[((i-1)*10+1);;10*(i)]]],\n",
    "                                                         Mean[Transpose[DataB][[6]][[((i-1)*10+1);;10*(i)]]],\n",
    "                                                         Mean[Transpose[DataB][[7]][[((i-1)*10+1);;10*(i)]]]}]];"
   ]
  },
  {
   "cell_type": "code",
   "execution_count": 9,
   "metadata": {},
   "outputs": [
    {
     "data": {
      "text/html": [
       "<div><img alt=\"Output\" src=\"data:image/png;base64,iVBORw0KGgoAAAANSUhEUgAAAkcAAABSCAIAAADRpeehAAAAznpUWHRSYXcgcHJvZmlsZSB0eXBlIGV4aWYAAHjadU/bDQMhDPtnio6QFwmMw/Wo1A06fs1BVVGpli52jJNTUn89H+k2IEzJchSv7gRYtSoNotDEZKZ61QsWJMvd/JSnTdxg5e+D9+Ufux8+WcrPorWfdPwBWm0NrEUq0+c2+2PlpZWyL1LaYJ+z+E+vIZ6dw1BNKMIrdEmQIMeFOfzhd3cE2U8hu4O7R2DMYyS0jcEB6bGne3KFcY4TdHysDWyo6DHKmi9dZpUDr3plxjlvHWtalecrrxoAAAAJcEhZcwAACxMAAAsTAQCanBgAAAA8dEVYdFNvZnR3YXJlAENyZWF0ZWQgd2l0aCB0aGUgV29sZnJhbSBMYW5ndWFnZSA6IHd3dy53b2xmcmFtLmNvbVyipoUAAAAhdEVYdENyZWF0aW9uIFRpbWUAMjAyMTowNDoyMCAxNToyODoyOE6p1kUAABOaSURBVHic7Z27jxzFFsZ7boKzDfEfYKMNCIjXCakdbeQUSMZkXoIrgYTkBMnBDVgihJMVGSJhkzsON/KFDAILJO9KhDg00UI0N9id7np859SpR/fMNt8v8lbX6zyqarrb6m+xXq87QgghZBb8a9sTIIQQQpphPNUuvrq3WCwWj547Zc8fLa5xiq8rLhaLe19dwMp+G1jfrewNmYM0E2NNOAdU06mYKIQewzXHs8u5spnEUK/IWNRcCncZMNMSNd26KHsTQa8IUJLKCOLmkY1SCOwucis3Ml1kDJ9UFnbQ/NhRwvLBzZuyXac5V3DW+cnk1RSSU1xruZ5cp1ktu4Pj8/Pjg2652pS5f11dvy69Ljw/PtgUSh1e/aNzGlz9c7Ucxhm6zgT2bK8J55DoE5o8FGKPJZq3tqsffbkcimBHiVA6hYl5VAQxml2iJylqUfZC57QJUJL6zISFsY1BV703jC5qZa+FkXwSF8KsxqmOzIeOwjMe33uTOc2+k8hbd1gzmF7oqVQgEoBT7cmTJ6imb5A7f7gHOK4QO3LanR8fdN2wu1wX1xxqoGd7TTSHVJ/S4QAOSimQ6uHQwq41WpmpkVEonTaJ5ia7FJKZ5g8lZE6UvbFzmgTIYk5NBLXm4gSDYJlcVPlbJIsxfJLsE25QQ6FivuVUG997kzktcydB2aX96kpsmylPfv3113Fh+ATy9PT08PDQcpPXPTvdPET84ll08eLVy255eB80e/6fo+743/ev67z7zp2ue/5ocff7h8fL7uWri6678/jF+vNf7y4Wi8Xp4frF4zum2USjg57tNcEc5D6vb4/vfv/w/JveYlSIPQabj2RX9/zRg5fH38Y+ffZAvMP3Q4lnKzcfwl2OmmkO1swR3VgdoCSVEbQ3d3BDYF5cF69eHjx857/3Rn2E1g/V3CfJPuEGNRRmmh/m//jem8xpOTsJzi5pz7m66O8P0VpLefL9999//fp1UBiear/88st7772X8GjXdfe/OT9+eRXKD7qHy3Cqj+4evbtCW8DFV188W37uWvj80eJBt1q/ePxOX+Xe4kG3Wq/Xq+5BTUZEPdtrinNAfd7/5uoXwue/3h2eJUeFosdg83Hsev7oQbeKtrI7j1/0P5G6o7v+HMJQxrPVmsfhlrnw6Iv1TPN7yMqc0DntApSkIjPzmndhCHJc9L+jL7pvr34vv3v0wcgv1kbxidgn3KCCQqv5Qv43856wLnQDIyqdZttJUHbhmn2DYH9Aa0315P7+/k8//RT26964/fHHH/CG7jpk0gOY+I2bdDccPCJdLbvOu7tdroLe5OeYOrBne004h3Sf8GZZekUTz8jw1KLKrqvnBz7BgH6AtFBaXj3lPBE/P195wFb6Q0Atc6InkLobiwOUpDIzteaGl712F50fH/grtf7hq8gYPpH7hFkdFmrm6zvhwfF5S++J62Iyp9l3EpBd6p6j7Q+btWbw5A8//HB5eemWeKfaycnJ77//LvhGcpw3NXUfjM8oZ5vorykvClfLznrIoZ5xJ/Y5yH1GPamFQjBNe2adXf4c4LbtP0OXnS29Sw3C1XIvjPwWmKy9YpZfGgnOKQ1QksoIKjMHMUVVjC7CL+PGYQyf4D5NR9qmTDBfPEKc/J/Ae5M5zbyTJP6PR+g3bX8Yxkx78rfffjs5OXFLvFPt008/FUbw6Dd+589+1LimexX+ug/vGtxuwiVp3ydRz7gT+xxATcc53tvRuBB5DNcc0S73mvuOF/2MikOZsCta+00WM/QbNhlFDWYvdE6jAGUYVBRBPQlDG9FPqmwXjXmjplha5RNUCLNa2rWA+YmdMMr/kb03jdPkgfpr/n2wZHX0MCDsTVhrBk8GJ9di7Xxb5LPPPnv69GlHCCGE3BA++eSTL7/8sv/T+98i8X8mIYQQQnaZvb0990/vVLt169a0kyGEEEKq+Pvvv90/vVPt7bffnnYyhBBCSBXBU0bvVPvzzz+nnQwhhBDSEu9Ue/PmzbbmQQghhNRDJRpCCCHzgacaIYSQ+cBTjRBCyHygamidamieNiOSv8s1ts6uDF2+KinFpmKbY6iGOhd0JcOM0e1MIxza+fMHKefW1de4c2EMh4hGmWuOUGjX/vXKN1/1BenUVk13ux6zZ5FzIVqUC1MOx8113A+NfPjhh+hzJEgdx/3L+2aX5eNnfYPgA239Z8fcT2SWfacI9myvCeeQtM61C5iAWuUaW2nXQOKbbUJzoWaUHsJAJeBMg0BnytNbGZQMM0a3U5+csBCYmfga32ARbI78OYpDJKPsNSsLE0t7KBTMTyW59ROxOWzVYxlZ1NcJ9EWtOYyahwQnl+VUWweDXw/j/QG/dIvnEFrRF+64amjKOrz5hyFfx40yjK21C85WCB9orkxRPdVqPoSXzDR/KMGZ8Sy0wxj/vGm1i1cGUWseH0sosqJFQXPkzzEcIllqr1lZGPSvLG1sfsIPMMkarIsteiwji9ZgrWXkMGoeEZxcFe/V/mGqoSnrUtqMWP4uz9h61VCjLh9unqeF2E5ss7VqaJelZGgd3cp0wqFSvCr92doh3Q5oYHr96xq5sfmJdQGFc2vVdLfvMXMaxGstS/xWXaqY0lPtn6oaKlln0mYE8nclxtZJBWbo8oHmGVqIuWKbE6qG2pUMM0Y3W3Q9hUmEQ+N4VfqzyiHdjmpgOhcSGrmS+fK6gMK5DdR0dUMiGnvMngbyWjNNXl2qIsp9nI98Axi/cZPuFIPHz6sbpRqqWBfYBZufI/m7XGMr7QprbN6UxBOT3BLXRDbjgVQmVA115TI2eHI0wmwznxlNqvcIp6jFCw4uvztPPXM3spMamI414rAoh92XTJKfE6/p0uyyx0I/gL+FtWbNYXWpOjR6r+aXe3uC7l7vopMr/TW3P3QK2pYR6hl3kjEHybrQLtwcvXdTjB3DLtwTfCEIm+NXh+vgkjzlOiIHBSZrztSy1y3XXwe3f4lUEkQlsvIGAaYfF8WnmpKcDR2iGlXukwzv6RsXyuHQO9DP0sqreqMWz2kbHtuQyiJcbs/hZPl6XXSqragaqlmH7MImOKX+L0TkrlHsckIZ7vnKbIPb0KAmTA9hoBJQpgkmI2fC6Xkt1F/W4uiNbCpJzkRk3dmCeEGLcHPkz3EcMopPzIV4acMcFswXV1DVjVqCLXosJ4vcXtTtJae5T3ByeaqhH3300cnJSUcIIYTcEIKTi98WIYQQMh94qhFCCJkPPNUIIYTMB55qhBBC5gNPNUIIIfOBpxohhJD5wFONEELIfOCpRgghZD5QNbRONdTvY1NxqOebYNZ1HM0uIIQohEaQ/SyQpqxWl2yvGgoDlBm1XCZTCjU2z4t7ZpYWsEUNzDzt3zxlS3thOduUD81aSjZ14nptVeW7I853UCJ5G/xNr/NZq4bKfa4CUTs4JFYJyvyATqVdyXH1D97ZTWgSxGjyiZ6kqMVzhr7LiFo+9QkJC+O5wZrJhWn40GG7bz4iRvKPsTDov88cYzr1VSJlS3thOdt1nX0pSd8WzM7MGKqGWmqiOYh9xomuJBc4DzMsrLVLnEdOocWEFkHsu9czzTRo8amWvGSjMnBa82hh6gOhhZlyR7MPVIuM4Z9sT24K4202kU5rtAlkFVawZdfl/kBUDbFlZgxVQy01wRykPiVRu2cPDM8E8nQ4x1ENHQiUDG2yny3UUBOMoBraCQEyRS2fyZRCM1Uxr0jFPTNLC9i+BiZwRa0Irb2whl1wnWkppbLIkJlWqBqaN4ewJha1u/P4Rf9bozu6qz4WztDhrLerU8Q8o9CYZT/bqKFOqBqKA5QTtSImUgrNUMXsOmPc87NUYCc1MPvJWbR/0WzAJmAvtLKbrstZSkoWmTLTjHIf5yPfCwKFAeVBjnMTurpRqqGgZqRg0UXCK+HT4shZvj8SxlbaFdYIxCak5wPBowODCflBnFA1NG6VlAtp8QRyGqVQuSZemJa452apzE5rYAausKYT3ASWS2uh9cnuTrsOOjAolLMoPzNDqBparBoq97mpB189W1/wmKJYZ5fQk1QF1jSZoASxnKijwGRtUHG1RwGChfVvQSoDp0RTfs0ZvN1HFtjinpulBYzhnzxPIr/mplPF2+pytu+6YTRtKeEsKsnMCKqGlqqGyn3218DPt6EidKNX12RalV3OHMJFGlgEa2aYIAUxH5Rpgslo0ET24pgnTa6yoyQhE9HE4fBf7uOalrjnZ2kB7f2TWxguanM6eS0mP9W26zr7UkJZlJGZGlQNJYQQMh+oGkoIIWS28FQjhBAyH3iqEUIImQ881QghhMwHnmqEEELmA081Qggh84GnGiGEkPnAU40QQsh8oGpopWqorI8XaAOKUniZopTNVUM7HMo89UhQ2EhsU5heqmZS5tGst+lcybZlMjlHZE5trJNr+abLhzbc1q6K89RH89mmOihOEnuONdCttaN8d2QDEgRy//K+F2f54knfIPhQXf+1MfejomUfnYM922vCOcCacu8rRRvQ7TPy7Yh2DQwBwqFENVPfL40MbPFZoNT0/EFh1OKZwEI5e7VQKtQnob1Q83ZRrPHkx/oM5MBWnYb9U+YKNwPrNzRxGuaalYUDiU0gx4f+nNEXy2zeomqopSaag1xTPrfw1ajUvPvX2oWGTIXSmRyMhxKkFqdaMtP84YTMyfwWn5e9pSd0ZbDshSlzSmKNB6rZlG1s12nQP0WuwMdf5aE2jWfsWwcszPChuc8UVA211MxQDe2QaJ6qDVgohdfCrg5rgeJQ2tQjx5eUHEk1VMHN3mKZx8nkHOUplMcaDzQj+VBxBpF/ilxRqD66C57JFBw25ViOWKs0UAZUDc2bg0k0T9UGLJfCa2BXBzQhxVCa1SPbSEpOqRqq4mZvlczjVQcTyTki6mINB5qXfGiInGxZrihUHzWwVWFVmCT2HDOKtUoD5aDcx1lvB+NH09J9Y/CgdHXTVUOhdZG4QhfoNugqNmPaFdaAT8flR97ngkBoXJhr13orqqGg0M9eNZRJKoNlL9Rs7AfIjLW0LsRY57F9DUzVC96VXFcEa7zJhiZNw16zjbv6AWxvInQfDnWkRWV9YkvV0JFUQ9crIJoXOk1IavvuX2eX0JM7DZBEQ034skB5gd7ivZoyvcBkJXNsp5qavQW2VAbLXpiaYUms4UBKrFuxI05zzctzBRpBSsssJvNMwdaRzDGxT+2cN7+GpGpoW9VQpyIIQPJXCfTteHY5wyFbw4USj+OYC+O+Kcy3y2Awuq8CGWKYCSrUs7fshK5LQnNhysbaWMPRG/5e8dmm04Rks7sC7XLShrarnrFvHfYcUwaSt0TzDwCqhhJCCJkPVA0lhBAyW3iqEUIImQ881QghhMwHnmqEEELmA081Qggh84GnGiGEkPnAU40QQsh88E6127dvb2sehBBCSD3eqfbWW28J1W6gamhySpaaGTKAgnyoveYE5mTYmDTHn3ekJNlA+i/uvKFqqFEVVtR6LWIq1ceUlqOan3laju20YXXb7TUnUw1N+BNkVWtP6daZa1Z6zLkQlINCQXLWXhNy69Yt72/luyPOJ0wObppqqDtWPERZTXfa8Qylz4Aaa05jTjJA6iRx0BMft6v9XqAwKAJ6G2WvWNOYAGVUxs5eOOA4XzJZX2v61/2gbyuZzEuV2xpyndh8tK+LidbZa9Z5rO84ltWNCsWtwF5T4MmTJ+6f3ql2dHQkN/SNWe22aqg7DTBESU38NdNE7tprTm0ODFBgI2gCgp4IUu2aTmaaP5SQOcEsUM2MBCg1pCZ29kI8ZzEVlbUm5nT0gb9mu/bUXire1oQUAs1HPtW267Gh3/iHY1AoLV57TZHg5PKeQIb3cTo7rBrqTaNWZjOctjLDSD7UXnNic2CAQjlTMMk46KJ8Yq3030B71dA8Vdgrc4q1Xq+YVg8zdj50ju6xxlqOFnZQNTQc9HrVCK4Tmpetdwtb9xiU1QWFwkZhr6kQnFzeqba3t/fXX38lu+i6m6EaKg+RXdMgA4jkQzNqTmoODJBvI5qkFHQsn5gr/TelaqhdFRY6p8gQtf+Y1gKP0GTNY+21HD12wUsRGdsach1uXrveN+ykx6CsrqS1G28U9poyb9682dvb84rcG7ezs7OzszPhJk++j44fTUs3wcHj0tVoqqE9cIjcmsG0kzPs69trTmgODpAyE3ip7/I8qSRpep4wqWoorGlPgDJDKmNnLwz7klNR8ZhmchDQkidsO+Ol0m3NtLRzVlmKnfTY1eNJn4PlEmrtgo0CNoc1Nc+cnZ39/PPPbkkX1AheuzlI/vICpR1pIPjO8uivuf2hUzBz/aAhcG9izXDaygz7+sMTdVvNqcyRAqT8fECTDA2L393AKdcR9R6YrHlbPqWGf5sToJDK2NkL0ZjQZNljmsmJd5aVTOyl0m0tsbTx8ZW/3i3skMfUl7D6RmGvGXJychKUhKfa06dPLy8v/bLVjVQNVYfAvcGaaNpohk5Z0NpWcwpzpAAJSaZERhjIfd9bYaNgMPivEIWqoUKOmROg2pTiVLQUYudDk2U/BCbDPrFva5neS8PkM7Y1fWkHNzfIoHZs02Ne1+qpBjeKgpoel5eXP/74Y1DoqYZ2Xff69evT09OPP/64I4QQQnaY77777vDwUPvfIl3X3b59e39/f8JZEUIIISXs7+/H/3U/vFcjhBBCbi78ujEhhJD58H8dEN+TWAk+SQAAAABJRU5ErkJggg==\"></div>"
      ],
      "text/plain": [
       "192708.         0.0803393       0.0452357       -9.81093        0.0017816\n",
       " \n",
       ">    0.000226156     -0.0000484736\n",
       "\n",
       "192708.         0.0827868       0.0360613       -9.81479        -0.00169189     -0.00002\\\n",
       " \n",
       ">     39677   -0.0000914014\n",
       "\n",
       "192708.         0.0804516       0.0373168       -9.81551        0.00102736      -0.00007\\\n",
       " \n",
       ">     81444   -0.000055627\n",
       "\n",
       "192708.         0.0805471       0.0393661       -9.81124        0.000139306\n",
       " \n",
       ">    -0.000190678    0.0000339073\n",
       "\n",
       "192708.         0.078585        0.0275963       -9.81807        -0.000388731\n",
       " \n",
       ">    -0.000192895    -0.000144646"
      ]
     },
     "execution_count": 9,
     "metadata": {
      "text/html": [],
      "text/plain": []
     },
     "output_type": "execute_result"
    }
   ],
   "source": [
    "Data[[1;;5]] // MatrixForm"
   ]
  },
  {
   "cell_type": "code",
   "execution_count": 10,
   "metadata": {},
   "outputs": [
    {
     "data": {
      "text/html": [
       "<div><pre style=\"&#102;&#111;&#110;&#116;&#45;&#102;&#97;&#109;&#105;&#108;&#121;&#58;&#32;&#34;&#67;&#111;&#117;&#114;&#105;&#101;&#114;&#32;&#78;&#101;&#119;&#34;&#44;&#67;&#111;&#117;&#114;&#105;&#101;&#114;&#44;&#109;&#111;&#110;&#111;&#115;&#112;&#97;&#99;&#101;&#59;\">&#123;&#49;&#51;&#52;&#48;&#49;&#44;&#32;&#55;&#125;</pre></div>"
      ],
      "text/plain": [
       "{13401, 7}"
      ]
     },
     "execution_count": 10,
     "metadata": {
      "text/html": [],
      "text/plain": []
     },
     "output_type": "execute_result"
    }
   ],
   "source": [
    "Dimensions[Data]"
   ]
  },
  {
   "cell_type": "markdown",
   "metadata": {},
   "source": [
    "### Измерения акселерометров:\n",
    "\\begin{eqnarray*}\n",
    "f' = \\left( \\begin{array}{c}\n",
    "         f_{1}' \\cr\n",
    "          f_{2}'  \\cr\n",
    "          f_{3}'\n",
    "        \\end{array} \\right) =\n",
    "\\left( \\begin{array}{c}\n",
    "         f_{X}' \\cr\n",
    "          f_{Y}'  \\cr\n",
    "          f_{Z}'\n",
    "        \\end{array} \\right)\n",
    "        =\n",
    "        \\left( \\begin{array}{c}\n",
    "         f_{z_1} \\cr\n",
    "          f_{z_2}  \\cr\n",
    "          f_{z_3}\n",
    "        \\end{array} \\right) +\n",
    " \\left( \\begin{array}{c}\n",
    "         \\Delta f^0_{1} \\cr\n",
    "         \\Delta f^0_{2} \\cr\n",
    "         \\Delta f^0_{3}\n",
    "  \\end{array} \\right)\n",
    "+\n",
    " \\left( \\begin{array}{c}\n",
    "         \\Delta f^s_{1} \\cr\n",
    "         \\Delta f^s_{2} \\cr\n",
    "         \\Delta f^s_{3}\n",
    "\\end{array} \\right)\n",
    ".\n",
    "\\end{eqnarray*}"
   ]
  },
  {
   "cell_type": "markdown",
   "metadata": {},
   "source": [
    "здесь:\n",
    "$\\Delta f^0_{i} $  -- суммарные систематические погрешности акселерометров. <br>\n",
    "$\\Delta f^s_{i} $ -- случайные, шумовые погрешности.<br>\n",
    "$f_{z_i},\\, i = 1,2,3$ -- полезный сигнал акселерометров в осях $Mr$."
   ]
  },
  {
   "cell_type": "code",
   "execution_count": 11,
   "metadata": {},
   "outputs": [],
   "source": [
    "fData = Transpose[Transpose[Data][[2;;4]]];"
   ]
  },
  {
   "cell_type": "code",
   "execution_count": 12,
   "metadata": {},
   "outputs": [
    {
     "data": {
      "text/html": [
       "<div><img alt=\"Output\" src=\"data:image/png;base64,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\"></div>"
      ],
      "text/plain": [
       "0.0803393   0.0452357   -9.81093\n",
       "\n",
       "0.0827868   0.0360613   -9.81479\n",
       "\n",
       "0.0804516   0.0373168   -9.81551\n",
       "\n",
       "0.0805471   0.0393661   -9.81124\n",
       "\n",
       "0.078585    0.0275963   -9.81807"
      ]
     },
     "execution_count": 12,
     "metadata": {
      "text/html": [],
      "text/plain": []
     },
     "output_type": "execute_result"
    }
   ],
   "source": [
    "fData[[1;;5]] // MatrixForm"
   ]
  },
  {
   "cell_type": "markdown",
   "metadata": {},
   "source": [
    "Определние среднего значения  $g'$\n",
    "$$g'=\\sqrt{\\sum_{i=1}^{3} f'^2_i}  $$"
   ]
  },
  {
   "cell_type": "code",
   "execution_count": 13,
   "metadata": {},
   "outputs": [],
   "source": [
    "ValuesG = {};"
   ]
  },
  {
   "cell_type": "code",
   "execution_count": 14,
   "metadata": {},
   "outputs": [],
   "source": [
    "For[i = 1, i <= Dimensions[fData][[1]], i++, AppendTo[ValuesG, Sqrt[fData[[i]][[1]]^2+fData[[i]][[2]]^2+fData[[i]][[3]]^2]]]"
   ]
  },
  {
   "cell_type": "code",
   "execution_count": 15,
   "metadata": {},
   "outputs": [
    {
     "data": {
      "text/html": [
       "<div><img alt=\"Output\" src=\"data:image/png;base64,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\"></div>"
      ],
      "text/plain": [
       "9.81136\n",
       "\n",
       "9.8152\n",
       "\n",
       "9.81591\n",
       "\n",
       "9.81165\n",
       "\n",
       "9.81843"
      ]
     },
     "execution_count": 15,
     "metadata": {
      "text/html": [],
      "text/plain": []
     },
     "output_type": "execute_result"
    }
   ],
   "source": [
    "ValuesG[[1;;5]] // MatrixForm"
   ]
  },
  {
   "cell_type": "markdown",
   "metadata": {},
   "source": [
    "Среднее значение  ${\\widetilde g}$"
   ]
  },
  {
   "cell_type": "code",
   "execution_count": 16,
   "metadata": {},
   "outputs": [
    {
     "data": {
      "text/html": [
       "<div><pre style=\"&#102;&#111;&#110;&#116;&#45;&#102;&#97;&#109;&#105;&#108;&#121;&#58;&#32;&#34;&#67;&#111;&#117;&#114;&#105;&#101;&#114;&#32;&#78;&#101;&#119;&#34;&#44;&#67;&#111;&#117;&#114;&#105;&#101;&#114;&#44;&#109;&#111;&#110;&#111;&#115;&#112;&#97;&#99;&#101;&#59;\">&#57;&#46;&#56;&#49;&#52;&#54;&#52;</pre></div>"
      ],
      "text/plain": [
       "9.81464"
      ]
     },
     "execution_count": 16,
     "metadata": {
      "text/html": [],
      "text/plain": []
     },
     "output_type": "execute_result"
    }
   ],
   "source": [
    "meanG = Mean[ValuesG]"
   ]
  },
  {
   "cell_type": "markdown",
   "metadata": {},
   "source": [
    "Определение среднего значения ${\\widetilde f}_{i} $\n",
    "$$ {\\widetilde f}_{i}=\\sum_{K=1}^{N} f'^2_i(t_k), i=1,2,3  $$"
   ]
  },
  {
   "cell_type": "code",
   "execution_count": 17,
   "metadata": {},
   "outputs": [],
   "source": [
    "meanF = {};"
   ]
  },
  {
   "cell_type": "code",
   "execution_count": 18,
   "metadata": {},
   "outputs": [],
   "source": [
    "For[i = 1, i <= Dimensions[fData][[2]], i++, AppendTo[meanF, Mean[Transpose[fData][[i]]]]]"
   ]
  },
  {
   "cell_type": "markdown",
   "metadata": {},
   "source": [
    " Вычислим средние значения показаний акселерометров:\n",
    "$$\n",
    "\\begin{eqnarray*}\n",
    "{\\widetilde f}_{i}  &=& \\frac{ \\sum\\limits_{k=1}^N f'_{i}(k) }{N},\n",
    "\\qquad (i=1,2,3).\n",
    "\\end{eqnarray*}\n",
    "$$"
   ]
  },
  {
   "cell_type": "code",
   "execution_count": 19,
   "metadata": {},
   "outputs": [
    {
     "data": {
      "text/html": [
       "<div><pre style=\"&#102;&#111;&#110;&#116;&#45;&#102;&#97;&#109;&#105;&#108;&#121;&#58;&#32;&#34;&#67;&#111;&#117;&#114;&#105;&#101;&#114;&#32;&#78;&#101;&#119;&#34;&#44;&#67;&#111;&#117;&#114;&#105;&#101;&#114;&#44;&#109;&#111;&#110;&#111;&#115;&#112;&#97;&#99;&#101;&#59;\">&#123;&#48;&#46;&#48;&#56;&#48;&#49;&#50;&#54;&#50;&#44;&#32;&#48;&#46;&#48;&#51;&#54;&#51;&#54;&#44;&#32;&#45;&#57;&#46;&#56;&#49;&#52;&#50;&#52;&#125;</pre></div>"
      ],
      "text/plain": [
       "{0.0801262, 0.03636, -9.81424}"
      ]
     },
     "execution_count": 19,
     "metadata": {
      "text/html": [],
      "text/plain": []
     },
     "output_type": "execute_result"
    }
   ],
   "source": [
    "meanF "
   ]
  },
  {
   "cell_type": "markdown",
   "metadata": {},
   "source": [
    " Определение угла тангажа $\\vartheta$.\n",
    "$$\n",
    "\\begin{eqnarray*}\n",
    "f_{z} =\n",
    "\\left( \\begin{array}{c}\n",
    "  f_X \\cr\n",
    "f_Y\\cr\n",
    "f_Z\n",
    "\\end{array} \\right) =\n",
    "g\\left( \\begin{array}{c}\n",
    "  \\sin \\vartheta \\cr\n",
    "\\phantom{-} \\cos \\vartheta \\cos \\gamma \\cr\n",
    "- \\cos \\vartheta \\sin \\gamma\n",
    "\\end{array} \\right) \\Rightarrow\n",
    "\\widetilde{\\vartheta} =  \\arctan \\left(\\frac{\\widetilde{f}_{X}}{\n",
    "\\sqrt{\\widetilde{f}^2_{Y}+\\widetilde{f}^2_{Z}}} \\right).\n",
    "\\end{eqnarray*}\n",
    "$$"
   ]
  },
  {
   "cell_type": "markdown",
   "metadata": {},
   "source": [
    "Используя информацию о модельном значении $g'$ ускорения силы тяжести. Тогда\n",
    "\\begin{eqnarray*}\n",
    "\\widetilde{\\vartheta} =  \\arcsin\\left( \\frac{\\widetilde{f}_{X}}{g'}\\right).\n",
    "\\end{eqnarray*}\n"
   ]
  },
  {
   "cell_type": "code",
   "execution_count": 20,
   "metadata": {},
   "outputs": [
    {
     "data": {
      "text/html": [
       "<div><pre style=\"&#102;&#111;&#110;&#116;&#45;&#102;&#97;&#109;&#105;&#108;&#121;&#58;&#32;&#34;&#67;&#111;&#117;&#114;&#105;&#101;&#114;&#32;&#78;&#101;&#119;&#34;&#44;&#67;&#111;&#117;&#114;&#105;&#101;&#114;&#44;&#109;&#111;&#110;&#111;&#115;&#112;&#97;&#99;&#101;&#59;\">&#48;&#46;&#48;&#48;&#56;&#49;&#54;&#52;&#48;&#52;</pre></div>"
      ],
      "text/plain": [
       "0.00816404"
      ]
     },
     "execution_count": 20,
     "metadata": {
      "text/html": [],
      "text/plain": []
     },
     "output_type": "execute_result"
    }
   ],
   "source": [
    "Thetaf = ArcSin[meanF[[1]]/meanG]"
   ]
  },
  {
   "cell_type": "markdown",
   "metadata": {},
   "source": [
    "\n",
    "Определение  угла крена\n",
    "\\begin{eqnarray*}\n",
    "f_{z} =\n",
    "\\left( \\begin{array}{c}\n",
    "  f_X \\cr\n",
    "f_Y\\cr\n",
    "f_Z\n",
    "\\end{array} \\right) =\n",
    "g\\left( \\begin{array}{c}\n",
    "  \\sin \\vartheta \\cr\n",
    "\\phantom{-} \\cos \\vartheta \\cos \\gamma \\cr\n",
    "- \\cos \\vartheta \\sin \\gamma\n",
    "\\end{array} \\right) \\Rightarrow \\widetilde{\\gamma} =  - \\arctan\\left( \\frac{\\widetilde{f}_{Z}}{\\widetilde{f}_{Y}}\n",
    "\\right).\n",
    "\\end{eqnarray*}\n"
   ]
  },
  {
   "cell_type": "markdown",
   "metadata": {},
   "source": [
    "Используя информацию о модельном значении $g'$ ускорения силы тяжести. Тогда\n",
    "\\begin{eqnarray*}\n",
    "\\widetilde{\\gamma} =  - \\arcsin\\left( \\frac{\\widetilde{f}_{Z}}{g' \\cos\n",
    "\\widetilde \\vartheta} \\right).\n",
    "\\end{eqnarray*}"
   ]
  },
  {
   "cell_type": "code",
   "execution_count": 21,
   "metadata": {},
   "outputs": [
    {
     "data": {
      "text/html": [
       "<div><pre style=\"&#102;&#111;&#110;&#116;&#45;&#102;&#97;&#109;&#105;&#108;&#121;&#58;&#32;&#34;&#67;&#111;&#117;&#114;&#105;&#101;&#114;&#32;&#78;&#101;&#119;&#34;&#44;&#67;&#111;&#117;&#114;&#105;&#101;&#114;&#44;&#109;&#111;&#110;&#111;&#115;&#112;&#97;&#99;&#101;&#59;\">&#49;&#46;&#53;&#54;&#55;</pre></div>"
      ],
      "text/plain": [
       "1.567"
      ]
     },
     "execution_count": 21,
     "metadata": {
      "text/html": [],
      "text/plain": []
     },
     "output_type": "execute_result"
    }
   ],
   "source": [
    "Gammaf = -ArcSin[meanF[[3]]/(meanG*Cos[Thetaf])]"
   ]
  },
  {
   "cell_type": "markdown",
   "metadata": {},
   "source": [
    "Представим матрицу $\\widetilde L$ \"по столбцам\":\n",
    "$\\widetilde L =(\\widetilde l_1,\\widetilde l_2,\\widetilde l_3 )^T$."
   ]
  },
  {
   "cell_type": "markdown",
   "metadata": {},
   "source": [
    "Имеем (третий столбец)\n",
    "\\begin{eqnarray*}\n",
    "l_3 =\n",
    " \\left( \\begin{array}{c}\n",
    " \\sin \\vartheta \\cr\n",
    " \\phantom{-} \\cos \\vartheta \\cos \\gamma \\cr\n",
    " - \\cos \\vartheta \\sin  \\gamma\n",
    "\\end{array} \\right) \\Longrightarrow\n",
    "\\widetilde l_3 =\n",
    " \\left( \\begin{array}{c}\n",
    " \\widetilde l_{13} \\cr\n",
    " \\widetilde l_{23} \\cr\n",
    " \\widetilde l_{33}\n",
    "\\end{array} \\right)\n",
    "=\n",
    " \\left( \\begin{array}{c}\n",
    " \\sin \\widetilde \\vartheta \\cr\n",
    " \\phantom{-} \\cos \\widetilde \\vartheta \\cos \\widetilde \\gamma \\cr\n",
    " - \\cos \\widetilde\n",
    "\\vartheta \\sin \\widetilde \\gamma\n",
    "\\end{array} \\right),\n",
    "\\end{eqnarray*}"
   ]
  },
  {
   "cell_type": "code",
   "execution_count": 22,
   "metadata": {},
   "outputs": [
    {
     "data": {
      "text/html": [
       "<div><pre style=\"&#102;&#111;&#110;&#116;&#45;&#102;&#97;&#109;&#105;&#108;&#121;&#58;&#32;&#34;&#67;&#111;&#117;&#114;&#105;&#101;&#114;&#32;&#78;&#101;&#119;&#34;&#44;&#67;&#111;&#117;&#114;&#105;&#101;&#114;&#44;&#109;&#111;&#110;&#111;&#115;&#112;&#97;&#99;&#101;&#59;\">&#123;&#48;&#46;&#48;&#48;&#56;&#49;&#54;&#51;&#57;&#53;&#44;&#32;&#48;&#46;&#48;&#48;&#51;&#55;&#57;&#50;&#54;&#54;&#44;&#32;&#45;&#48;&#46;&#57;&#57;&#57;&#57;&#53;&#57;&#125;</pre></div>"
      ],
      "text/plain": [
       "{0.00816395, 0.00379266, -0.999959}"
      ]
     },
     "execution_count": 22,
     "metadata": {
      "text/html": [],
      "text/plain": []
     },
     "output_type": "execute_result"
    }
   ],
   "source": [
    "l3 = {Sin[Thetaf], Cos[Thetaf]*Cos[Gammaf], -Cos[Thetaf]*Sin[Gammaf]}"
   ]
  },
  {
   "cell_type": "markdown",
   "metadata": {},
   "source": [
    "### Измерения ДУС:\n",
    "\\begin{eqnarray*}\n",
    "\\omega' = \\left( \\begin{array}{c}\n",
    "         \\omega_{1}' \\cr\n",
    "          \\omega_{2}'  \\cr\n",
    "          \\omega_{3}'\n",
    "        \\end{array} \\right) =\n",
    "\\left( \\begin{array}{c}\n",
    "         \\omega_{X}' \\cr\n",
    "          \\omega_{Y}'  \\cr\n",
    "          \\omega_{Z}'\n",
    "        \\end{array} \\right)\n",
    "        =\n",
    "        \\left( \\begin{array}{c}\n",
    "         \\omega_{z_1} \\cr\n",
    "          \\omega_{z_2}  \\cr\n",
    "          \\omega_{z_3}\n",
    "        \\end{array} \\right) -\n",
    "\\underbrace{        \\left[\n",
    " \\left( \\begin{array}{c}\n",
    "         \\nu^0_{1} \\cr\n",
    "         \\nu^0_{2} \\cr\n",
    "         \\nu^0_{3}\n",
    "  \\end{array} \\right)\n",
    "+\n",
    " \\left( \\begin{array}{c}\n",
    "         \\nu^s_{1} \\cr\n",
    "         \\nu^s_{2} \\cr\n",
    "         \\nu^s_{3}\n",
    "\\end{array} \\right)\n",
    "\\right]}_{\\nu_z}\n",
    ".\n",
    "\\end{eqnarray*}"
   ]
  },
  {
   "cell_type": "markdown",
   "metadata": {},
   "source": [
    "здесь: \n",
    " $\\nu_{z}$ -- суммарный дрейф ДУС; <br>\n",
    " $\\nu^0_{i}$ -- суммарные систематические погрешности ДУС, к которым добавляются случайные, шумовые погрешности $\\nu^s_{i}$.\n"
   ]
  },
  {
   "cell_type": "code",
   "execution_count": 23,
   "metadata": {},
   "outputs": [],
   "source": [
    "wData = Transpose[Transpose[Data][[5;;7]]];"
   ]
  },
  {
   "cell_type": "code",
   "execution_count": 24,
   "metadata": {},
   "outputs": [
    {
     "data": {
      "text/html": [
       "<div><img alt=\"Output\" src=\"data:image/png;base64,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\"></div>"
      ],
      "text/plain": [
       "0.0017816       0.000226156     -0.0000484736\n",
       "\n",
       "-0.00169189     -0.0000239677   -0.0000914014\n",
       "\n",
       "0.00102736      -0.0000781444   -0.000055627\n",
       "\n",
       "0.000139306     -0.000190678    0.0000339073\n",
       "\n",
       "-0.000388731    -0.000192895    -0.000144646"
      ]
     },
     "execution_count": 24,
     "metadata": {
      "text/html": [],
      "text/plain": []
     },
     "output_type": "execute_result"
    }
   ],
   "source": [
    "wData[[1;;5]] // MatrixForm"
   ]
  },
  {
   "cell_type": "markdown",
   "metadata": {},
   "source": [
    "Вычислим средние значения показаний ДУС\n",
    "$\\widetilde \\omega =(\\widetilde \\omega_{X}, \\widetilde \\omega_{Y},\n",
    "\\widetilde \\omega_{Z})^T$:\n",
    "\\begin{eqnarray*}\n",
    "{\\widetilde \\omega}_{i}  &=& \\frac{ \\sum\\limits_{k=1}^N \\omega'_{i}(k) }{N},\n",
    "\\qquad (i=1,2,3).\n",
    "\\end{eqnarray*}\n"
   ]
  },
  {
   "cell_type": "code",
   "execution_count": 25,
   "metadata": {},
   "outputs": [],
   "source": [
    "meanW = {};"
   ]
  },
  {
   "cell_type": "code",
   "execution_count": 26,
   "metadata": {},
   "outputs": [],
   "source": [
    "For[i = 1, i <= Dimensions[wData][[2]], i++, AppendTo[meanW, Mean[Transpose[wData][[i]]]]]"
   ]
  },
  {
   "cell_type": "markdown",
   "metadata": {},
   "source": [
    "Среднее значение  $\\widetilde \\omega$"
   ]
  },
  {
   "cell_type": "code",
   "execution_count": 27,
   "metadata": {},
   "outputs": [
    {
     "data": {
      "text/html": [
       "<div><pre style=\"&#102;&#111;&#110;&#116;&#45;&#102;&#97;&#109;&#105;&#108;&#121;&#58;&#32;&#34;&#67;&#111;&#117;&#114;&#105;&#101;&#114;&#32;&#78;&#101;&#119;&#34;&#44;&#67;&#111;&#117;&#114;&#105;&#101;&#114;&#44;&#109;&#111;&#110;&#111;&#115;&#112;&#97;&#99;&#101;&#59;\">&#123;&#45;&#48;&#46;&#48;&#48;&#48;&#48;&#51;&#56;&#53;&#52;&#55;&#44;&#32;&#48;&#46;&#48;&#48;&#48;&#48;&#49;&#50;&#51;&#52;&#57;&#51;&#44;&#32;&#45;&#48;&#46;&#48;&#48;&#48;&#48;&#54;&#48;&#54;&#49;&#52;&#54;&#125;</pre></div>"
      ],
      "text/plain": [
       "{-0.000038547, 0.0000123493, -0.0000606146}"
      ]
     },
     "execution_count": 27,
     "metadata": {
      "text/html": [],
      "text/plain": []
     },
     "output_type": "execute_result"
    }
   ],
   "source": [
    "meanW "
   ]
  },
  {
   "cell_type": "markdown",
   "metadata": {},
   "source": [
    "Угловая скорость вращения земли:"
   ]
  },
  {
   "cell_type": "code",
   "execution_count": 28,
   "metadata": {},
   "outputs": [
    {
     "data": {
      "text/html": [
       "<div><pre style=\"&#102;&#111;&#110;&#116;&#45;&#102;&#97;&#109;&#105;&#108;&#121;&#58;&#32;&#34;&#67;&#111;&#117;&#114;&#105;&#101;&#114;&#32;&#78;&#101;&#119;&#34;&#44;&#67;&#111;&#117;&#114;&#105;&#101;&#114;&#44;&#109;&#111;&#110;&#111;&#115;&#112;&#97;&#99;&#101;&#59;\">&#48;&#46;&#48;&#48;&#48;&#48;&#55;&#50;&#57;&#50;&#49;&#50;</pre></div>"
      ],
      "text/plain": [
       "0.0000729212"
      ]
     },
     "execution_count": 28,
     "metadata": {
      "text/html": [],
      "text/plain": []
     },
     "output_type": "execute_result"
    }
   ],
   "source": [
    "u = 7.2921157*10^(-5)"
   ]
  },
  {
   "cell_type": "markdown",
   "metadata": {},
   "source": [
    "Спроектируем на оси $Mx$ средние значения $\\widetilde \\omega$ показаний ДУС\n",
    "\\begin{eqnarray*}\n",
    "{\\widetilde \\omega}_x =\n",
    "\\underbrace{\\left(\n",
    "\\begin{array}{ccc}\n",
    "0 & \\sin \\widetilde \\gamma  &   \\cos \\widetilde \\gamma \\cr\n",
    "\\cos \\widetilde \\vartheta  & -  \\sin \\widetilde \\vartheta\n",
    "\\cos \\widetilde \\gamma &  \\phantom{-}  \\sin \\widetilde\\vartheta \\sin \\widetilde \\gamma \\cr\n",
    "\\sin \\widetilde \\vartheta &  \\phantom{-} \\cos \\widetilde\\vartheta\n",
    "\\cos \\widetilde \\gamma &  -\\cos \\widetilde \\vartheta \\sin \\widetilde \\gamma\n",
    "\\end{array} \\right)}_{\\widetilde B_{xr}} \\widetilde \\omega.\n",
    "\\end{eqnarray*}\n"
   ]
  },
  {
   "cell_type": "code",
   "execution_count": 29,
   "metadata": {},
   "outputs": [],
   "source": [
    "Bxr = {{0, Sin[Gammaf], Cos[Gammaf]},\n",
    "        {Cos[Thetaf], -Sin[Thetaf]*Cos[Gammaf], Sin[Thetaf]*Sin[Gammaf]},\n",
    "        {Sin[Thetaf], Cos[Thetaf]*Cos[Gammaf], -Cos[Thetaf]*Sin[Gammaf]}};"
   ]
  },
  {
   "cell_type": "code",
   "execution_count": 30,
   "metadata": {},
   "outputs": [
    {
     "data": {
      "text/html": [
       "<div><pre style=\"&#102;&#111;&#110;&#116;&#45;&#102;&#97;&#109;&#105;&#108;&#121;&#58;&#32;&#34;&#67;&#111;&#117;&#114;&#105;&#101;&#114;&#32;&#78;&#101;&#119;&#34;&#44;&#67;&#111;&#117;&#114;&#105;&#101;&#114;&#44;&#109;&#111;&#110;&#111;&#115;&#112;&#97;&#99;&#101;&#59;\">&#123;&#48;&#46;&#48;&#48;&#48;&#48;&#49;&#50;&#49;&#49;&#57;&#51;&#44;&#32;&#45;&#48;&#46;&#48;&#48;&#48;&#48;&#51;&#57;&#48;&#52;&#49;&#44;&#32;&#48;&#46;&#48;&#48;&#48;&#48;&#54;&#48;&#51;&#52;&#52;&#51;&#125;</pre></div>"
      ],
      "text/plain": [
       "{0.0000121193, -0.000039041, 0.0000603443}"
      ]
     },
     "execution_count": 30,
     "metadata": {
      "text/html": [],
      "text/plain": []
     },
     "output_type": "execute_result"
    }
   ],
   "source": [
    "wx = Bxr.meanW "
   ]
  },
  {
   "cell_type": "markdown",
   "metadata": {},
   "source": [
    "Тогда\\begin{eqnarray*}\n",
    "\\widetilde \\omega_x = \\left(\n",
    "\\begin{array}{c}\n",
    "- u \\cos \\widetilde \\varphi \\sin \\widetilde \\psi \\cr\n",
    "\\phantom{-} u \\cos \\widetilde \\varphi \\cos \\widetilde \\psi \\cr\n",
    "u \\sin \\widetilde \\varphi\n",
    "\\end{array}\n",
    "\\right) \\Longrightarrow\n",
    "\\widetilde  \\psi = -\\arctan\\frac{{\\widetilde \\omega}_{x_1}}{{\\widetilde \\omega}_{x_2}} , \\quad\n",
    "\\widetilde \\varphi = \\arctan \\left( \\frac{{\\widetilde \\omega}_{x_3}}{\\sqrt{{\\widetilde \\omega}^2_{x_1}+{\\widetilde \\omega}^2_{x_2}}} \\right).\n",
    "\\end{eqnarray*}"
   ]
  },
  {
   "cell_type": "code",
   "execution_count": 31,
   "metadata": {},
   "outputs": [
    {
     "data": {
      "text/html": [
       "<div><pre style=\"&#102;&#111;&#110;&#116;&#45;&#102;&#97;&#109;&#105;&#108;&#121;&#58;&#32;&#34;&#67;&#111;&#117;&#114;&#105;&#101;&#114;&#32;&#78;&#101;&#119;&#34;&#44;&#67;&#111;&#117;&#114;&#105;&#101;&#114;&#44;&#109;&#111;&#110;&#111;&#115;&#112;&#97;&#99;&#101;&#59;\">&#49;&#46;&#50;&#54;&#57;&#56;</pre></div>"
      ],
      "text/plain": [
       "1.2698"
      ]
     },
     "execution_count": 31,
     "metadata": {
      "text/html": [],
      "text/plain": []
     },
     "output_type": "execute_result"
    }
   ],
   "source": [
    "Psiw = -ArcTan[wx[[1]], wx[[2]]]"
   ]
  },
  {
   "cell_type": "code",
   "execution_count": 32,
   "metadata": {},
   "outputs": [
    {
     "data": {
      "text/html": [
       "<div><pre style=\"&#102;&#111;&#110;&#116;&#45;&#102;&#97;&#109;&#105;&#108;&#121;&#58;&#32;&#34;&#67;&#111;&#117;&#114;&#105;&#101;&#114;&#32;&#78;&#101;&#119;&#34;&#44;&#67;&#111;&#117;&#114;&#105;&#101;&#114;&#44;&#109;&#111;&#110;&#111;&#115;&#112;&#97;&#99;&#101;&#59;\">&#48;&#46;&#50;&#55;&#54;&#55;&#51;&#55;</pre></div>"
      ],
      "text/plain": [
       "0.276737"
      ]
     },
     "execution_count": 32,
     "metadata": {
      "text/html": [],
      "text/plain": []
     },
     "output_type": "execute_result"
    }
   ],
   "source": [
    "Phiw = ArcTan[wx[[3]], Sqrt[wx[[1]]^2+wx[[1]]^2]]"
   ]
  },
  {
   "cell_type": "markdown",
   "metadata": {},
   "source": [
    "### Результаты в градусах:"
   ]
  },
  {
   "cell_type": "markdown",
   "metadata": {},
   "source": [
    "##### Географическая широта места $\\widetilde \\varphi = $"
   ]
  },
  {
   "cell_type": "code",
   "execution_count": 33,
   "metadata": {},
   "outputs": [
    {
     "data": {
      "text/html": [
       "<div><pre style=\"&#102;&#111;&#110;&#116;&#45;&#102;&#97;&#109;&#105;&#108;&#121;&#58;&#32;&#34;&#67;&#111;&#117;&#114;&#105;&#101;&#114;&#32;&#78;&#101;&#119;&#34;&#44;&#67;&#111;&#117;&#114;&#105;&#101;&#114;&#44;&#109;&#111;&#110;&#111;&#115;&#112;&#97;&#99;&#101;&#59;\">&#123;&#49;&#53;&#44;&#32;&#53;&#49;&#44;&#32;&#50;&#49;&#46;&#49;&#55;&#54;&#50;&#125;</pre></div>"
      ],
      "text/plain": [
       "{15, 51, 21.1762}"
      ]
     },
     "execution_count": 33,
     "metadata": {
      "text/html": [],
      "text/plain": []
     },
     "output_type": "execute_result"
    }
   ],
   "source": [
    "{Floor[Phiw*180/Pi],\n",
    " Floor[Mod[Phiw*180/Pi, 1]*60],\n",
    " Mod[Mod[Phiw*180/Pi, 1]*60, 1]*60}"
   ]
  },
  {
   "cell_type": "markdown",
   "metadata": {},
   "source": [
    "##### Угол истинного курса $ \\widetilde \\psi = $"
   ]
  },
  {
   "cell_type": "code",
   "execution_count": 34,
   "metadata": {},
   "outputs": [
    {
     "data": {
      "text/html": [
       "<div><pre style=\"&#102;&#111;&#110;&#116;&#45;&#102;&#97;&#109;&#105;&#108;&#121;&#58;&#32;&#34;&#67;&#111;&#117;&#114;&#105;&#101;&#114;&#32;&#78;&#101;&#119;&#34;&#44;&#67;&#111;&#117;&#114;&#105;&#101;&#114;&#44;&#109;&#111;&#110;&#111;&#115;&#112;&#97;&#99;&#101;&#59;\">&#123;&#55;&#50;&#44;&#32;&#52;&#53;&#44;&#32;&#49;&#53;&#46;&#53;&#48;&#50;&#56;&#125;</pre></div>"
      ],
      "text/plain": [
       "{72, 45, 15.5028}"
      ]
     },
     "execution_count": 34,
     "metadata": {
      "text/html": [],
      "text/plain": []
     },
     "output_type": "execute_result"
    }
   ],
   "source": [
    "{Floor[Psiw*180/Pi],\n",
    " Floor[Mod[Psiw*180/Pi, 1]*60],\n",
    " Mod[Mod[Psiw*180/Pi, 1]*60, 1]*60}"
   ]
  },
  {
   "cell_type": "markdown",
   "metadata": {},
   "source": [
    "##### Угол крена $\\widetilde{\\gamma} = $"
   ]
  },
  {
   "cell_type": "code",
   "execution_count": 35,
   "metadata": {},
   "outputs": [
    {
     "data": {
      "text/html": [
       "<div><pre style=\"&#102;&#111;&#110;&#116;&#45;&#102;&#97;&#109;&#105;&#108;&#121;&#58;&#32;&#34;&#67;&#111;&#117;&#114;&#105;&#101;&#114;&#32;&#78;&#101;&#119;&#34;&#44;&#67;&#111;&#117;&#114;&#105;&#101;&#114;&#44;&#109;&#111;&#110;&#111;&#115;&#112;&#97;&#99;&#101;&#59;\">&#123;&#56;&#57;&#44;&#32;&#52;&#54;&#44;&#32;&#53;&#55;&#46;&#54;&#55;&#57;&#52;&#125;</pre></div>"
      ],
      "text/plain": [
       "{89, 46, 57.6794}"
      ]
     },
     "execution_count": 35,
     "metadata": {
      "text/html": [],
      "text/plain": []
     },
     "output_type": "execute_result"
    }
   ],
   "source": [
    "{Floor[Gammaf*180/Pi],\n",
    " Floor[Mod[Gammaf*180/Pi, 1]*60],\n",
    " Mod[Mod[Gammaf*180/Pi, 1]*60, 1]*60}"
   ]
  },
  {
   "cell_type": "markdown",
   "metadata": {},
   "source": [
    "##### Угол тангажа $ \\widetilde\\vartheta = $"
   ]
  },
  {
   "cell_type": "code",
   "execution_count": 36,
   "metadata": {},
   "outputs": [
    {
     "data": {
      "text/html": [
       "<div><pre style=\"&#102;&#111;&#110;&#116;&#45;&#102;&#97;&#109;&#105;&#108;&#121;&#58;&#32;&#34;&#67;&#111;&#117;&#114;&#105;&#101;&#114;&#32;&#78;&#101;&#119;&#34;&#44;&#67;&#111;&#117;&#114;&#105;&#101;&#114;&#44;&#109;&#111;&#110;&#111;&#115;&#112;&#97;&#99;&#101;&#59;\">&#123;&#48;&#44;&#32;&#50;&#56;&#44;&#32;&#51;&#46;&#57;&#53;&#51;&#54;&#50;&#125;</pre></div>"
      ],
      "text/plain": [
       "{0, 28, 3.95362}"
      ]
     },
     "execution_count": 36,
     "metadata": {
      "text/html": [],
      "text/plain": []
     },
     "output_type": "execute_result"
    }
   ],
   "source": [
    "{Floor[Thetaf*180/Pi],\n",
    " Floor[Mod[Thetaf*180/Pi, 1]*60],\n",
    " Mod[Mod[Thetaf*180/Pi, 1]*60, 1]*60}"
   ]
  },
  {
   "cell_type": "markdown",
   "metadata": {},
   "source": [
    "### Графики накапливающихся средних значений показаний акселерометров, ДУС, а также соответствующих среднеквадратичных отклонений."
   ]
  },
  {
   "cell_type": "code",
   "execution_count": 37,
   "metadata": {},
   "outputs": [
    {
     "data": {
      "text/html": [
       "<div><img alt=\"Output\" src=\"data:image/png;base64,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\"></div>"
      ],
      "text/plain": [
       "192708.         0.0803393       0.0452357       -9.81093        0.0017816\n",
       " \n",
       ">    0.000226156     -0.0000484736\n",
       "\n",
       "192708.         0.0827868       0.0360613       -9.81479        -0.00169189     -0.00002\\\n",
       " \n",
       ">     39677   -0.0000914014\n",
       "\n",
       "192708.         0.0804516       0.0373168       -9.81551        0.00102736      -0.00007\\\n",
       " \n",
       ">     81444   -0.000055627\n",
       "\n",
       "192708.         0.0805471       0.0393661       -9.81124        0.000139306\n",
       " \n",
       ">    -0.000190678    0.0000339073\n",
       "\n",
       "192708.         0.078585        0.0275963       -9.81807        -0.000388731\n",
       " \n",
       ">    -0.000192895    -0.000144646"
      ]
     },
     "execution_count": 37,
     "metadata": {
      "text/html": [],
      "text/plain": []
     },
     "output_type": "execute_result"
    }
   ],
   "source": [
    "Data[[1;;5]] // MatrixForm"
   ]
  },
  {
   "cell_type": "markdown",
   "metadata": {},
   "source": [
    "Будем считать что первое измерение происходит в момент времени $t_0=0$"
   ]
  },
  {
   "cell_type": "code",
   "execution_count": 38,
   "metadata": {},
   "outputs": [],
   "source": [
    "DataGraph = Data;"
   ]
  },
  {
   "cell_type": "code",
   "execution_count": 39,
   "metadata": {},
   "outputs": [],
   "source": [
    "For[i=2, i <= Dimensions[DataGraph][[1]], i++, DataGraph[[i]][[1]] = Data[[i]][[1]]-Data[[1]][[1]]];\n",
    "DataGraph[[1]][[1]]=0;"
   ]
  },
  {
   "cell_type": "code",
   "execution_count": 41,
   "metadata": {},
   "outputs": [
    {
     "data": {
      "text/html": [
       "<div><img alt=\"Output\" src=\"data:image/png;base64,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\"></div>"
      ],
      "text/plain": [
       "0               0.0803393       0.0452357       -9.81093        0.0017816\n",
       " \n",
       ">    0.000226156     -0.0000484736\n",
       "\n",
       "0.0250008       0.0827868       0.0360613       -9.81479        -0.00169189     -0.00002\\\n",
       " \n",
       ">     39677   -0.0000914014\n",
       "\n",
       "0.0500008       0.0804516       0.0373168       -9.81551        0.00102736      -0.00007\\\n",
       " \n",
       ">     81444   -0.000055627\n",
       "\n",
       "0.0750015       0.0805471       0.0393661       -9.81124        0.000139306\n",
       " \n",
       ">    -0.000190678    0.0000339073\n",
       "\n",
       "0.100002        0.078585        0.0275963       -9.81807        -0.000388731\n",
       " \n",
       ">    -0.000192895    -0.000144646"
      ]
     },
     "execution_count": 41,
     "metadata": {
      "text/html": [],
      "text/plain": []
     },
     "output_type": "execute_result"
    }
   ],
   "source": [
    "DataGraph[[1;;5]] // MatrixForm"
   ]
  },
  {
   "cell_type": "code",
   "execution_count": 42,
   "metadata": {},
   "outputs": [
    {
     "data": {
      "text/html": [
       "<div><img alt=\"Output\" src=\"data:image/png;base64,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\"></div>"
      ],
      "text/plain": [
       "0           0.0803393\n",
       "\n",
       "0.0250008   0.0827868\n",
       "\n",
       "0.0500008   0.0804516\n",
       "\n",
       "0.0750015   0.0805471\n",
       "\n",
       "0.100002    0.078585"
      ]
     },
     "execution_count": 42,
     "metadata": {
      "text/html": [],
      "text/plain": []
     },
     "output_type": "execute_result"
    }
   ],
   "source": [
    "Transpose[Transpose[DataGraph][[{1, 2}]]][[1;;5]] // MatrixForm"
   ]
  },
  {
   "cell_type": "code",
   "execution_count": 43,
   "metadata": {},
   "outputs": [],
   "source": [
    "List2[col_] := Transpose[Transpose[DataGraph][[{1, col}]]]"
   ]
  },
  {
   "cell_type": "markdown",
   "metadata": {},
   "source": [
    "### Графики накапливающихся средних значений показаний акселерометров"
   ]
  },
  {
   "cell_type": "markdown",
   "metadata": {},
   "source": [
    "Вычисление математического ожидания:\n",
    "\\begin{eqnarray*}\n",
    "\\widetilde \\mu_0 & =& x_0, \\qquad  \\qquad  \\qquad \\ \\ j = 0, \\qquad  \\qquad \\ \\ n = 1, \\nonumber \\\\\n",
    "\\widetilde \\mu_{j} &=& \\frac{j \\cdot \\widetilde \\mu_{j-1} + x_{j}}{j+1},\\qquad j = 1, 2, \\ldots, \\qquad  n = j+1.\n",
    " \\end{eqnarray*}\n",
    " "
   ]
  },
  {
   "cell_type": "code",
   "execution_count": 44,
   "metadata": {},
   "outputs": [
    {
     "name": "stdout",
     "output_type": "stream",
     "text": [
      "0.0801262 estimate of f1\r\n"
     ]
    },
    {
     "data": {
      "text/html": [
       "<div><img alt=\"Output\" src=\"data:image/png;base64,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\"></div>"
      ],
      "text/plain": [
       "-Graphics-"
      ]
     },
     "execution_count": 49,
     "metadata": {
      "text/html": [],
      "text/plain": []
     },
     "output_type": "execute_result"
    }
   ],
   "source": [
    "column = 2;\n",
    "Pointsf1 = {};\n",
    "Listx1 = List2[column];\n",
    "AppendTo[Pointsf1, Listx1[[1]]];\n",
    "\n",
    "For[i=2, \n",
    "    i <= Dimensions[DataGraph][[1]], \n",
    "    i++, \n",
    "    AppendTo[Pointsf1, \n",
    "            {Listx1[[i]][[1]], ((i-1)*Pointsf1[[i-1]][[2]]+Listx1[[i]][[2]])/i}]];\n",
    "\n",
    "Show[ListPlot[Pointsf1, PlotStyle -> Blue,\n",
    "            PlotLabel -> Style[\"Среднее значение компоненты x1 показаний акселерометра, м/с2\", Bold], \n",
    "            AxesLabel -> {Style[\"t\", Medium, Bold], Style[\"x1\", Medium, Bold]}],\n",
    "     ImageSize -> 500]\n",
    "Print[\"estimate of f1\" Pointsf1[[Dimensions[DataGraph][[1]]]][[2]]]"
   ]
  },
  {
   "cell_type": "code",
   "execution_count": 51,
   "metadata": {},
   "outputs": [
    {
     "name": "stdout",
     "output_type": "stream",
     "text": [
      "0.03636 estimate of f2\r\n"
     ]
    },
    {
     "data": {
      "text/html": [
       "<div><img alt=\"Output\" src=\"data:image/png;base64,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\"></div>"
      ],
      "text/plain": [
       "-Graphics-"
      ]
     },
     "execution_count": 56,
     "metadata": {
      "text/html": [],
      "text/plain": []
     },
     "output_type": "execute_result"
    }
   ],
   "source": [
    "column = 3;\n",
    "Pointsf2 = {};\n",
    "Listx2 = List2[column];\n",
    "AppendTo[Pointsf2, Listx2[[1]]];\n",
    "\n",
    "For[i=2, \n",
    "    i <= Dimensions[DataGraph][[1]], \n",
    "    i++, \n",
    "    AppendTo[Pointsf2, \n",
    "            {Listx2[[i]][[1]], ((i-1)*Pointsf2[[i-1]][[2]]+Listx2[[i]][[2]])/i}]];\n",
    "\n",
    "Show[ListPlot[Pointsf2, PlotStyle -> Blue,\n",
    "            PlotLabel -> Style[\"Среднее значение компоненты x2 показаний акселерометра, м/с2\", Bold],\n",
    "            AxesLabel -> {Style[\"t\", Medium, Bold], Style[\"x2\", Medium, Bold]}],\n",
    "     ImageSize -> 500]\n",
    "Print[\"estimate of f2\" Pointsf2[[Dimensions[DataGraph][[1]]]][[2]]]"
   ]
  },
  {
   "cell_type": "code",
   "execution_count": 58,
   "metadata": {},
   "outputs": [
    {
     "name": "stdout",
     "output_type": "stream",
     "text": [
      "-9.81424 estimate of f3\r\n"
     ]
    },
    {
     "data": {
      "text/html": [
       "<div><img alt=\"Output\" src=\"data:image/png;base64,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\"></div>"
      ],
      "text/plain": [
       "-Graphics-"
      ]
     },
     "execution_count": 63,
     "metadata": {
      "text/html": [],
      "text/plain": []
     },
     "output_type": "execute_result"
    }
   ],
   "source": [
    "column = 4;\n",
    "Pointsf3 = {};\n",
    "Listx3 = List2[column];\n",
    "AppendTo[Pointsf3, Listx3[[1]]];\n",
    "\n",
    "For[i=2, \n",
    "    i <= Dimensions[DataGraph][[1]], \n",
    "    i++, \n",
    "    AppendTo[Pointsf3, \n",
    "            {Listx3[[i]][[1]], ((i-1)*Pointsf3[[i-1]][[2]]+Listx3[[i]][[2]])/i}]];\n",
    "\n",
    "Show[ListPlot[Pointsf3, PlotStyle -> Blue,\n",
    "            PlotLabel -> Style[\"Среднее значение компоненты x3 показаний акселерометра, м/с2\", Bold],\n",
    "            AxesLabel -> {Style[\"t\", Medium, Bold], Style[\"x3\", Medium, Bold]}],\n",
    "     ImageSize -> 500]\n",
    "Print[\"estimate of f3\" Pointsf3[[Dimensions[DataGraph][[1]]]][[2]]]"
   ]
  },
  {
   "cell_type": "markdown",
   "metadata": {},
   "source": [
    "### Графики накапливающихся средних значений показаний ДУС"
   ]
  },
  {
   "cell_type": "code",
   "execution_count": 65,
   "metadata": {},
   "outputs": [
    {
     "name": "stdout",
     "output_type": "stream",
     "text": [
      "-7.94354 estimate of w1\r\n"
     ]
    },
    {
     "data": {
      "text/html": [
       "<div><img alt=\"Output\" src=\"data:image/png;base64,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\"></div>"
      ],
      "text/plain": [
       "-Graphics-"
      ]
     },
     "execution_count": 72,
     "metadata": {
      "text/html": [],
      "text/plain": []
     },
     "output_type": "execute_result"
    }
   ],
   "source": [
    "column = 5;\n",
    "Pointsw1 = {};\n",
    "Pointsw11 = {};\n",
    "Listw1 = List2[column];\n",
    "AppendTo[Pointsw1, Listw1[[1]]];\n",
    "\n",
    "For[i=2, \n",
    "    i <= Dimensions[DataGraph][[1]], \n",
    "    i++, \n",
    "    AppendTo[Pointsw1, \n",
    "            {Listw1[[i]][[1]], ((i-1)*Pointsw1[[i-1]][[2]]+Listw1[[i]][[2]])/i}]];\n",
    "\n",
    "For[i=1, i < Dimensions[Pointsw1][[1]], i++, AppendTo[Pointsw11, {Pointsw1[[i]][[1]], Pointsw1[[i]][[2]]*180/Pi*3600}]];\n",
    "\n",
    "Show[ListPlot[Pointsw11, PlotStyle -> Blue,\n",
    "            PlotLabel -> Style[\"Среднее значение компоненты w1 показаний ДУС, рад/с\", Bold],\n",
    "            AxesLabel -> {Style[\"t\", Medium, Bold], Style[\"w1\", Medium, Bold]}],\n",
    "     ImageSize -> 500]\n",
    "Print[\"estimate of w1\" Pointsw11[[Dimensions[Pointsw11][[1]]]][[2]]]"
   ]
  },
  {
   "cell_type": "code",
   "execution_count": 74,
   "metadata": {},
   "outputs": [
    {
     "name": "stdout",
     "output_type": "stream",
     "text": [
      "2.54633 estimate of w2\r\n"
     ]
    },
    {
     "data": {
      "text/html": [
       "<div><img alt=\"Output\" src=\"data:image/png;base64,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\"></div>"
      ],
      "text/plain": [
       "-Graphics-"
      ]
     },
     "execution_count": 81,
     "metadata": {
      "text/html": [],
      "text/plain": []
     },
     "output_type": "execute_result"
    }
   ],
   "source": [
    "column = 6;\n",
    "Pointsw2 = {};\n",
    "Pointsw22 = {};\n",
    "Listw2 = List2[column];\n",
    "AppendTo[Pointsw2, Listw2[[1]]];\n",
    "\n",
    "For[i=2, \n",
    "    i <= Dimensions[DataGraph][[1]], \n",
    "    i++, \n",
    "    AppendTo[Pointsw2, \n",
    "            {Listw2[[i]][[1]], ((i-1)*Pointsw2[[i-1]][[2]]+Listw2[[i]][[2]])/i}]];\n",
    "\n",
    "For[i=1, i < Dimensions[Pointsw2][[1]], i++, AppendTo[Pointsw22, {Pointsw2[[i]][[1]], Pointsw2[[i]][[2]]*180/Pi*3600}]];\n",
    "\n",
    "Show[ListPlot[Pointsw22, PlotStyle -> Blue,\n",
    "            PlotLabel -> Style[\"Среднее значение компоненты w2 показаний ДУС, рад/с\", Bold],\n",
    "            AxesLabel -> {Style[\"t\", Medium, Bold], Style[\"w2\", Medium, Bold]}],\n",
    "     ImageSize -> 500]\n",
    "Print[\"estimate of w2\" Pointsw22[[Dimensions[Pointsw22][[1]]]][[2]]]"
   ]
  },
  {
   "cell_type": "code",
   "execution_count": 83,
   "metadata": {},
   "outputs": [
    {
     "name": "stdout",
     "output_type": "stream",
     "text": [
      "-12.5032 estimate of w3\r\n"
     ]
    },
    {
     "data": {
      "text/html": [
       "<div><img alt=\"Output\" src=\"data:image/png;base64,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\"></div>"
      ],
      "text/plain": [
       "-Graphics-"
      ]
     },
     "execution_count": 90,
     "metadata": {
      "text/html": [],
      "text/plain": []
     },
     "output_type": "execute_result"
    }
   ],
   "source": [
    "column = 7;\n",
    "Pointsw3 = {};\n",
    "Pointsw33 = {};\n",
    "Listw3 = List2[column];\n",
    "AppendTo[Pointsw3, Listw3[[1]]];\n",
    "\n",
    "For[i=2, \n",
    "    i <= Dimensions[DataGraph][[1]], \n",
    "    i++, \n",
    "    AppendTo[Pointsw3, \n",
    "            {Listw3[[i]][[1]], ((i-1)*Pointsw3[[i-1]][[2]]+Listw3[[i]][[2]])/i}]];\n",
    "\n",
    "For[i=1, i < Dimensions[Pointsw3][[1]], i++, AppendTo[Pointsw33, {Pointsw3[[i]][[1]], Pointsw3[[i]][[2]]*180/Pi*3600}]];\n",
    "\n",
    "Show[ListPlot[Pointsw33, PlotStyle -> Blue,\n",
    "            PlotLabel -> Style[\"Среднее значение компоненты w3 показаний ДУС, рад/с\", Bold],\n",
    "            AxesLabel -> {Style[\"t\", Medium, Bold], Style[\"w3\", Medium, Bold]}],\n",
    "     ImageSize -> 500]\n",
    "Print[\"estimate of w3\" Pointsw33[[Dimensions[Pointsw33][[1]]]][[2]]]"
   ]
  },
  {
   "cell_type": "markdown",
   "metadata": {},
   "source": [
    "### Графики накапливающихся среднеквадратичных отклонений показаний акселерометров"
   ]
  },
  {
   "cell_type": "markdown",
   "metadata": {},
   "source": [
    "Вычисление дисперсии:\n",
    "\n",
    "\\begin{eqnarray*}\n",
    "\\sigma^2_{1}  = \\frac{(x_0-x_1)^2}{2}.\n",
    " \\end{eqnarray*}\n",
    "при  $ j = 2, 3 \\ldots $\n",
    "\\begin{eqnarray*}\n",
    "\\widetilde \\sigma^2_{j} &=& \\left(1 - \\frac{1}{j}\\right)\\widetilde\n",
    "\\sigma^2_{j-1} + \\frac{\\left(x_{j} - \\widetilde\n",
    "\\mu_{j-1}\\right)^2}{j+1},  \\quad \\mbox{или}\n",
    "\\nonumber  \\\\\n",
    "\\widetilde \\sigma^2_{j} &=& \\left(1 - \\frac{1}{j}\\right)\\widetilde\n",
    "\\sigma^2_{j-1} + \\left(\\frac{x_{j} - \\widetilde\n",
    "\\mu_{j}}{j}\\right)^2(j+1).\n",
    " \\end{eqnarray*}\n"
   ]
  },
  {
   "cell_type": "code",
   "execution_count": 92,
   "metadata": {},
   "outputs": [
    {
     "name": "stdout",
     "output_type": "stream",
     "text": [
      "0.0000327275 Std of f1\r\n"
     ]
    },
    {
     "data": {
      "text/html": [
       "<div><img alt=\"Output\" src=\"data:image/png;base64,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\"></div>"
      ],
      "text/plain": [
       "-Graphics-"
      ]
     },
     "execution_count": 96,
     "metadata": {
      "text/html": [],
      "text/plain": []
     },
     "output_type": "execute_result"
    }
   ],
   "source": [
    "stdx11 = {Pointsf1[[2]][[1]], Sqrt[(Pointsf1[[1]][[2]]-Pointsf1[[2]][[2]])^2/2]};\n",
    "PointStdX1 = {};\n",
    "AppendTo[PointStdX1, stdx11];\n",
    "\n",
    "For[i=3, \n",
    "    i < Dimensions[DataGraph][[1]], \n",
    "    i++, \n",
    "    AppendTo[PointStdX1, \n",
    "            {Pointsf1[[i]][[1]], Sqrt[(1 - 1/(i-1))*(PointStdX1[[i-2]][[2]])^2+((Listx1[[i]][[2]]-Pointsf1[[i-1]][[2]])/(i-1))^2]}]];\n",
    "\n",
    "Show[ListPlot[PointStdX1, PlotStyle -> Blue,\n",
    "            PlotLabel -> Style[\"Значение Std  компоненты f1 показаний акселерометра, м/с2\", Bold],\n",
    "            AxesLabel -> {Style[\"t\", Medium, Bold], Style[\"Std f1\", Medium, Bold]}],\n",
    "     ImageSize -> 500]\n",
    "Print[\"Std of f1\" PointStdX1[[Dimensions[DataGraph][[1]]-2]][[2]]]"
   ]
  },
  {
   "cell_type": "code",
   "execution_count": 98,
   "metadata": {},
   "outputs": [
    {
     "name": "stdout",
     "output_type": "stream",
     "text": [
      "0.000201837 Std of f2\r\n"
     ]
    },
    {
     "data": {
      "text/html": [
       "<div><img alt=\"Output\" src=\"data:image/png;base64,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\"></div>"
      ],
      "text/plain": [
       "-Graphics-"
      ]
     },
     "execution_count": 102,
     "metadata": {
      "text/html": [],
      "text/plain": []
     },
     "output_type": "execute_result"
    }
   ],
   "source": [
    "stdx12 = {Pointsf2[[2]][[1]], Sqrt[(Pointsf2[[1]][[2]]-Pointsf2[[2]][[2]])^2/2]};\n",
    "PointStdX2 = {};\n",
    "AppendTo[PointStdX2, stdx12];\n",
    "\n",
    "For[i=3, \n",
    "    i < Dimensions[DataGraph][[1]], \n",
    "    i++, \n",
    "    AppendTo[PointStdX2, \n",
    "            {Pointsf2[[i]][[1]], Sqrt[(1 - 1/(i-1))*(PointStdX2[[i-2]][[2]])^2+((Listx2[[i]][[2]]-Pointsf2[[i-1]][[2]])/(i-1))^2]}]];\n",
    "\n",
    "Show[ListPlot[PointStdX2, PlotStyle -> Blue,\n",
    "            PlotLabel -> Style[\"Значение Std  компоненты f2 показаний акселерометра, м/с2\", Bold],\n",
    "            AxesLabel -> {Style[\"t\", Medium, Bold], Style[\"Std f2\", Medium, Bold]}],\n",
    "     ImageSize -> 500]\n",
    "Print[\"Std of f2\" PointStdX2[[Dimensions[DataGraph][[1]]-2]][[2]]]"
   ]
  },
  {
   "cell_type": "code",
   "execution_count": 104,
   "metadata": {},
   "outputs": [
    {
     "name": "stdout",
     "output_type": "stream",
     "text": [
      "0.000152211 Std of f3\r\n"
     ]
    },
    {
     "data": {
      "text/html": [
       "<div><img alt=\"Output\" src=\"data:image/png;base64,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\"></div>"
      ],
      "text/plain": [
       "-Graphics-"
      ]
     },
     "execution_count": 108,
     "metadata": {
      "text/html": [],
      "text/plain": []
     },
     "output_type": "execute_result"
    }
   ],
   "source": [
    "stdx13 = {Pointsf3[[2]][[1]], Sqrt[(Pointsf3[[1]][[2]]-Pointsf3[[2]][[2]])^2/2]};\n",
    "PointStdX3 = {};\n",
    "AppendTo[PointStdX3, stdx13];\n",
    "\n",
    "For[i=3, \n",
    "    i < Dimensions[DataGraph][[1]], \n",
    "    i++, \n",
    "    AppendTo[PointStdX3, \n",
    "            {Pointsf3[[i]][[1]], Sqrt[(1 - 1/(i-1))*(PointStdX3[[i-2]][[2]])^2+((Listx3[[i]][[2]]-Pointsf3[[i-1]][[2]])/(i-1))^2]}]];\n",
    "\n",
    "Show[ListPlot[PointStdX3, PlotStyle -> Blue,\n",
    "            PlotLabel -> Style[\"Значение Std  компоненты f3 показаний акселерометра, м/с2\", Bold],\n",
    "            AxesLabel -> {Style[\"t\", Medium, Bold], Style[\"Std f3\", Medium, Bold]}],\n",
    "     ImageSize -> 500]\n",
    "Print[\"Std of f3\" PointStdX3[[Dimensions[DataGraph][[1]]-2]][[2]]]"
   ]
  },
  {
   "cell_type": "markdown",
   "metadata": {},
   "source": [
    "### Графики накапливающихся среднеквадратичных отклонений показаний ДУС"
   ]
  },
  {
   "cell_type": "code",
   "execution_count": 110,
   "metadata": {},
   "outputs": [
    {
     "name": "stdout",
     "output_type": "stream",
     "text": [
      "7.15615 Std of w1\r\n"
     ]
    },
    {
     "data": {
      "text/html": [
       "<div><img alt=\"Output\" src=\"data:image/png;base64,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\"></div>"
      ],
      "text/plain": [
       "-Graphics-"
      ]
     },
     "execution_count": 115,
     "metadata": {
      "text/html": [],
      "text/plain": []
     },
     "output_type": "execute_result"
    }
   ],
   "source": [
    "stdw11 = {Pointsw1[[2]][[1]], Sqrt[(Pointsw1[[1]][[2]]-Pointsw1[[2]][[2]])^2/2]};\n",
    "PointStdW1 = {};\n",
    "AppendTo[PointStdW1, stdw11];\n",
    "\n",
    "For[i=3, \n",
    "    i < Dimensions[DataGraph][[1]], \n",
    "    i++, \n",
    "    AppendTo[PointStdW1, \n",
    "            {Pointsw1[[i]][[1]], Sqrt[(1 - 1/(i-1))*(PointStdW1[[i-2]][[2]])^2+((Listw1[[i]][[2]]-Pointsw1[[i-1]][[2]])/(i-1))^2]}]];\n",
    "\n",
    "For[i=1, i < Dimensions[PointStdW1][[1]], i++, PointStdW1[[i]]= {PointStdW1[[i]][[1]], PointStdW1[[i]][[2]]*180/Pi*3600}];\n",
    "Show[ListPlot[PointStdW1, PlotStyle -> Blue,\n",
    "            PlotLabel -> Style[\"Значение Std компоненты w1 показаний ДУС, Град/час\", Bold],\n",
    "            AxesLabel -> {Style[\"t\", Medium, Bold], Style[\"Std w1\", Medium, Bold]}],\n",
    "     ImageSize -> 500]\n",
    "Print[\"Std of w1\" PointStdW1[[Dimensions[DataGraph][[1]]-3]][[2]]]"
   ]
  },
  {
   "cell_type": "code",
   "execution_count": 118,
   "metadata": {},
   "outputs": [
    {
     "name": "stdout",
     "output_type": "stream",
     "text": [
      "0.670723 Std of w2\r\n"
     ]
    },
    {
     "data": {
      "text/html": [
       "<div><img alt=\"Output\" src=\"data:image/png;base64,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\"></div>"
      ],
      "text/plain": [
       "-Graphics-"
      ]
     },
     "execution_count": 123,
     "metadata": {
      "text/html": [],
      "text/plain": []
     },
     "output_type": "execute_result"
    }
   ],
   "source": [
    "stdw12 = {Pointsw2[[2]][[1]], Sqrt[(Pointsw2[[1]][[2]]-Pointsw2[[2]][[2]])^2/2]};\n",
    "PointStdW2 = {};\n",
    "AppendTo[PointStdW2, stdw12];\n",
    "\n",
    "For[i=3, \n",
    "    i < Dimensions[DataGraph][[1]], \n",
    "    i++, \n",
    "    AppendTo[PointStdW2, \n",
    "            {Pointsw2[[i]][[1]], Sqrt[(1 - 1/(i-1))*(PointStdW2[[i-2]][[2]])^2+((Listw2[[i]][[2]]-Pointsw2[[i-1]][[2]])/(i-1))^2]}]];\n",
    "\n",
    "For[i=1, i < Dimensions[PointStdW2][[1]], i++, PointStdW2[[i]]= {PointStdW2[[i]][[1]], PointStdW2[[i]][[2]]*180/Pi*3600}];\n",
    "Show[ListPlot[PointStdW2, PlotStyle -> Blue,\n",
    "            PlotLabel -> Style[\"Значение Std компоненты w2 показаний ДУС, Град/час\", Bold],\n",
    "            AxesLabel -> {Style[\"t\", Medium, Bold], Style[\"Std w2\", Medium, Bold]}],\n",
    "     ImageSize -> 500]\n",
    "Print[\"Std of w2\" PointStdW2[[Dimensions[DataGraph][[1]]-3]][[2]]]"
   ]
  },
  {
   "cell_type": "code",
   "execution_count": 125,
   "metadata": {},
   "outputs": [
    {
     "name": "stdout",
     "output_type": "stream",
     "text": [
      "0.242346 Std of w3\r\n"
     ]
    },
    {
     "data": {
      "text/html": [
       "<div><img alt=\"Output\" src=\"data:image/png;base64,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\"></div>"
      ],
      "text/plain": [
       "-Graphics-"
      ]
     },
     "execution_count": 130,
     "metadata": {
      "text/html": [],
      "text/plain": []
     },
     "output_type": "execute_result"
    }
   ],
   "source": [
    "stdw13 = {Pointsw3[[2]][[1]], Sqrt[(Pointsw3[[1]][[2]]-Pointsw3[[2]][[2]])^2/2]};\n",
    "PointStdW3 = {};\n",
    "AppendTo[PointStdW3, stdw13];\n",
    "\n",
    "For[i=3, \n",
    "    i < Dimensions[DataGraph][[1]], \n",
    "    i++, \n",
    "    AppendTo[PointStdW3, \n",
    "            {Pointsw3[[i]][[1]], Sqrt[(1 - 1/(i-1))*(PointStdW3[[i-2]][[2]])^2+((Listw3[[i]][[2]]-Pointsw3[[i-1]][[2]])/(i-1))^2]}]];\n",
    "\n",
    "For[i=1, i < Dimensions[PointStdW3][[1]], i++, PointStdW3[[i]]= {PointStdW3[[i]][[1]], PointStdW3[[i]][[2]]*180/Pi*3600}];\n",
    "Show[ListPlot[PointStdW3, PlotStyle -> Blue,\n",
    "            PlotLabel -> Style[\"Значение Std компоненты w3 показаний ДУС, Град/час\", Bold],\n",
    "            AxesLabel -> {Style[\"t\", Medium, Bold], Style[\"Std w3\", Medium, Bold]}],\n",
    "     ImageSize -> 500]\n",
    "Print[\"Std of w3\" PointStdW3[[Dimensions[DataGraph][[1]]-3]][[2]]]"
   ]
  },
  {
   "cell_type": "markdown",
   "metadata": {},
   "source": [
    "### График накапливающихся среднеквадратичных отклонений модуля показаний ДУС"
   ]
  },
  {
   "cell_type": "code",
   "execution_count": 132,
   "metadata": {},
   "outputs": [
    {
     "name": "stdout",
     "output_type": "stream",
     "text": [
      "-0.0122598 Std of module w\r\n"
     ]
    },
    {
     "data": {
      "text/html": [
       "<div><img alt=\"Output\" src=\"data:image/png;base64,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\"></div>"
      ],
      "text/plain": [
       "-Graphics-"
      ]
     },
     "execution_count": 137,
     "metadata": {
      "text/html": [],
      "text/plain": []
     },
     "output_type": "execute_result"
    }
   ],
   "source": [
    "wMod = {};\n",
    "wMod1 = {};\n",
    "AppendTo[PointStdW3, stdw13];\n",
    "\n",
    "For[i=1, \n",
    "    i < Dimensions[Pointsw1][[1]], \n",
    "    i++, \n",
    "    AppendTo[wMod, \n",
    "            {Pointsw1[[i]][[1]], (Sqrt[Pointsw1[[i]][[2]]^2+Pointsw2[[i]][[2]]^2+Pointsw3[[i]][[2]]^2]-u)}]];\n",
    "\n",
    "For[i=1, i < Dimensions[wMod][[1]], i++, AppendTo[wMod1, {wMod[[i]][[1]], wMod[[i]][[2]]*180/Pi*3600}]];\n",
    "Show[ListPlot[wMod1, PlotStyle -> Blue,\n",
    "            PlotLabel -> Style[\"Значение Std модуля w показаний ДУС, Град/час\", Bold],\n",
    "            AxesLabel -> {Style[\"t\", Medium, Bold], Style[\"Std w3\", Medium, Bold]}],\n",
    "     ImageSize -> 500]\n",
    "Print[\"Std of module w\" wMod1[[Dimensions[wMod][[1]]-1]][[2]]]"
   ]
  },
  {
   "cell_type": "code",
   "execution_count": null,
   "metadata": {},
   "outputs": [],
   "source": []
  }
 ],
 "metadata": {
  "kernelspec": {
   "display_name": "Wolfram Language 12.2",
   "language": "Wolfram Language",
   "name": "wolframlanguage12.2"
  },
  "language_info": {
   "codemirror_mode": "mathematica",
   "file_extension": ".m",
   "mimetype": "application/vnd.wolfram.m",
   "name": "Wolfram Language",
   "pygments_lexer": "mathematica",
   "version": "12.0"
  }
 },
 "nbformat": 4,
 "nbformat_minor": 4
}
