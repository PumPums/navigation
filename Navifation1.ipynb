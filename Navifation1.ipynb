{
 "cells": [
  {
   "cell_type": "code",
   "execution_count": 1,
   "metadata": {},
   "outputs": [],
   "source": [
    "import numpy as np"
   ]
  },
  {
   "cell_type": "markdown",
   "metadata": {},
   "source": [
    "# Задание 1"
   ]
  },
  {
   "cell_type": "markdown",
   "metadata": {},
   "source": [
    "### Навигационный эллипсоид ПЗ-90:"
   ]
  },
  {
   "cell_type": "code",
   "execution_count": 2,
   "metadata": {},
   "outputs": [],
   "source": [
    "a = 6378136"
   ]
  },
  {
   "cell_type": "code",
   "execution_count": 3,
   "metadata": {},
   "outputs": [],
   "source": [
    "e2 = 0.00669436619"
   ]
  },
  {
   "cell_type": "markdown",
   "metadata": {},
   "source": [
    "### Гринвичские координаты в задании:"
   ]
  },
  {
   "cell_type": "code",
   "execution_count": 4,
   "metadata": {},
   "outputs": [],
   "source": [
    "nu1 = 2846242.89"
   ]
  },
  {
   "cell_type": "code",
   "execution_count": 5,
   "metadata": {},
   "outputs": [],
   "source": [
    "nu2 = 2198707.07"
   ]
  },
  {
   "cell_type": "code",
   "execution_count": 6,
   "metadata": {},
   "outputs": [],
   "source": [
    "nu3 = 5250015.07"
   ]
  },
  {
   "cell_type": "markdown",
   "metadata": {},
   "source": [
    "### Вычисление географических координат:"
   ]
  },
  {
   "cell_type": "code",
   "execution_count": 7,
   "metadata": {},
   "outputs": [],
   "source": [
    "angle_lambda = np.arctan(nu2 / nu1)"
   ]
  },
  {
   "cell_type": "code",
   "execution_count": 8,
   "metadata": {},
   "outputs": [],
   "source": [
    "phi0 = np.arctan(nu3 / np.sqrt(nu1**2 + nu2**2))"
   ]
  },
  {
   "cell_type": "code",
   "execution_count": 9,
   "metadata": {},
   "outputs": [],
   "source": [
    "Phi = phi0 + 0.5 * e2 * np.sin(2 * phi0)"
   ]
  },
  {
   "cell_type": "code",
   "execution_count": 10,
   "metadata": {},
   "outputs": [],
   "source": [
    "H = np.sqrt(nu1**2 + nu2**2 + nu3**2) - a + 0.5 * a * e2 * np.sin(Phi)**2"
   ]
  },
  {
   "cell_type": "code",
   "execution_count": 11,
   "metadata": {},
   "outputs": [],
   "source": [
    "while True:\n",
    "    sin_phi = np.sin(Phi)\n",
    "    cos_phi = np.cos(Phi)\n",
    "\n",
    "    Re = a / np.sqrt(1 - e2 * sin_phi**2)\n",
    "    dRe_dPhi = - a * e2 * sin_phi * cos_phi / (1 - e2 * sin_phi**2)**(3/2)\n",
    "    dF1_dPhi = - dRe_dPhi * cos_phi + (Re + H) * sin_phi\n",
    "    dF2_dPhi = - (1 - e2) * dRe_dPhi * sin_phi - ((1 - e2) * Re + H) * cos_phi\n",
    "    dF1_dH = - cos_phi\n",
    "    dF2_dH = - sin_phi\n",
    "    J = np.array([[dF2_dH, - dF1_dH], [- dF2_dPhi, dF1_dPhi]])\n",
    "    F1 = np.sqrt(nu1**2 + nu2**2) - (Re + H) * cos_phi\n",
    "    F2 = nu3 - ((1 - e2) * Re + H) * sin_phi\n",
    "    F = np.array([[F1], [F2]])\n",
    "    delta = dF1_dPhi * dF2_dH - dF2_dPhi * dF1_dH\n",
    "    Phi_H_cur = np.array([[Phi], [H]])\n",
    "    Phi_H_next = Phi_H_cur - np.matmul(J, F) / delta\n",
    "    \n",
    "    dPhi = Phi_H_next[0][0] - Phi\n",
    "    dH = Phi_H_next[1][0] - H\n",
    "    if dPhi**2 * a**2 + dH**2 <= 0.001**2:\n",
    "        geo_coords = (Phi_H_next[0][0], Phi_H_next[1][0])\n",
    "        break \n",
    "    Phi, H = Phi_H_next[0][0], Phi_H_next[1][0]"
   ]
  },
  {
   "cell_type": "code",
   "execution_count": 12,
   "metadata": {},
   "outputs": [
    {
     "data": {
      "text/plain": [
       "(0.9732944911091262, 250.96802480283876)"
      ]
     },
     "execution_count": 12,
     "metadata": {},
     "output_type": "execute_result"
    }
   ],
   "source": [
    "geo_coords  "
   ]
  },
  {
   "cell_type": "code",
   "execution_count": 13,
   "metadata": {},
   "outputs": [
    {
     "data": {
      "text/plain": [
       "3.141592653589793"
      ]
     },
     "execution_count": 13,
     "metadata": {},
     "output_type": "execute_result"
    }
   ],
   "source": [
    "np.pi"
   ]
  },
  {
   "cell_type": "code",
   "execution_count": 14,
   "metadata": {},
   "outputs": [
    {
     "data": {
      "text/plain": [
       "37.68589002760919"
      ]
     },
     "execution_count": 14,
     "metadata": {},
     "output_type": "execute_result"
    }
   ],
   "source": [
    "angle_lambda*180./np.pi"
   ]
  },
  {
   "cell_type": "code",
   "execution_count": 15,
   "metadata": {},
   "outputs": [
    {
     "name": "stdout",
     "output_type": "stream",
     "text": [
      "lambda = 37◦ 41' 9.2041''\n"
     ]
    }
   ],
   "source": [
    "print(f\"lambda = {(angle_lambda*180./np.pi)//1:.0f}◦ {(angle_lambda*180./np.pi)%1*60//1:.0f}' {(angle_lambda*180./np.pi)%1*60%1*60:.4f}''\")"
   ]
  },
  {
   "cell_type": "code",
   "execution_count": 16,
   "metadata": {},
   "outputs": [
    {
     "name": "stdout",
     "output_type": "stream",
     "text": [
      "phi = 55◦ 45' 56.3996''\n"
     ]
    }
   ],
   "source": [
    "print(f\"phi = {(geo_coords[0]*180./np.pi)//1:.0f}◦ {(geo_coords[0]*180./np.pi)%1*60//1:.0f}' {(geo_coords[0]*180./np.pi)%1*60%1*60:.4f}''\")"
   ]
  },
  {
   "cell_type": "code",
   "execution_count": 17,
   "metadata": {},
   "outputs": [
    {
     "name": "stdout",
     "output_type": "stream",
     "text": [
      "h = 250.9680\n"
     ]
    }
   ],
   "source": [
    "print(f\"h = {geo_coords[1]:.4f}\")"
   ]
  },
  {
   "cell_type": "markdown",
   "metadata": {},
   "source": [
    "### Вычисление геоцентрических координат:"
   ]
  },
  {
   "cell_type": "code",
   "execution_count": 18,
   "metadata": {},
   "outputs": [],
   "source": [
    "R = np.sqrt(nu1**2 + nu2**2 + nu3**2)"
   ]
  },
  {
   "cell_type": "code",
   "execution_count": 19,
   "metadata": {},
   "outputs": [],
   "source": [
    "Phi01 = np.arcsin(nu3 / R)"
   ]
  },
  {
   "cell_type": "code",
   "execution_count": 20,
   "metadata": {},
   "outputs": [],
   "source": [
    "R_earth = a * np.sqrt((1-e2) / (1 - e2 * np.cos(Phi01)**2))"
   ]
  },
  {
   "cell_type": "code",
   "execution_count": 21,
   "metadata": {},
   "outputs": [],
   "source": [
    "H0 = R - R_earth"
   ]
  },
  {
   "cell_type": "code",
   "execution_count": 22,
   "metadata": {},
   "outputs": [
    {
     "name": "stdout",
     "output_type": "stream",
     "text": [
      "lambda = 37◦ 41' 9.2041''\n"
     ]
    }
   ],
   "source": [
    "print(f\"lambda = {(angle_lambda*180./np.pi)//1:.0f}◦ {(angle_lambda*180./np.pi)%1*60//1:.0f}' {(angle_lambda*180./np.pi)%1*60%1*60:.4f}''\")"
   ]
  },
  {
   "cell_type": "code",
   "execution_count": 23,
   "metadata": {},
   "outputs": [
    {
     "name": "stdout",
     "output_type": "stream",
     "text": [
      "phi = 55◦ 35' 11.2476''\n"
     ]
    }
   ],
   "source": [
    "print(f\"phi = {(Phi01*180./np.pi)//1:.0f}◦ {(Phi01*180./np.pi)%1*60//1:.0f}' {(Phi01*180./np.pi)%1*60%1*60:.4f}''\")"
   ]
  },
  {
   "cell_type": "code",
   "execution_count": 24,
   "metadata": {},
   "outputs": [
    {
     "name": "stdout",
     "output_type": "stream",
     "text": [
      "h0 = 250.9693\n"
     ]
    }
   ],
   "source": [
    "print(f\"h0 = {H0:.4f}\")"
   ]
  },
  {
   "cell_type": "markdown",
   "metadata": {},
   "source": [
    "# Задание 2"
   ]
  },
  {
   "cell_type": "markdown",
   "metadata": {},
   "source": [
    "lambda = 5◦40'9.6784''"
   ]
  },
  {
   "cell_type": "markdown",
   "metadata": {},
   "source": [
    "phi = 7◦3'9.1562''"
   ]
  },
  {
   "cell_type": "markdown",
   "metadata": {},
   "source": [
    "h = 652.713"
   ]
  },
  {
   "cell_type": "code",
   "execution_count": 25,
   "metadata": {},
   "outputs": [
    {
     "data": {
      "text/plain": [
       "0.09894891315365785"
      ]
     },
     "execution_count": 25,
     "metadata": {},
     "output_type": "execute_result"
    }
   ],
   "source": [
    "lambda2 = (5 + 40/60 + 9.6784/3600)*np.pi/180.\n",
    "lambda2"
   ]
  },
  {
   "cell_type": "code",
   "execution_count": 26,
   "metadata": {},
   "outputs": [
    {
     "data": {
      "text/plain": [
       "0.12309010277586997"
      ]
     },
     "execution_count": 26,
     "metadata": {},
     "output_type": "execute_result"
    }
   ],
   "source": [
    "phi2 = (7 + 3/60 + 9.1562/3600)*np.pi/180.\n",
    "phi2"
   ]
  },
  {
   "cell_type": "code",
   "execution_count": 27,
   "metadata": {},
   "outputs": [],
   "source": [
    "h2 = 652.713"
   ]
  },
  {
   "cell_type": "markdown",
   "metadata": {},
   "source": [
    "### Гринвичские координаты"
   ]
  },
  {
   "cell_type": "code",
   "execution_count": 28,
   "metadata": {},
   "outputs": [
    {
     "data": {
      "text/plain": [
       "6378457.853265435"
      ]
     },
     "execution_count": 28,
     "metadata": {},
     "output_type": "execute_result"
    }
   ],
   "source": [
    "Re2 = a / np.sqrt(1 - e2 * np.sin(phi2)**2)\n",
    "Re2"
   ]
  },
  {
   "cell_type": "code",
   "execution_count": 29,
   "metadata": {},
   "outputs": [
    {
     "data": {
      "text/plain": [
       "6299879.024121981"
      ]
     },
     "execution_count": 29,
     "metadata": {},
     "output_type": "execute_result"
    }
   ],
   "source": [
    "nu1_2 = (Re2+h2)*np.cos(phi2)*np.cos(lambda2)\n",
    "nu1_2"
   ]
  },
  {
   "cell_type": "code",
   "execution_count": 30,
   "metadata": {},
   "outputs": [
    {
     "data": {
      "text/plain": [
       "625408.6177478718"
      ]
     },
     "execution_count": 30,
     "metadata": {},
     "output_type": "execute_result"
    }
   ],
   "source": [
    "nu2_2 = (Re2+h2)*np.cos(phi2)*np.sin(lambda2)\n",
    "nu2_2"
   ]
  },
  {
   "cell_type": "code",
   "execution_count": 31,
   "metadata": {},
   "outputs": [
    {
     "data": {
      "text/plain": [
       "777981.4273182291"
      ]
     },
     "execution_count": 31,
     "metadata": {},
     "output_type": "execute_result"
    }
   ],
   "source": [
    "nu3_2 = (Re2+h2)*np.sin(phi2) - Re2*e2*np.sin(phi2)\n",
    "nu3_2"
   ]
  },
  {
   "cell_type": "markdown",
   "metadata": {},
   "source": [
    "### Модель ГЛОНАСС удельной силы тяготения в гринвичских осях "
   ]
  },
  {
   "cell_type": "code",
   "execution_count": 32,
   "metadata": {},
   "outputs": [],
   "source": [
    "mu = 398600.44 * 10**9"
   ]
  },
  {
   "cell_type": "code",
   "execution_count": 33,
   "metadata": {},
   "outputs": [],
   "source": [
    "C20 = -1082.6257 * 10**(-6)"
   ]
  },
  {
   "cell_type": "code",
   "execution_count": 34,
   "metadata": {},
   "outputs": [],
   "source": [
    "u = 7.2921157 * 10**(-5)"
   ]
  },
  {
   "cell_type": "code",
   "execution_count": 35,
   "metadata": {},
   "outputs": [],
   "source": [
    "r = np.sqrt(nu1_2**2 + nu2_2**2 + nu3_2**2)"
   ]
  },
  {
   "cell_type": "code",
   "execution_count": 36,
   "metadata": {},
   "outputs": [],
   "source": [
    "g_0_nu1 = -mu/r**3 * (1 + 3/2 * C20 * a**2 / r**2 * (5 * nu3_2**2 / r**2 - 1))*nu1_2"
   ]
  },
  {
   "cell_type": "code",
   "execution_count": 37,
   "metadata": {},
   "outputs": [],
   "source": [
    "g_0_nu2 = -mu/r**3 * (1 + 3/2 * C20 * a**2 / r**2 * (5 * nu3_2**2 / r**2 - 1))*nu2_2"
   ]
  },
  {
   "cell_type": "code",
   "execution_count": 38,
   "metadata": {},
   "outputs": [],
   "source": [
    "g_0_nu3 = -mu/r**3 * (1 + 3/2 * C20 * a**2 / r**2 * (5 * nu3_2**2 / r**2 - 3))*nu3_2"
   ]
  },
  {
   "cell_type": "code",
   "execution_count": 39,
   "metadata": {},
   "outputs": [],
   "source": [
    "g_0_nu = np.array([[g_0_nu1], [g_0_nu2], [g_0_nu3]])"
   ]
  },
  {
   "cell_type": "markdown",
   "metadata": {},
   "source": [
    "Высотная поправка в географических осях:"
   ]
  },
  {
   "cell_type": "code",
   "execution_count": 40,
   "metadata": {},
   "outputs": [],
   "source": [
    "h2_corr_geo = np.array([[0], [u*np.cos(phi2)], [u*np.sin(phi2)]])"
   ]
  },
  {
   "cell_type": "code",
   "execution_count": 41,
   "metadata": {},
   "outputs": [],
   "source": [
    "A_nu_x0 = np.array([[-np.sin(lambda2), -np.cos(lambda2)*np.sin(phi2), np.cos(lambda2)*np.cos(phi2)], \n",
    "                    [np.cos(lambda2), -np.sin(lambda2)*np.sin(phi2), np.sin(lambda2)*np.cos(phi2)], \n",
    "                    [0, np.cos(phi2), np.sin(phi2)]])"
   ]
  },
  {
   "cell_type": "markdown",
   "metadata": {},
   "source": [
    "Поправка в гринвичских осях"
   ]
  },
  {
   "cell_type": "code",
   "execution_count": 42,
   "metadata": {},
   "outputs": [],
   "source": [
    "h2_corr_gr = np.dot(A_nu_x0, h2_corr_geo)"
   ]
  },
  {
   "cell_type": "markdown",
   "metadata": {},
   "source": [
    "##### Сила тяжести модели ГЛОНАСС в гринвичских осях"
   ]
  },
  {
   "cell_type": "code",
   "execution_count": 43,
   "metadata": {},
   "outputs": [
    {
     "data": {
      "text/plain": [
       "array([[-9.69109578],\n",
       "       [-0.96206527],\n",
       "       [-1.20057562]])"
      ]
     },
     "execution_count": 43,
     "metadata": {},
     "output_type": "execute_result"
    }
   ],
   "source": [
    "g_nu = g_0_nu + h2_corr_gr\n",
    "g_nu"
   ]
  },
  {
   "cell_type": "markdown",
   "metadata": {},
   "source": [
    "### Формула Гельмерта:"
   ]
  },
  {
   "cell_type": "code",
   "execution_count": 44,
   "metadata": {},
   "outputs": [
    {
     "data": {
      "text/plain": [
       "9.778923368164968"
      ]
     },
     "execution_count": 44,
     "metadata": {},
     "output_type": "execute_result"
    }
   ],
   "source": [
    "g_Gel = 9.78030*(1+0.005302*(np.sin(phi2))**2 - 0.000007*(np.sin(2*phi2))**2) - 0.00014 - 2*1.543*10**(-6)*h2\n",
    "g_Gel"
   ]
  },
  {
   "cell_type": "markdown",
   "metadata": {},
   "source": [
    "Вектор удельной силы тяготения в географических осях"
   ]
  },
  {
   "cell_type": "code",
   "execution_count": 51,
   "metadata": {},
   "outputs": [
    {
     "data": {
      "text/plain": [
       "array([[ 0.00000000e+00],\n",
       "       [ 4.13327932e-03],\n",
       "       [-9.81233291e+00]])"
      ]
     },
     "execution_count": 51,
     "metadata": {},
     "output_type": "execute_result"
    }
   ],
   "source": [
    "g_0_geo = np.array([[0], \n",
    "                    [u**2 * (Re2+h2)*np.cos(phi2)*np.sin(phi2)], \n",
    "                    [-g_Gel - u**2 * (Re2+h2)*np.cos(phi2)**2]])\n",
    "g_0_geo"
   ]
  },
  {
   "cell_type": "markdown",
   "metadata": {},
   "source": [
    "Сила тяжести в географических осях"
   ]
  },
  {
   "cell_type": "code",
   "execution_count": 46,
   "metadata": {},
   "outputs": [],
   "source": [
    "g_geo = g_0_geo + h2_corr_geo"
   ]
  },
  {
   "cell_type": "markdown",
   "metadata": {},
   "source": [
    "##### Сила тяжести модели Гельмерта в гринвичских осях:"
   ]
  },
  {
   "cell_type": "code",
   "execution_count": 47,
   "metadata": {},
   "outputs": [
    {
     "data": {
      "text/plain": [
       "array([[-9.69096413],\n",
       "       [-0.9620522 ],\n",
       "       [-1.20057851]])"
      ]
     },
     "execution_count": 47,
     "metadata": {},
     "output_type": "execute_result"
    }
   ],
   "source": [
    "g_geo_nu = np.dot(A_nu_x0, g_geo)\n",
    "g_geo_nu"
   ]
  },
  {
   "cell_type": "markdown",
   "metadata": {},
   "source": [
    "Норма модели ГЛОНАСС:"
   ]
  },
  {
   "cell_type": "code",
   "execution_count": 48,
   "metadata": {},
   "outputs": [
    {
     "data": {
      "text/plain": [
       "array([9.78613696])"
      ]
     },
     "execution_count": 48,
     "metadata": {},
     "output_type": "execute_result"
    }
   ],
   "source": [
    "g_nu_norm = np.sqrt(g_nu[0]**2 + g_nu[1]**2 + g_nu[1]**2)\n",
    "g_nu_norm"
   ]
  },
  {
   "cell_type": "markdown",
   "metadata": {},
   "source": [
    "Норма модели Гельмерта:"
   ]
  },
  {
   "cell_type": "code",
   "execution_count": 49,
   "metadata": {},
   "outputs": [
    {
     "data": {
      "text/plain": [
       "array([9.78600402])"
      ]
     },
     "execution_count": 49,
     "metadata": {},
     "output_type": "execute_result"
    }
   ],
   "source": [
    "g_geo_nu_norm = np.sqrt(g_geo_nu[0]**2 + g_geo_nu[1]**2 + g_geo_nu[1]**2)\n",
    "g_geo_nu_norm"
   ]
  },
  {
   "cell_type": "markdown",
   "metadata": {},
   "source": [
    "(модель ГЛОНАСС) - (модель Гельмерта):"
   ]
  },
  {
   "cell_type": "code",
   "execution_count": 50,
   "metadata": {},
   "outputs": [
    {
     "data": {
      "text/plain": [
       "array([0.00013293])"
      ]
     },
     "execution_count": 50,
     "metadata": {},
     "output_type": "execute_result"
    }
   ],
   "source": [
    "g_nu_norm - g_geo_nu_norm"
   ]
  },
  {
   "cell_type": "code",
   "execution_count": null,
   "metadata": {},
   "outputs": [],
   "source": []
  }
 ],
 "metadata": {
  "kernelspec": {
   "display_name": "Python 3",
   "language": "python",
   "name": "python3"
  },
  "language_info": {
   "codemirror_mode": {
    "name": "ipython",
    "version": 3
   },
   "file_extension": ".py",
   "mimetype": "text/x-python",
   "name": "python",
   "nbconvert_exporter": "python",
   "pygments_lexer": "ipython3",
   "version": "3.8.5"
  }
 },
 "nbformat": 4,
 "nbformat_minor": 4
}
