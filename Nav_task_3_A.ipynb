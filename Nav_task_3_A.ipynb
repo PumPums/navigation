{
 "cells": [
  {
   "cell_type": "markdown",
   "metadata": {},
   "source": [
    "### Данные:"
   ]
  },
  {
   "cell_type": "code",
   "execution_count": 1,
   "metadata": {},
   "outputs": [],
   "source": [
    "LData = Import[\"IMU_1_2.txt\", \"Data\"];"
   ]
  },
  {
   "cell_type": "code",
   "execution_count": 2,
   "metadata": {},
   "outputs": [
    {
     "data": {
      "text/html": [
       "<div><pre style=\"&#102;&#111;&#110;&#116;&#45;&#102;&#97;&#109;&#105;&#108;&#121;&#58;&#32;&#34;&#67;&#111;&#117;&#114;&#105;&#101;&#114;&#32;&#78;&#101;&#119;&#34;&#44;&#67;&#111;&#117;&#114;&#105;&#101;&#114;&#44;&#109;&#111;&#110;&#111;&#115;&#112;&#97;&#99;&#101;&#59;\">&#123;&#55;&#56;&#57;&#48;&#52;&#44;&#32;&#55;&#125;</pre></div>"
      ],
      "text/plain": [
       "{78904, 7}"
      ]
     },
     "execution_count": 2,
     "metadata": {
      "text/html": [],
      "text/plain": []
     },
     "output_type": "execute_result"
    }
   ],
   "source": [
    "Dimensions[Transpose[Transpose[LData][[1;;7]]]]"
   ]
  },
  {
   "cell_type": "code",
   "execution_count": 3,
   "metadata": {},
   "outputs": [],
   "source": [
    "DataB = Transpose[LData][[1;;7]];"
   ]
  },
  {
   "cell_type": "code",
   "execution_count": 4,
   "metadata": {},
   "outputs": [
    {
     "data": {
      "text/html": [
       "<div><pre style=\"&#102;&#111;&#110;&#116;&#45;&#102;&#97;&#109;&#105;&#108;&#121;&#58;&#32;&#34;&#67;&#111;&#117;&#114;&#105;&#101;&#114;&#32;&#78;&#101;&#119;&#34;&#44;&#67;&#111;&#117;&#114;&#105;&#101;&#114;&#44;&#109;&#111;&#110;&#111;&#115;&#112;&#97;&#99;&#101;&#59;\">&#123;&#55;&#44;&#32;&#55;&#56;&#57;&#48;&#52;&#125;</pre></div>"
      ],
      "text/plain": [
       "{7, 78904}"
      ]
     },
     "execution_count": 4,
     "metadata": {
      "text/html": [],
      "text/plain": []
     },
     "output_type": "execute_result"
    }
   ],
   "source": [
    "Dimensions[DataB]"
   ]
  },
  {
   "cell_type": "code",
   "execution_count": 5,
   "metadata": {},
   "outputs": [
    {
     "data": {
      "text/html": [
       "<div><pre style=\"&#102;&#111;&#110;&#116;&#45;&#102;&#97;&#109;&#105;&#108;&#121;&#58;&#32;&#34;&#67;&#111;&#117;&#114;&#105;&#101;&#114;&#32;&#78;&#101;&#119;&#34;&#44;&#67;&#111;&#117;&#114;&#105;&#101;&#114;&#44;&#109;&#111;&#110;&#111;&#115;&#112;&#97;&#99;&#101;&#59;\">&#123;&#125;</pre></div>"
      ],
      "text/plain": [
       "{}"
      ]
     },
     "execution_count": 5,
     "metadata": {
      "text/html": [],
      "text/plain": []
     },
     "output_type": "execute_result"
    }
   ],
   "source": [
    "Data = {}"
   ]
  },
  {
   "cell_type": "code",
   "execution_count": 6,
   "metadata": {},
   "outputs": [],
   "source": [
    "For[i = 1, i < Dimensions[DataB][[2]]/10, i++, AppendTo[Data, \n",
    "                                                        {Mean[DataB[[1]][[((i-1)*10+1);;10*(i)]]],\n",
    "                                                         Mean[DataB[[2]][[((i-1)*10+1);;10*(i)]]],\n",
    "                                                         Mean[DataB[[3]][[((i-1)*10+1);;10*(i)]]],\n",
    "                                                         Mean[DataB[[4]][[((i-1)*10+1);;10*(i)]]],\n",
    "                                                         Mean[DataB[[5]][[((i-1)*10+1);;10*(i)]]],\n",
    "                                                         Mean[DataB[[6]][[((i-1)*10+1);;10*(i)]]],\n",
    "                                                         Mean[DataB[[7]][[((i-1)*10+1);;10*(i)]]]}]];"
   ]
  },
  {
   "cell_type": "code",
   "execution_count": 7,
   "metadata": {},
   "outputs": [
    {
     "data": {
      "text/html": [
       "<div><img alt=\"Output\" src=\"data:image/png;base64,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\"></div>"
      ],
      "text/plain": [
       "\n",
       "31897.         0.0796552      0.0359945      9.81418        0.000163007\n",
       " \n",
       "\n",
       ">    0.00210398     -0.000489154\n",
       "\n",
       "                                                                      -6\n",
       "31897.         0.0796159      0.083286       9.81803        1.03274 10\n",
       " \n",
       "\n",
       ">    0.00194199     -0.00048887\n",
       "\n",
       "\n",
       "31897.1        0.0796646      0.0360099      9.81813        -0.000322704\n",
       " \n",
       "\n",
       ">    0.00194131     -0.000812617\n",
       "\n",
       "                                                                      -7\n",
       "31897.1        0.0796391      0.0359614      9.80629        8.99304 10\n",
       " \n",
       "\n",
       ">    0.00161799     -0.000650231\n",
       "\n",
       "                                                                      -7\n",
       "31897.1        0.0796525      0.0359913      9.81418        6.10036 10\n",
       " \n",
       "\n",
       ">    0.00113277     -0.000325647"
      ]
     },
     "execution_count": 7,
     "metadata": {
      "text/html": [],
      "text/plain": []
     },
     "output_type": "execute_result"
    }
   ],
   "source": [
    "Data[[1;;5]] // MatrixForm"
   ]
  },
  {
   "cell_type": "code",
   "execution_count": 8,
   "metadata": {},
   "outputs": [
    {
     "data": {
      "text/html": [
       "<div><pre style=\"&#102;&#111;&#110;&#116;&#45;&#102;&#97;&#109;&#105;&#108;&#121;&#58;&#32;&#34;&#67;&#111;&#117;&#114;&#105;&#101;&#114;&#32;&#78;&#101;&#119;&#34;&#44;&#67;&#111;&#117;&#114;&#105;&#101;&#114;&#44;&#109;&#111;&#110;&#111;&#115;&#112;&#97;&#99;&#101;&#59;\">&#123;&#55;&#56;&#57;&#48;&#44;&#32;&#55;&#125;</pre></div>"
      ],
      "text/plain": [
       "{7890, 7}"
      ]
     },
     "execution_count": 8,
     "metadata": {
      "text/html": [],
      "text/plain": []
     },
     "output_type": "execute_result"
    }
   ],
   "source": [
    "Dimensions[Data]"
   ]
  },
  {
   "cell_type": "markdown",
   "metadata": {},
   "source": [
    "### Измерения акселерометров:\n",
    "\\begin{eqnarray*}\n",
    "f' = \\left( \\begin{array}{c}\n",
    "         f_{1}' \\cr\n",
    "          f_{2}'  \\cr\n",
    "          f_{3}'\n",
    "        \\end{array} \\right) =\n",
    "\\left( \\begin{array}{c}\n",
    "         f_{X}' \\cr\n",
    "          f_{Y}'  \\cr\n",
    "          f_{Z}'\n",
    "        \\end{array} \\right)\n",
    "        =\n",
    "        \\left( \\begin{array}{c}\n",
    "         f_{z_1} \\cr\n",
    "          f_{z_2}  \\cr\n",
    "          f_{z_3}\n",
    "        \\end{array} \\right) +\n",
    " \\left( \\begin{array}{c}\n",
    "         \\Delta f^0_{1} \\cr\n",
    "         \\Delta f^0_{2} \\cr\n",
    "         \\Delta f^0_{3}\n",
    "  \\end{array} \\right)\n",
    "+\n",
    " \\left( \\begin{array}{c}\n",
    "         \\Delta f^s_{1} \\cr\n",
    "         \\Delta f^s_{2} \\cr\n",
    "         \\Delta f^s_{3}\n",
    "\\end{array} \\right)\n",
    ".\n",
    "\\end{eqnarray*}"
   ]
  },
  {
   "cell_type": "markdown",
   "metadata": {},
   "source": [
    "здесь:\n",
    "$\\Delta f^0_{i} $  -- суммарные систематические погрешности акселерометров. <br>\n",
    "$\\Delta f^s_{i} $ -- случайные, шумовые погрешности.<br>\n",
    "$f_{z_i},\\, i = 1,2,3$ -- полезный сигнал акселерометров в осях $Mr$."
   ]
  },
  {
   "cell_type": "code",
   "execution_count": 9,
   "metadata": {},
   "outputs": [],
   "source": [
    "fData = Transpose[Transpose[Data][[2;;4]]];"
   ]
  },
  {
   "cell_type": "code",
   "execution_count": 10,
   "metadata": {},
   "outputs": [
    {
     "data": {
      "text/html": [
       "<div><img alt=\"Output\" src=\"data:image/png;base64,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\"></div>"
      ],
      "text/plain": [
       "0.0796552   0.0359945   9.81418\n",
       "\n",
       "0.0796159   0.083286    9.81803\n",
       "\n",
       "0.0796646   0.0360099   9.81813\n",
       "\n",
       "0.0796391   0.0359614   9.80629\n",
       "\n",
       "0.0796525   0.0359913   9.81418"
      ]
     },
     "execution_count": 10,
     "metadata": {
      "text/html": [],
      "text/plain": []
     },
     "output_type": "execute_result"
    }
   ],
   "source": [
    "fData[[1;;5]] // MatrixForm"
   ]
  },
  {
   "cell_type": "markdown",
   "metadata": {},
   "source": [
    "Определние среднего значения  $g'$\n",
    "$$g'=\\sqrt{\\sum_{i=1}^{3} f'^2_i}  $$"
   ]
  },
  {
   "cell_type": "code",
   "execution_count": 11,
   "metadata": {},
   "outputs": [],
   "source": [
    "ValuesG = {};"
   ]
  },
  {
   "cell_type": "code",
   "execution_count": 12,
   "metadata": {},
   "outputs": [],
   "source": [
    "For[i = 1, i <= Dimensions[fData][[1]], i++, AppendTo[ValuesG, Sqrt[fData[[i]][[1]]^2+fData[[i]][[2]]^2+fData[[i]][[3]]^2]]]"
   ]
  },
  {
   "cell_type": "code",
   "execution_count": 13,
   "metadata": {},
   "outputs": [
    {
     "data": {
      "text/html": [
       "<div><img alt=\"Output\" src=\"data:image/png;base64,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\"></div>"
      ],
      "text/plain": [
       "9.81457\n",
       "\n",
       "9.81871\n",
       "\n",
       "9.81851\n",
       "\n",
       "9.80668\n",
       "\n",
       "9.81457"
      ]
     },
     "execution_count": 13,
     "metadata": {
      "text/html": [],
      "text/plain": []
     },
     "output_type": "execute_result"
    }
   ],
   "source": [
    "ValuesG[[1;;5]] // MatrixForm"
   ]
  },
  {
   "cell_type": "markdown",
   "metadata": {},
   "source": [
    "Среднее значение  ${\\widetilde g}$"
   ]
  },
  {
   "cell_type": "code",
   "execution_count": 14,
   "metadata": {},
   "outputs": [
    {
     "data": {
      "text/html": [
       "<div><pre style=\"&#102;&#111;&#110;&#116;&#45;&#102;&#97;&#109;&#105;&#108;&#121;&#58;&#32;&#34;&#67;&#111;&#117;&#114;&#105;&#101;&#114;&#32;&#78;&#101;&#119;&#34;&#44;&#67;&#111;&#117;&#114;&#105;&#101;&#114;&#44;&#109;&#111;&#110;&#111;&#115;&#112;&#97;&#99;&#101;&#59;\">&#57;&#46;&#56;&#49;&#54;&#48;&#51;</pre></div>"
      ],
      "text/plain": [
       "9.81603"
      ]
     },
     "execution_count": 14,
     "metadata": {
      "text/html": [],
      "text/plain": []
     },
     "output_type": "execute_result"
    }
   ],
   "source": [
    "meanG = Mean[ValuesG]"
   ]
  },
  {
   "cell_type": "markdown",
   "metadata": {},
   "source": [
    "Определение среднего значения ${\\widetilde f}_{i} $\n",
    "$$ {\\widetilde f}_{i}=\\sum_{K=1}^{N} f'^2_i(t_k), i=1,2,3  $$"
   ]
  },
  {
   "cell_type": "code",
   "execution_count": 15,
   "metadata": {},
   "outputs": [],
   "source": [
    "meanF = {};"
   ]
  },
  {
   "cell_type": "code",
   "execution_count": 16,
   "metadata": {},
   "outputs": [],
   "source": [
    "For[i = 1, i <= Dimensions[fData][[2]], i++, AppendTo[meanF, Mean[Transpose[fData][[i]]]]]"
   ]
  },
  {
   "cell_type": "markdown",
   "metadata": {},
   "source": [
    " Вычислим средние значения показаний акселерометров:\n",
    "$$\n",
    "\\begin{eqnarray*}\n",
    "{\\widetilde f}_{i}  &=& \\frac{ \\sum\\limits_{k=1}^N f'_{i}(k) }{N},\n",
    "\\qquad (i=1,2,3).\n",
    "\\end{eqnarray*}\n",
    "$$"
   ]
  },
  {
   "cell_type": "code",
   "execution_count": 17,
   "metadata": {},
   "outputs": [
    {
     "data": {
      "text/html": [
       "<div><pre style=\"&#102;&#111;&#110;&#116;&#45;&#102;&#97;&#109;&#105;&#108;&#121;&#58;&#32;&#34;&#67;&#111;&#117;&#114;&#105;&#101;&#114;&#32;&#78;&#101;&#119;&#34;&#44;&#67;&#111;&#117;&#114;&#105;&#101;&#114;&#44;&#109;&#111;&#110;&#111;&#115;&#112;&#97;&#99;&#101;&#59;\">&#123;&#48;&#46;&#48;&#55;&#53;&#49;&#52;&#51;&#51;&#44;&#32;&#48;&#46;&#48;&#52;&#52;&#57;&#57;&#56;&#53;&#44;&#32;&#57;&#46;&#56;&#49;&#53;&#54;&#125;</pre></div>"
      ],
      "text/plain": [
       "{0.0751433, 0.0449985, 9.8156}"
      ]
     },
     "execution_count": 17,
     "metadata": {
      "text/html": [],
      "text/plain": []
     },
     "output_type": "execute_result"
    }
   ],
   "source": [
    "meanF "
   ]
  },
  {
   "cell_type": "markdown",
   "metadata": {},
   "source": [
    " Определение угла тангажа $\\vartheta$.\n",
    "$$\n",
    "\\begin{eqnarray*}\n",
    "f_{z} =\n",
    "\\left( \\begin{array}{c}\n",
    "  f_X \\cr\n",
    "f_Y\\cr\n",
    "f_Z\n",
    "\\end{array} \\right) =\n",
    "g\\left( \\begin{array}{c}\n",
    "  \\sin \\vartheta \\cr\n",
    "\\phantom{-} \\cos \\vartheta \\cos \\gamma \\cr\n",
    "- \\cos \\vartheta \\sin \\gamma\n",
    "\\end{array} \\right) \\Rightarrow\n",
    "\\widetilde{\\vartheta} =  \\arctan \\left(\\frac{\\widetilde{f}_{X}}{\n",
    "\\sqrt{\\widetilde{f}^2_{Y}+\\widetilde{f}^2_{Z}}} \\right).\n",
    "\\end{eqnarray*}\n",
    "$$"
   ]
  },
  {
   "cell_type": "markdown",
   "metadata": {},
   "source": [
    "Используя информацию о модельном значении $g'$ ускорения силы тяжести. Тогда\n",
    "\\begin{eqnarray*}\n",
    "\\widetilde{\\vartheta} =  \\arcsin\\left( \\frac{\\widetilde{f}_{X}}{g'}\\right).\n",
    "\\end{eqnarray*}\n"
   ]
  },
  {
   "cell_type": "code",
   "execution_count": 18,
   "metadata": {},
   "outputs": [
    {
     "data": {
      "text/html": [
       "<div><pre style=\"&#102;&#111;&#110;&#116;&#45;&#102;&#97;&#109;&#105;&#108;&#121;&#58;&#32;&#34;&#67;&#111;&#117;&#114;&#105;&#101;&#114;&#32;&#78;&#101;&#119;&#34;&#44;&#67;&#111;&#117;&#114;&#105;&#101;&#114;&#44;&#109;&#111;&#110;&#111;&#115;&#112;&#97;&#99;&#101;&#59;\">&#48;&#46;&#48;&#48;&#55;&#54;&#53;&#53;&#50;&#51;</pre></div>"
      ],
      "text/plain": [
       "0.00765523"
      ]
     },
     "execution_count": 18,
     "metadata": {
      "text/html": [],
      "text/plain": []
     },
     "output_type": "execute_result"
    }
   ],
   "source": [
    "Thetaf = ArcSin[meanF[[1]]/meanG]"
   ]
  },
  {
   "cell_type": "markdown",
   "metadata": {},
   "source": [
    "\n",
    "Определение  угла крена\n",
    "\\begin{eqnarray*}\n",
    "f_{z} =\n",
    "\\left( \\begin{array}{c}\n",
    "  f_X \\cr\n",
    "f_Y\\cr\n",
    "f_Z\n",
    "\\end{array} \\right) =\n",
    "g\\left( \\begin{array}{c}\n",
    "  \\sin \\vartheta \\cr\n",
    "\\phantom{-} \\cos \\vartheta \\cos \\gamma \\cr\n",
    "- \\cos \\vartheta \\sin \\gamma\n",
    "\\end{array} \\right) \\Rightarrow \\widetilde{\\gamma} =  - \\arctan\\left( \\frac{\\widetilde{f}_{Z}}{\\widetilde{f}_{Y}}\n",
    "\\right).\n",
    "\\end{eqnarray*}\n"
   ]
  },
  {
   "cell_type": "markdown",
   "metadata": {},
   "source": [
    "Используя информацию о модельном значении $g'$ ускорения силы тяжести. Тогда\n",
    "\\begin{eqnarray*}\n",
    "\\widetilde{\\gamma} =  - \\arcsin\\left( \\frac{\\widetilde{f}_{Z}}{g' \\cos\n",
    "\\widetilde \\vartheta} \\right).\n",
    "\\end{eqnarray*}"
   ]
  },
  {
   "cell_type": "code",
   "execution_count": 19,
   "metadata": {},
   "outputs": [
    {
     "data": {
      "text/html": [
       "<div><pre style=\"&#102;&#111;&#110;&#116;&#45;&#102;&#97;&#109;&#105;&#108;&#121;&#58;&#32;&#34;&#67;&#111;&#117;&#114;&#105;&#101;&#114;&#32;&#78;&#101;&#119;&#34;&#44;&#67;&#111;&#117;&#114;&#105;&#101;&#114;&#44;&#109;&#111;&#110;&#111;&#115;&#112;&#97;&#99;&#101;&#59;\">&#45;&#49;&#46;&#53;&#54;&#53;&#51;&#53;</pre></div>"
      ],
      "text/plain": [
       "-1.56535"
      ]
     },
     "execution_count": 19,
     "metadata": {
      "text/html": [],
      "text/plain": []
     },
     "output_type": "execute_result"
    }
   ],
   "source": [
    "Gammaf = -ArcSin[meanF[[3]]/(meanG*Cos[Thetaf])]"
   ]
  },
  {
   "cell_type": "markdown",
   "metadata": {},
   "source": [
    "Представим матрицу $\\widetilde L$ \"по столбцам\":\n",
    "$\\widetilde L =(\\widetilde l_1,\\widetilde l_2,\\widetilde l_3 )^T$."
   ]
  },
  {
   "cell_type": "markdown",
   "metadata": {},
   "source": [
    "Имеем (третий столбец)\n",
    "\\begin{eqnarray*}\n",
    "l_3 =\n",
    " \\left( \\begin{array}{c}\n",
    " \\sin \\vartheta \\cr\n",
    " \\phantom{-} \\cos \\vartheta \\cos \\gamma \\cr\n",
    " - \\cos \\vartheta \\sin  \\gamma\n",
    "\\end{array} \\right) \\Longrightarrow\n",
    "\\widetilde l_3 =\n",
    " \\left( \\begin{array}{c}\n",
    " \\widetilde l_{13} \\cr\n",
    " \\widetilde l_{23} \\cr\n",
    " \\widetilde l_{33}\n",
    "\\end{array} \\right)\n",
    "=\n",
    " \\left( \\begin{array}{c}\n",
    " \\sin \\widetilde \\vartheta \\cr\n",
    " \\phantom{-} \\cos \\widetilde \\vartheta \\cos \\widetilde \\gamma \\cr\n",
    " - \\cos \\widetilde\n",
    "\\vartheta \\sin \\widetilde \\gamma\n",
    "\\end{array} \\right),\n",
    "\\end{eqnarray*}"
   ]
  },
  {
   "cell_type": "code",
   "execution_count": 20,
   "metadata": {},
   "outputs": [
    {
     "data": {
      "text/html": [
       "<div><pre style=\"&#102;&#111;&#110;&#116;&#45;&#102;&#97;&#109;&#105;&#108;&#121;&#58;&#32;&#34;&#67;&#111;&#117;&#114;&#105;&#101;&#114;&#32;&#78;&#101;&#119;&#34;&#44;&#67;&#111;&#117;&#114;&#105;&#101;&#114;&#44;&#109;&#111;&#110;&#111;&#115;&#112;&#97;&#99;&#101;&#59;\">&#123;&#48;&#46;&#48;&#48;&#55;&#54;&#53;&#53;&#49;&#54;&#44;&#32;&#48;&#46;&#48;&#48;&#53;&#52;&#52;&#54;&#56;&#56;&#44;&#32;&#48;&#46;&#57;&#57;&#57;&#57;&#53;&#54;&#125;</pre></div>"
      ],
      "text/plain": [
       "{0.00765516, 0.00544688, 0.999956}"
      ]
     },
     "execution_count": 20,
     "metadata": {
      "text/html": [],
      "text/plain": []
     },
     "output_type": "execute_result"
    }
   ],
   "source": [
    "l3 = {Sin[Thetaf], Cos[Thetaf]*Cos[Gammaf], -Cos[Thetaf]*Sin[Gammaf]}"
   ]
  },
  {
   "cell_type": "markdown",
   "metadata": {},
   "source": [
    "### Измерения ДУС:\n",
    "\\begin{eqnarray*}\n",
    "\\omega' = \\left( \\begin{array}{c}\n",
    "         \\omega_{1}' \\cr\n",
    "          \\omega_{2}'  \\cr\n",
    "          \\omega_{3}'\n",
    "        \\end{array} \\right) =\n",
    "\\left( \\begin{array}{c}\n",
    "         \\omega_{X}' \\cr\n",
    "          \\omega_{Y}'  \\cr\n",
    "          \\omega_{Z}'\n",
    "        \\end{array} \\right)\n",
    "        =\n",
    "        \\left( \\begin{array}{c}\n",
    "         \\omega_{z_1} \\cr\n",
    "          \\omega_{z_2}  \\cr\n",
    "          \\omega_{z_3}\n",
    "        \\end{array} \\right) -\n",
    "\\underbrace{        \\left[\n",
    " \\left( \\begin{array}{c}\n",
    "         \\nu^0_{1} \\cr\n",
    "         \\nu^0_{2} \\cr\n",
    "         \\nu^0_{3}\n",
    "  \\end{array} \\right)\n",
    "+\n",
    " \\left( \\begin{array}{c}\n",
    "         \\nu^s_{1} \\cr\n",
    "         \\nu^s_{2} \\cr\n",
    "         \\nu^s_{3}\n",
    "\\end{array} \\right)\n",
    "\\right]}_{\\nu_z}\n",
    ".\n",
    "\\end{eqnarray*}"
   ]
  },
  {
   "cell_type": "markdown",
   "metadata": {},
   "source": [
    "здесь: \n",
    " $\\nu_{z}$ -- суммарный дрейф ДУС; <br>\n",
    " $\\nu^0_{i}$ -- суммарные систематические погрешности ДУС, к которым добавляются случайные, шумовые погрешности $\\nu^s_{i}$.\n"
   ]
  },
  {
   "cell_type": "code",
   "execution_count": 21,
   "metadata": {},
   "outputs": [],
   "source": [
    "wData = Transpose[Transpose[Data][[5;;7]]];"
   ]
  },
  {
   "cell_type": "code",
   "execution_count": 22,
   "metadata": {},
   "outputs": [
    {
     "data": {
      "text/html": [
       "<div><img alt=\"Output\" src=\"data:image/png;base64,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\"></div>"
      ],
      "text/plain": [
       "\n",
       "0.000163007    0.00210398     -0.000489154\n",
       "\n",
       "          -6\n",
       "1.03274 10     0.00194199     -0.00048887\n",
       "\n",
       "\n",
       "-0.000322704   0.00194131     -0.000812617\n",
       "\n",
       "          -7\n",
       "8.99304 10     0.00161799     -0.000650231\n",
       "\n",
       "          -7\n",
       "6.10036 10     0.00113277     -0.000325647"
      ]
     },
     "execution_count": 22,
     "metadata": {
      "text/html": [],
      "text/plain": []
     },
     "output_type": "execute_result"
    }
   ],
   "source": [
    "wData[[1;;5]] // MatrixForm"
   ]
  },
  {
   "cell_type": "markdown",
   "metadata": {},
   "source": [
    "Вычислим средние значения показаний ДУС\n",
    "$\\widetilde \\omega =(\\widetilde \\omega_{X}, \\widetilde \\omega_{Y},\n",
    "\\widetilde \\omega_{Z})^T$:\n",
    "\\begin{eqnarray*}\n",
    "{\\widetilde \\omega}_{i}  &=& \\frac{ \\sum\\limits_{k=1}^N \\omega'_{i}(k) }{N},\n",
    "\\qquad (i=1,2,3).\n",
    "\\end{eqnarray*}\n"
   ]
  },
  {
   "cell_type": "code",
   "execution_count": 23,
   "metadata": {},
   "outputs": [],
   "source": [
    "meanW = {};"
   ]
  },
  {
   "cell_type": "code",
   "execution_count": 24,
   "metadata": {},
   "outputs": [],
   "source": [
    "For[i = 1, i <= Dimensions[wData][[2]], i++, AppendTo[meanW, Mean[Transpose[wData][[i]]]]]"
   ]
  },
  {
   "cell_type": "markdown",
   "metadata": {},
   "source": [
    "Среднее значение  $\\widetilde \\omega$"
   ]
  },
  {
   "cell_type": "code",
   "execution_count": 25,
   "metadata": {},
   "outputs": [
    {
     "data": {
      "text/html": [
       "<div><pre style=\"&#102;&#111;&#110;&#116;&#45;&#102;&#97;&#109;&#105;&#108;&#121;&#58;&#32;&#34;&#67;&#111;&#117;&#114;&#105;&#101;&#114;&#32;&#78;&#101;&#119;&#34;&#44;&#67;&#111;&#117;&#114;&#105;&#101;&#114;&#44;&#109;&#111;&#110;&#111;&#115;&#112;&#97;&#99;&#101;&#59;\">&#123;&#48;&#46;&#48;&#48;&#48;&#48;&#49;&#56;&#54;&#48;&#48;&#57;&#44;&#32;&#45;&#48;&#46;&#48;&#48;&#48;&#48;&#52;&#51;&#53;&#54;&#52;&#50;&#44;&#32;&#48;&#46;&#48;&#48;&#48;&#48;&#54;&#48;&#56;&#57;&#56;&#56;&#125;</pre></div>"
      ],
      "text/plain": [
       "{0.0000186009, -0.0000435642, 0.0000608988}"
      ]
     },
     "execution_count": 25,
     "metadata": {
      "text/html": [],
      "text/plain": []
     },
     "output_type": "execute_result"
    }
   ],
   "source": [
    "meanW "
   ]
  },
  {
   "cell_type": "markdown",
   "metadata": {},
   "source": [
    "Угловая скорость вращения земли:"
   ]
  },
  {
   "cell_type": "code",
   "execution_count": 26,
   "metadata": {},
   "outputs": [
    {
     "data": {
      "text/html": [
       "<div><pre style=\"&#102;&#111;&#110;&#116;&#45;&#102;&#97;&#109;&#105;&#108;&#121;&#58;&#32;&#34;&#67;&#111;&#117;&#114;&#105;&#101;&#114;&#32;&#78;&#101;&#119;&#34;&#44;&#67;&#111;&#117;&#114;&#105;&#101;&#114;&#44;&#109;&#111;&#110;&#111;&#115;&#112;&#97;&#99;&#101;&#59;\">&#48;&#46;&#48;&#48;&#48;&#48;&#55;&#50;&#57;&#50;&#49;&#50;</pre></div>"
      ],
      "text/plain": [
       "0.0000729212"
      ]
     },
     "execution_count": 26,
     "metadata": {
      "text/html": [],
      "text/plain": []
     },
     "output_type": "execute_result"
    }
   ],
   "source": [
    "u = 7.2921157*10^(-5)"
   ]
  },
  {
   "cell_type": "markdown",
   "metadata": {},
   "source": [
    "Спроектируем на оси $Mx$ средние значения $\\widetilde \\omega$ показаний ДУС\n",
    "\\begin{eqnarray*}\n",
    "{\\widetilde \\omega}_x =\n",
    "\\underbrace{\\left(\n",
    "\\begin{array}{ccc}\n",
    "0 & \\sin \\widetilde \\gamma  &   \\cos \\widetilde \\gamma \\cr\n",
    "\\cos \\widetilde \\vartheta  & -  \\sin \\widetilde \\vartheta\n",
    "\\cos \\widetilde \\gamma &  \\phantom{-}  \\sin \\widetilde\\vartheta \\sin \\widetilde \\gamma \\cr\n",
    "\\sin \\widetilde \\vartheta &  \\phantom{-} \\cos \\widetilde\\vartheta\n",
    "\\cos \\widetilde \\gamma &  -\\cos \\widetilde \\vartheta \\sin \\widetilde \\gamma\n",
    "\\end{array} \\right)}_{\\widetilde B_{xr}} \\widetilde \\omega.\n",
    "\\end{eqnarray*}\n"
   ]
  },
  {
   "cell_type": "code",
   "execution_count": 27,
   "metadata": {},
   "outputs": [],
   "source": [
    "Bxr = {{0, Sin[Gammaf], Cos[Gammaf]},\n",
    "        {Cos[Thetaf], -Sin[Thetaf]*Cos[Gammaf], Sin[Thetaf]*Sin[Gammaf]},\n",
    "        {Sin[Thetaf], Cos[Thetaf]*Cos[Gammaf], -Cos[Thetaf]*Sin[Gammaf]}};"
   ]
  },
  {
   "cell_type": "code",
   "execution_count": 28,
   "metadata": {},
   "outputs": [
    {
     "data": {
      "text/html": [
       "<div><pre style=\"&#102;&#111;&#110;&#116;&#45;&#102;&#97;&#109;&#105;&#108;&#121;&#58;&#32;&#34;&#67;&#111;&#117;&#114;&#105;&#101;&#114;&#32;&#78;&#101;&#119;&#34;&#44;&#67;&#111;&#117;&#114;&#105;&#101;&#114;&#44;&#109;&#111;&#110;&#111;&#115;&#112;&#97;&#99;&#101;&#59;\">&#123;&#48;&#46;&#48;&#48;&#48;&#48;&#52;&#51;&#56;&#57;&#53;&#51;&#44;&#32;&#48;&#46;&#48;&#48;&#48;&#48;&#49;&#56;&#49;&#51;&#53;&#57;&#44;&#32;&#48;&#46;&#48;&#48;&#48;&#48;&#54;&#48;&#56;&#48;&#49;&#50;&#125;</pre></div>"
      ],
      "text/plain": [
       "{0.0000438953, 0.0000181359, 0.0000608012}"
      ]
     },
     "execution_count": 28,
     "metadata": {
      "text/html": [],
      "text/plain": []
     },
     "output_type": "execute_result"
    }
   ],
   "source": [
    "wx = Bxr.meanW "
   ]
  },
  {
   "cell_type": "markdown",
   "metadata": {},
   "source": [
    "Тогда\\begin{eqnarray*}\n",
    "\\widetilde \\omega_x = \\left(\n",
    "\\begin{array}{c}\n",
    "- u \\cos \\widetilde \\varphi \\sin \\widetilde \\psi \\cr\n",
    "\\phantom{-} u \\cos \\widetilde \\varphi \\cos \\widetilde \\psi \\cr\n",
    "u \\sin \\widetilde \\varphi\n",
    "\\end{array}\n",
    "\\right) \\Longrightarrow\n",
    "\\widetilde  \\psi = -\\arctan\\frac{{\\widetilde \\omega}_{x_1}}{{\\widetilde \\omega}_{x_2}} , \\quad\n",
    "\\widetilde \\varphi = \\arctan \\left( \\frac{{\\widetilde \\omega}_{x_3}}{\\sqrt{{\\widetilde \\omega}^2_{x_1}+{\\widetilde \\omega}^2_{x_2}}} \\right).\n",
    "\\end{eqnarray*}"
   ]
  },
  {
   "cell_type": "code",
   "execution_count": 29,
   "metadata": {},
   "outputs": [
    {
     "data": {
      "text/html": [
       "<div><pre style=\"&#102;&#111;&#110;&#116;&#45;&#102;&#97;&#109;&#105;&#108;&#121;&#58;&#32;&#34;&#67;&#111;&#117;&#114;&#105;&#101;&#114;&#32;&#78;&#101;&#119;&#34;&#44;&#67;&#111;&#117;&#114;&#105;&#101;&#114;&#44;&#109;&#111;&#110;&#111;&#115;&#112;&#97;&#99;&#101;&#59;\">&#45;&#48;&#46;&#51;&#57;&#49;&#56;&#48;&#51;</pre></div>"
      ],
      "text/plain": [
       "-0.391803"
      ]
     },
     "execution_count": 29,
     "metadata": {
      "text/html": [],
      "text/plain": []
     },
     "output_type": "execute_result"
    }
   ],
   "source": [
    "Psiw = -ArcTan[wx[[1]], wx[[2]]]"
   ]
  },
  {
   "cell_type": "code",
   "execution_count": 30,
   "metadata": {},
   "outputs": [
    {
     "data": {
      "text/html": [
       "<div><pre style=\"&#102;&#111;&#110;&#116;&#45;&#102;&#97;&#109;&#105;&#108;&#121;&#58;&#32;&#34;&#67;&#111;&#117;&#114;&#105;&#101;&#114;&#32;&#78;&#101;&#119;&#34;&#44;&#67;&#111;&#117;&#114;&#105;&#101;&#114;&#44;&#109;&#111;&#110;&#111;&#115;&#112;&#97;&#99;&#101;&#59;\">&#48;&#46;&#55;&#57;&#53;&#55;&#56;&#51;</pre></div>"
      ],
      "text/plain": [
       "0.795783"
      ]
     },
     "execution_count": 30,
     "metadata": {
      "text/html": [],
      "text/plain": []
     },
     "output_type": "execute_result"
    }
   ],
   "source": [
    "Phiw = ArcTan[wx[[3]], Sqrt[wx[[1]]^2+wx[[1]]^2]]"
   ]
  },
  {
   "cell_type": "markdown",
   "metadata": {},
   "source": [
    "### Результаты в градусах:"
   ]
  },
  {
   "cell_type": "markdown",
   "metadata": {},
   "source": [
    "##### Географическая широта места $\\widetilde \\varphi = $"
   ]
  },
  {
   "cell_type": "code",
   "execution_count": 31,
   "metadata": {},
   "outputs": [
    {
     "data": {
      "text/html": [
       "<div><pre style=\"&#102;&#111;&#110;&#116;&#45;&#102;&#97;&#109;&#105;&#108;&#121;&#58;&#32;&#34;&#67;&#111;&#117;&#114;&#105;&#101;&#114;&#32;&#78;&#101;&#119;&#34;&#44;&#67;&#111;&#117;&#114;&#105;&#101;&#114;&#44;&#109;&#111;&#110;&#111;&#115;&#112;&#97;&#99;&#101;&#59;\">&#123;&#52;&#53;&#44;&#32;&#51;&#53;&#44;&#32;&#52;&#50;&#46;&#48;&#48;&#52;&#56;&#125;</pre></div>"
      ],
      "text/plain": [
       "{45, 35, 42.0048}"
      ]
     },
     "execution_count": 31,
     "metadata": {
      "text/html": [],
      "text/plain": []
     },
     "output_type": "execute_result"
    }
   ],
   "source": [
    "{Floor[Phiw*180/Pi],\n",
    " Floor[Mod[Phiw*180/Pi, 1]*60],\n",
    " Mod[Mod[Phiw*180/Pi, 1]*60, 1]*60}"
   ]
  },
  {
   "cell_type": "markdown",
   "metadata": {},
   "source": [
    "##### Угол истинного курса $ \\widetilde \\psi = $"
   ]
  },
  {
   "cell_type": "code",
   "execution_count": 32,
   "metadata": {},
   "outputs": [
    {
     "data": {
      "text/html": [
       "<div><pre style=\"&#102;&#111;&#110;&#116;&#45;&#102;&#97;&#109;&#105;&#108;&#121;&#58;&#32;&#34;&#67;&#111;&#117;&#114;&#105;&#101;&#114;&#32;&#78;&#101;&#119;&#34;&#44;&#67;&#111;&#117;&#114;&#105;&#101;&#114;&#44;&#109;&#111;&#110;&#111;&#115;&#112;&#97;&#99;&#101;&#59;\">&#123;&#45;&#50;&#51;&#44;&#32;&#51;&#51;&#44;&#32;&#52;&#46;&#57;&#48;&#54;&#53;&#57;&#125;</pre></div>"
      ],
      "text/plain": [
       "{-23, 33, 4.90659}"
      ]
     },
     "execution_count": 32,
     "metadata": {
      "text/html": [],
      "text/plain": []
     },
     "output_type": "execute_result"
    }
   ],
   "source": [
    "{Floor[Psiw*180/Pi],\n",
    " Floor[Mod[Psiw*180/Pi, 1]*60],\n",
    " Mod[Mod[Psiw*180/Pi, 1]*60, 1]*60}"
   ]
  },
  {
   "cell_type": "markdown",
   "metadata": {},
   "source": [
    "##### Угол крена $\\widetilde{\\gamma} = $"
   ]
  },
  {
   "cell_type": "code",
   "execution_count": 33,
   "metadata": {},
   "outputs": [
    {
     "data": {
      "text/html": [
       "<div><pre style=\"&#102;&#111;&#110;&#116;&#45;&#102;&#97;&#109;&#105;&#108;&#121;&#58;&#32;&#34;&#67;&#111;&#117;&#114;&#105;&#101;&#114;&#32;&#78;&#101;&#119;&#34;&#44;&#67;&#111;&#117;&#114;&#105;&#101;&#114;&#44;&#109;&#111;&#110;&#111;&#115;&#112;&#97;&#99;&#101;&#59;\">&#123;&#45;&#57;&#48;&#44;&#32;&#49;&#56;&#44;&#32;&#52;&#51;&#46;&#53;&#51;&#56;&#50;&#125;</pre></div>"
      ],
      "text/plain": [
       "{-90, 18, 43.5382}"
      ]
     },
     "execution_count": 33,
     "metadata": {
      "text/html": [],
      "text/plain": []
     },
     "output_type": "execute_result"
    }
   ],
   "source": [
    "{Floor[Gammaf*180/Pi],\n",
    " Floor[Mod[Gammaf*180/Pi, 1]*60],\n",
    " Mod[Mod[Gammaf*180/Pi, 1]*60, 1]*60}"
   ]
  },
  {
   "cell_type": "markdown",
   "metadata": {},
   "source": [
    "##### Угол тангажа $ \\widetilde\\vartheta = $"
   ]
  },
  {
   "cell_type": "code",
   "execution_count": 34,
   "metadata": {},
   "outputs": [
    {
     "data": {
      "text/html": [
       "<div><pre style=\"&#102;&#111;&#110;&#116;&#45;&#102;&#97;&#109;&#105;&#108;&#121;&#58;&#32;&#34;&#67;&#111;&#117;&#114;&#105;&#101;&#114;&#32;&#78;&#101;&#119;&#34;&#44;&#67;&#111;&#117;&#114;&#105;&#101;&#114;&#44;&#109;&#111;&#110;&#111;&#115;&#112;&#97;&#99;&#101;&#59;\">&#123;&#48;&#44;&#32;&#50;&#54;&#44;&#32;&#49;&#57;&#46;&#48;&#48;&#53;&#51;&#125;</pre></div>"
      ],
      "text/plain": [
       "{0, 26, 19.0053}"
      ]
     },
     "execution_count": 34,
     "metadata": {
      "text/html": [],
      "text/plain": []
     },
     "output_type": "execute_result"
    }
   ],
   "source": [
    "{Floor[Thetaf*180/Pi],\n",
    " Floor[Mod[Thetaf*180/Pi, 1]*60],\n",
    " Mod[Mod[Thetaf*180/Pi, 1]*60, 1]*60}"
   ]
  },
  {
   "cell_type": "markdown",
   "metadata": {},
   "source": [
    "### Графики накапливающихся средних значений показаний акселерометров, ДУС, а также соответствующих среднеквадратичных отклонений."
   ]
  },
  {
   "cell_type": "code",
   "execution_count": 35,
   "metadata": {},
   "outputs": [
    {
     "data": {
      "text/html": [
       "<div><img alt=\"Output\" src=\"data:image/png;base64,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\"></div>"
      ],
      "text/plain": [
       "\n",
       "31897.         0.0796552      0.0359945      9.81418        0.000163007\n",
       " \n",
       "\n",
       ">    0.00210398     -0.000489154\n",
       "\n",
       "                                                                      -6\n",
       "31897.         0.0796159      0.083286       9.81803        1.03274 10\n",
       " \n",
       "\n",
       ">    0.00194199     -0.00048887\n",
       "\n",
       "\n",
       "31897.1        0.0796646      0.0360099      9.81813        -0.000322704\n",
       " \n",
       "\n",
       ">    0.00194131     -0.000812617\n",
       "\n",
       "                                                                      -7\n",
       "31897.1        0.0796391      0.0359614      9.80629        8.99304 10\n",
       " \n",
       "\n",
       ">    0.00161799     -0.000650231\n",
       "\n",
       "                                                                      -7\n",
       "31897.1        0.0796525      0.0359913      9.81418        6.10036 10\n",
       " \n",
       "\n",
       ">    0.00113277     -0.000325647"
      ]
     },
     "execution_count": 35,
     "metadata": {
      "text/html": [],
      "text/plain": []
     },
     "output_type": "execute_result"
    }
   ],
   "source": [
    "Data[[1;;5]] // MatrixForm"
   ]
  },
  {
   "cell_type": "markdown",
   "metadata": {},
   "source": [
    "Будем считать что первое измерение происходит в момент времени $t_0=0$"
   ]
  },
  {
   "cell_type": "code",
   "execution_count": 36,
   "metadata": {},
   "outputs": [],
   "source": [
    "DataGraph = Data;"
   ]
  },
  {
   "cell_type": "code",
   "execution_count": 37,
   "metadata": {},
   "outputs": [],
   "source": [
    "For[i=2, i <= Dimensions[DataGraph][[1]], i++, DataGraph[[i]][[1]] = Data[[i]][[1]]-Data[[1]][[1]]];\n",
    "DataGraph[[1]][[1]]=0;"
   ]
  },
  {
   "cell_type": "code",
   "execution_count": 39,
   "metadata": {},
   "outputs": [
    {
     "data": {
      "text/html": [
       "<div><img alt=\"Output\" src=\"data:image/png;base64,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\"></div>"
      ],
      "text/plain": [
       "\n",
       "0              0.0796552      0.0359945      9.81418        0.000163007\n",
       " \n",
       "\n",
       ">    0.00210398     -0.000489154\n",
       "\n",
       "                                                                      -6\n",
       "0.033334       0.0796159      0.083286       9.81803        1.03274 10\n",
       " \n",
       "\n",
       ">    0.00194199     -0.00048887\n",
       "\n",
       "\n",
       "0.066668       0.0796646      0.0360099      9.81813        -0.000322704\n",
       " \n",
       "\n",
       ">    0.00194131     -0.000812617\n",
       "\n",
       "                                                                      -7\n",
       "0.100002       0.0796391      0.0359614      9.80629        8.99304 10\n",
       " \n",
       "\n",
       ">    0.00161799     -0.000650231\n",
       "\n",
       "                                                                      -7\n",
       "0.133336       0.0796525      0.0359913      9.81418        6.10036 10\n",
       " \n",
       "\n",
       ">    0.00113277     -0.000325647"
      ]
     },
     "execution_count": 39,
     "metadata": {
      "text/html": [],
      "text/plain": []
     },
     "output_type": "execute_result"
    }
   ],
   "source": [
    "DataGraph[[1;;5]] // MatrixForm"
   ]
  },
  {
   "cell_type": "code",
   "execution_count": 40,
   "metadata": {},
   "outputs": [
    {
     "data": {
      "text/html": [
       "<div><img alt=\"Output\" src=\"data:image/png;base64,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\"></div>"
      ],
      "text/plain": [
       "0           0.0796552\n",
       "\n",
       "0.033334    0.0796159\n",
       "\n",
       "0.066668    0.0796646\n",
       "\n",
       "0.100002    0.0796391\n",
       "\n",
       "0.133336    0.0796525"
      ]
     },
     "execution_count": 40,
     "metadata": {
      "text/html": [],
      "text/plain": []
     },
     "output_type": "execute_result"
    }
   ],
   "source": [
    "Transpose[Transpose[DataGraph][[{1, 2}]]][[1;;5]] // MatrixForm"
   ]
  },
  {
   "cell_type": "code",
   "execution_count": 41,
   "metadata": {},
   "outputs": [],
   "source": [
    "List2[col_] := Transpose[Transpose[DataGraph][[{1, col}]]]"
   ]
  },
  {
   "cell_type": "markdown",
   "metadata": {},
   "source": [
    "### Графики накапливающихся средних значений показаний акселерометров"
   ]
  },
  {
   "cell_type": "markdown",
   "metadata": {},
   "source": [
    "Вычисление математического ожидания:\n",
    "\\begin{eqnarray*}\n",
    "\\widetilde \\mu_0 & =& x_0, \\qquad  \\qquad  \\qquad \\ \\ j = 0, \\qquad  \\qquad \\ \\ n = 1, \\nonumber \\\\\n",
    "\\widetilde \\mu_{j} &=& \\frac{j \\cdot \\widetilde \\mu_{j-1} + x_{j}}{j+1},\\qquad j = 1, 2, \\ldots, \\qquad  n = j+1.\n",
    " \\end{eqnarray*}\n",
    " "
   ]
  },
  {
   "cell_type": "code",
   "execution_count": 42,
   "metadata": {},
   "outputs": [
    {
     "name": "stdout",
     "output_type": "stream",
     "text": [
      "0.0751433 estimate of f1\r\n"
     ]
    },
    {
     "data": {
      "text/html": [
       "<div><img alt=\"Output\" src=\"data:image/png;base64,iVBORw0KGgoAAAANSUhEUgAAAfQAAAFDCAIAAABDe2sQAAAAz3pUWHRSYXcgcHJvZmlsZSB0eXBlIGV4aWYAAHjadU9bjgMhDPvnFHuEvEjgOEzLSL1Bj7/OMKsVlWqJ2BgnKGW+X2f5SQhTsRrNuzsB1q3LgGi0sJipX/XCabfi3S+mS/IA1/8Hn4v52P3wxdI+BpEsofkDtNrdcA9SWT6PdT/uvIzW9kFKG+xvLf5y1xCvzmGoJhThHboVSJBXoRp++sMdQfankD3A0yPQ5pEJHdmYkBl7ehZXGM9cQfOwDnBHFW2SjkDb5Vc4B171yuQ6v2QoWs1ZvGj4AAAACXBIWXMAAAsTAAALEwEAmpwYAAAAPHRFWHRTb2Z0d2FyZQBDcmVhdGVkIHdpdGggdGhlIFdvbGZyYW0gTGFuZ3VhZ2UgOiB3d3cud29sZnJhbS5jb21coqaFAAAAIXRFWHRDcmVhdGlvbiBUaW1lADIwMjE6MDk6MjggMjI6NDE6NTjsc+NPAAAgAElEQVR4nO3dX266TBSA4dMvXQQEF0GbNK7BXjSuwQuJm9DoJgxNfqzB9KKugTSxLEICu/C7QHGEgWKrCPg+F41l+A8exsMwPOx2OwEAdMt/t14BAMDlEdyBVgu8xToWidcLL7j1unRHHHheEN96Lf7m8dYr8Edx4L0v/VBExLKGb+OBbdx6ldA68XoxW4X9iTuyb70q57NfXz5mzkqs4Xx663XpjPj7w9++vErR+aDGnf5kPGpk2Gl1cI/Xi9lKhpP51DbiYP2+XL7LfDpo4n5GUylf05YyBlN3cOuV6Jg4Cq2XcVEkiYPPpS/9iTuy4/Vitnw3Gxl22hzcg89VKP1JUlk37PQUDzxn6Vv9vvh+KGINDzs+XnvvKz8UsfrD8Wh/MALPWfrKTPsTd2QncxjOpwMj8Jylf6jTaeegHbh3jBz71SiYczqP41yU4h/WQTvP40BZL2ar8LAbStZ2f62cTwext1j6MpxPB0Z+/KSaK/v1SfZff+KORLcnq69w1TGfNyeLsYaTl69lstrHjTmZrbJ1Yf7wzpa+WJaEmvCuPTe066nbdZI/pvnzofjQVzqgccFRPm50bublR1k9LXSnSnaX5Dcjc+yqfA2Lzig7P3Jm+dZw2FutNEvRbHhe8XLjaCu9ZyO7Ew+zMuyR6yaFhtkT8aNYpHnBvcU59zjailhmwT4Nt+bYdedDK1zNvGB/ILcvc9edT3p+MuzAGs5d13Un/fLl6eZQNluJ1+9LX4Zz1530w9X7uiiFF6/fk3m47qQf+qvPwtxp6eL0gs9VGreqTR6vP/zexE2uRbOV35vMXXf+sl3NFsom+JtA9gdBkexKZU+WzOF3m2aPXHc+tESkP3Fdt3KNyRi89UX8j/XaW/oi/bdkQrM/nMzHL1bhdGdt0XHX6Y6p5nyofuiPy1cOaPnA0pnrj3K668sOR3/iuoeDsJ9X0cjZr+FZZ5Rmtrmjb+qWct5ezZ/J8fdXeIgsup2j7viNL03V6uAeivSKgrv18mSIGE8vlsg2iuPvr/AwzH7uH45oonAmJ4vTzaF0tmIMpkn0iaPSWRuDqTs2v9feYrH0RWQbxSKGae0//bAO5Wu9/jiefNUmP57Z8frDF2v4ah/2ZPj1nayPZVnJxHFUmtAonoNuqedt2tns0aQv4Wrli/Qn+zq9PRidd5umdIuUoKA7pprzQXvof1x+pYHlM1dWNdj4Iv1n25CkSuqO7PMOR8nI2a/hOWdU9XXILOWcvao9k+MoTGap3zmpwFssfRFr+NrIezUtTsuk0U/75dwH7PRXkyki4WrmrA4jJFPG0Vakp53/ydi6YYdTRjNbdZr48IN5YIjEujnvx+gP38aTzWz/s9MYjIdfsyrrYBatrcjXxyq0LCtUkg4/rG24WobSn+TTjemefBIR6fWs0N8Ez+L3+32/WuXl5FhU270lm1Y0pTWcTIsy0PZzX3xfrP7zZb6Mp/vkZNdpj6koJfvzoXC0yge0YGDpOqirmv3xVbAKhd+0opFNEf3X8KDSGVVpHbJLib+LNlwzbX65SlKmeOckkT0UsYbjBubbRVoe3MuyXfvz4CR3k81ISnK9tl60x0ZJemaGKZOv9bM9Wc/B1DU9ZzlbyHxqauac1FD26daNHM/Vw12E8nWQoGhtJQxD6U/eZLkMiyfPbvXk5Wu5/HzOthw57slIRMznF8tffXxY1stL4bwyTvNoVXZvyablVju9pbH6WD+96VdgX8EN/Y/1q32Bb+TpPlF3XdExldPzYSy60eLCrdYdUP1AKTqv9jM/rqph9kS0v79+OFV+GDkQ0X8N9Xuv4IyqtA6ZpcTfH0U7Py+/3Pj7KzzEhKKdE6/3kb0/aeKt1ESL0zJivw4t8T/WQSwicbBeOI6TZsSS33vpLzv1N2C8XjhOkuwLNn7FrIxo51Aw273AU9eoXBjFInGSwSv8FVm+OJ2TX4zVJjcGb33xP9KtW30G6p48mVcY9kwzP4vMEvVz+OumFWxwYUm8fl+F0p/Mh5aU3QEpV7pFx10nIvljWnA+VDr06fbpUgAleYGimSurekh5qLv+rMNRMrL2a1jxjKq+Dpml6De86NuYW66SlNHvnP2pJNKfTJvceLbFNXcRYzCdi/e+nK1ERCxrOJkP7EN1rxd9Lhw/tPr7X02D6SRaLJPfeMn19lAr8pfOsXLkL71n97lgadk5aGd7nMIeTfrbZTL3/XroIv0+AbN0fLH6fUv8sPDmu3YdSsJB/+1kmfpNyLGf++KvPoPB6LCDHRGrP5yPlMUZTy/WKuw927IpXv7xEGnm8LdNO6WkZfqTgSFedoRDaB/ZhhjDr9lq9b5++k2lq3yLjrtOc0wHufPBEN2hL5E5oCUDfzyvjqtqj+ZDSbbouOsLvy+aK0nxsdN8DaufURVP1/xStBteKLPck5YyIpqdE6+/ksp8Gjma+YjEQwf7llFakv04nkwyd0hygwD8QtWvYX1LCbzF5rlCXTuOxWhqquUcbU7LAEBF8Xojb5WatXQisks3a+4AcPeouQNABxHcAaCDCO4A0EE3Ce7xaZN0AMCF1d7Ovf09rAJA812t5q7UzgPPSZ8I9WZLP7SKHyMEAFzA1YL7b3tYBQD83RVz7hfpYRUA8AtXvaFqP/dF5HI9rAIAqrlmcFd7WG35e8QBoF2uF9wv08MqAOAXrhXclR5WB2PCOwDUi47DAKCD6H4AADqI4A4AHURwB4AOIrgDQAcR3AGggwjuANBBBHcA6CCCOwB0UK3B3XGcOhcHAHeLmjsAdBDBHQA66FFEAs9Z+iJiDefTwembNDJF8XoxWx3ff5oMPQ7sT9yRrUylnycA4Op23//G889otzt+SJUU7aLPf4eif9/p6P++d7td9DnPjp0Yj8eaoQCAS3uMo6318mqIiP3cX25ikbSeXVIUeO/yOjVE4mjbF3GcpYhIf+LaIhJHItuZs5JjXR4AUKdHEemZSdA2zNx7q/VFgbeUN9cQEYmj0Jc31x2JSLxeeIE9ko0f9ibu1E6HEN4BoF6PIrKNYrENkTgKxTwt1hYFm+3wdZR8Nkyrb9qHz71tFMtg5LpyMkR5JbbaGtJNxwMAXNR/htkLv75jEQk2vmWq9z4LioLN9uXJOI7jb4Lkcxxte6Yhgbc4vHRpP0ThKq64WQBw3x7FHk02zsxZiVjD+cgQEQm8RfQ6HRiaolzAtkfzaJHk3K3hfGqLyOhts6+gH4YAAGpV62v2HMehwg4ANeAhJgDoIII7AHQQwR0AOojgDgAdVHdwdxyHjn8B4Noea14erWUAoAakZQCggwjuANBBBHcA6CCCOwB0EMEdADqI4A4AHUQ7dwDoINq5A0AHkZYBgA4iuANABxHcAaCDCO4A0EEEdwDoIII7AHQQ7dwBoINo5w4AHURaBgA6iOAOAB1EcAeADiK4A0AHEdwBoIMI7gDQQbRzB4AOop07AHQQaRkA6CCCOwB00KOIBJ6z9EXEGs6nA+OkOFMUrxezVZiWJkOPA/sTd2SXzxAAUIfd97/x/DPa7Y4fUiVFu+jz36Ho33c6+r/vsqnG4/EOAHB9/8XR1np5MkTEfu6HUazE/ZKiwHuX14EhEkfbvmySNjBLmYzssqkAAPV4FJGemaRODNPKFuuLAm8pb64hIhJHoS9vrjsSkXi98AL7tXSGAIAaPIrINorFNkTiKBTztFhbFGy2w9dR8tkwrb5pHz73tlFcPkO1kTvNIgHgSv4zzF749R2LSLDxLVO9/VlQFGy2SdplP46/CZLPcbTtmUbJDEXEVVxzuwDgrj2KPZpsnJmzErGG85EhIhJ4i+h1OjA0RYcQns7AHs2jheMsJWkcY4uIbioAQI0edrtdbQtzHIcKOwDUgIeYAKCDCO4A0EEEdwDoIII7AHQQ/bkDQAfRnzsAdBBpGQDoIII7AHQQwR0AOojgDgAdRHAHgA4iuANAB9HOHQA6iHbuANBBpGUAoIMI7gDQQQR3AOgggjsAdBDBHQA6iOAOAB1EO3cA6CDauQNAB5GWAYAOIrgDQAcR3AGggwjuANBBBHcA6CCCOwB0EO3cUdXDgzw83HolAFRDO3cA6CDSMqiEOjvQLgR3AOigRxEJPGfpi4g1nE8HxklxpiheL2arMC1Nhh7GOY6WH4IO2O2ovwOt8SiBt9wO5+7ACDznff2khuJ80WDqDpKyeO19Pw0MkTjaZiJ4fggAoFb/xdHWenkyRMR+7odRrJSVFAXeu7wm0TuORL5mjuM4jheIfggAoFaPItIzkzq2YVrZYn1R4C3lzU1Kgo0f9ibu1BaJ1wsvsEeSG2JffTNQjyQzs9vdej0A/ORRRLZRLLYhEkehmKfF2qJgsx2+jvb/2KO0caNh9rZRLIPcEPuYoFEbudMssi1ItQOt859h9sKv71hEgo1vmWqevKAo2GyTZE3yn7dY7xM2cbTtmYZmiMJVXG+rcEFJZC+vrfN8E9A0j2KPJhtn5qxErOF8ZIiIBN4iep0ODE1RLmDbo7fNvjpuDedTW0TyQ9AdmSifZGloSAM0zcOuxgSq4zhU2FsnU3PP5NyTf6vU7gHUqe7uB9AiaWW8KGpTWwcaiydUoUfgBlqN4A69tLZOsgVoI4I7NNLWL/nIrg7JXACo7APNQX/u0FBvn2aoQ9KbqzzZBDQN/blDo8qtVMI60GSkZbCXr6TTSAZoL4I7zlaSYSfuo3W6etLSzh0ih/O7ylme9h3W1a8E7kqHT+O6a+4d3pXtpT0oVXIyaccDycgk36+Ebw1+oe7gzve/af4SONLmkkSfGtTWO1vmZ1yy3O71DZfZnI5tnZBzx7mXW7Vtu7bBTPe+JE2QaYF6pUWkEbwoTXepRd/2UqFet0SpnXTs1KWd+73LhOYkZP/6Bxa/zC6uhhvXmbmpSbY0/JU8+nDustoVQ9u1tirauUNENFVvwnRzqImvfK2zisydkvzTCZknG/7yHHLJow/qUtQoX//JVrL3OtNegNYy96voS/jjN424X5t8nToTespHKApecvoYWjrtWStWMn4miKsr3JyTJ7Mm6vWmKB3fnJWvgpz7XSuqnnSg2tIBJdmS6hOq3QSl2ZU0rOezLpklll8e8kFQGxZ/bI5Vf64mH9klt4e1O7xFXw1q7l1W5Zf77yrvvx4ZZymqg2fenVJUkddWOdXg9YtQlUm+lz/YnK5e0Umi/nqopyuL8k0uie/ahFiTu9+g5t41mexqucael6go33gpH57+fv0uWvSPyyr/taG95FzP37Mraihv/p1hgnvrlbRXq3Jrq05FP+dRokokKgqpVa7uf4yqFwnKtVUyGnXiXXtlbhDcG7V/u6rod3rq79/qiitQcTgu4lY/xS51Ol3paanLzvCPG5t/nuBKbtDOfTymnfsPqh9ybY41kzH84yLORaoHv1P9jnFFNcT0tI1N+bK041z7m0I7965JvyG3utVD3Ry/lrlb+/cT+MefsL+WXzftN668+qVOdfEvLDn3hvrdufhjVf2GkTfT6o5rQIk7vy3xxxhXcx1ZbWOq3lXKrIb29/RVvwsE9yb6ddPafDUh/2jGDW+lZs7ve45fVdxzgkttiX+p87ae/Zm/rqjNirSJHTn9hXGp7wXBvYmqH92i5s/ls7pqVD3rdtOVbqB1wD1H9kQmd5H5ID/FwfrTkvm6+bnPi1z2i0Bwb66zjvTNsy4lfnxAEapmHsSbyFQUik5ytXZf0jwsP8OLK6+k/zhV6iI1HoJ745z1qMWPz/4VPcBSzzMjVZ4GTEdGiiufKs1sqKntfF1e/eK0egdeauUJ7s2SyU1XqZJI8fVgp+uw6Sbnfcn3re1fRdSs5LlW7SOyLT27LtBSaFfjpqc9udMgsshDrq++jJ2um72iLgfO6org4s5a+qWavnXArdqwthS7qwjt3BsnOVl3uR6jylu8FDVsv/hdGqBRiOxFSMvcUkmD3Ewmsfw2UZGLP/J3rrPuKQG4IPqWubGidq9VxpSfshnphaEtoZNzo0UHCw33KCKB5yx9EbGG8+nAOCnOFMXrxWwVpqXJ0MM4x9FKZijU0RRqAj3/CHJR8j0/lTp+Zkzt8Hqcewv3ehmkhkfM9ArNtQ2XtPv+N55/Rrvd8UOqpGgXff5LhkSf89Oy4qnG4/EOCpGdyMkH7Tj58bvqGhtYZZ7lI1xvnyfrpp4GwKX8F0db6+XJEBH7uR9GsRL3S4oC711ek0p5HIl8zRzHcRwvKJ8Kv1BeN0dFJW1JyxubXu/HRKY1EdV2XNajiPTMJHVimFa2WF8UeEt5c5OSYOOHvYk7tUXi9cIL7NfSGUKV/0o3PIFwbbtDTzhX2glFc04PxA2fWRcu3rioRxHZRrHYhkgchWKeFmuLgs12+Dra/2OP0saNhtnbRnH5DNOm7kKzyNOWMBXz453//l+jDqvevciE78xDXkU9+eUn/AvtQ2edP7Ko2X+G2Qu/vmMRCTa+Zaq3PwuKgs02Sbsk/3mL9T71EkfbnmmUzFBEXMUVN6tVyp9awl/kb1BLrpnpjxFWrddf6jC198lJtMWj2KPJxpk5KxFrOB8ZIiKBt4hepwNDU3QI4ekM7NHbZl8dt4bzqS0iuqlQTNtUBtdQ5Tqq/nTQpsX/eJi4iqMedXc/QIU9pTaAK3q+9D5l+mD4YyTNT169X4TyHM6vV+mPcwCq4AnV20j7GEjRXkJVvdvuv/jFHQ5tav7iywX+juB+M/l2MlBpu9a5iN3ulylvgjJahOB+e2k7GWJHonqXDOUaeL1s4Cqhq+oO7pzcRa6XfGgjbQuWhuyi9GL8wDsC0WB1B/fx2FGbut8z6unl8vckEmcF03p2cpUQf5GbsUB19OeO1jirMeJVK9SdSROhw8i53wbVt9+pst/SenTNO1lbfyeg41YI7jeg/cIT7ivKPIhUT6PJojXZ7bJtb7TxPb3YcJRRm7rTMijBN7+i9GZmQtvl/U1kVoyuY3BDBHd0x20DaPmjsEDNCO43QCXu7xobSXfKm815xRJuiOCOjmjOJTOfjWnOuuF+1H1D1XHuup272oE7Oo+YjhuinXvdiOwAakBTyBugQgfg2gjuANBBNwju5CXYAwCu7QbB/Z6TErSdAFAP0jL14f1qAGpDcAeADqKde32oswOoDe3cAaCDSMvUh0YyAGpDcAeADiK4A0AHEdzrww1VALUhuNeHnDuA2hDcL6kkfBPZAdSJdu4XQ/gG0By0c68POXcAtSEtUxMiO4A6EdwvT/suPZI2AOr0KCKB5yx9EbGG8+nAOCnOFMXrxWwVpqXqBPF68S7j5N/DVPp5dhtBHEATPErgLbfDuTswAs95Xz+poThfNJi6g6QsXnvfT+m4gTdbhdZwXxRt7y6mi8hup4nsDw/74aRlANTpvzjaWi9PhojYz/0wipWykqLAe5dXpdL+Yc4n/eN0Il8zx3Ecxwvyi7yHuq2ambmH7QXQNP+JSM9MorRhWtlifVHgLeXtENoDbxa9ndT3N37Ye3Nd13Xn5kc+vHe1DltSPe/qJgNorEcR2Uax2IZIHIVinhZri4LNdvg6Sj7H6w9fQt9JUuz+QubTwSht7miYvcMc9tRG7t1uFqnN0gBAPR4Nsxd+fMeDgRFsfMt8VcoKioLN9uX1EK6PWfjAW0Sv04Fx/CASR9tD3X+vwwFdfT9qvqkMlXcAdXoUezTZODNnJWIN5yND5BinNUW6gJ1hj942+wq6NZxP7atvw22VB27q7wBu4mFXY5XScZzu1dzV2J3uS7WRDO/FBlA/HmK6mHz4VhM1AFAngvtVZAI68R1AzQjuANBBBPffS7PtVMwBNA39uV8A7WEANE3d/bm/v7si0oEmM3QtAKDJ6q6573YdSWKkW0GTGAANRM79r3j6FEADEdx/KXM3lfwMgEYhuF8GlXcAjUJwB4AOIrj/UmfuDAPoJNq5/xJJdgBNVnc79471CknlHUAzkZY5D10OAGgFgvvZSMgAaD6C+y8R4gE02Q2CewfCYgc2AUC33SC4dyNb3Y2tANBVpGUAoIOa2M69yUkP9RXYANBYTWzn3oqMRytWEsDdIi1zNsI6gOYjuJ+HbAyAVmhccG949KTaDqAVGhfcGx49k2tPw1cSABoX3BuOsA6gFQju52l41ggAEo1r597k6NnkdQMAVePaue928vDQ3OxHY1cMAFR119wfHlpc/yWyA2iLumvuxEcAqMGjiASes/RFxBrOpwPjpDhTFK8Xs1WYlqoTxOvFu4yTf0tmWCLNxnABAIA/epTAW26Hc3dgBJ7zvn5So3G+aDB1B0lZvPa+n9JxA2+2Cq1hwVTK8kry6WqfXM2M741dMQDI+C+OttbLkyEi9nM/jGKlrKQo8N7lVam0f5jzSf/HqaS0Vs7rSQHgUv4TkZ6ZRGnDtLLF+qLAW8rbIbQH3ix6O62el8ywBDEdAC7lUUS2USy2IRJHoZinxdqiYLMdvo6Sz/H6w5fQd3wREfEXMh+XzlBt5F6l+99G4fIDoC0eDbMXfnzHg4ERbHzLfFXKCoqCzfbl9VBRP2bhA28RvU4HhgSFM5SCgJ7kssloA8ClPIo9mmycmbMSsYbzkSFyjNOaIpE42h7SLnraqUqpjWSaHOKbvG4AoHrY1RiuHMd5f3eLFpiGzqbF0MauGAAUqfsJ1ZLgmBYRQAHgjxrRK2SmQ4IG9k/Q6l4TANyhRgT3NOmh/tsc/KQA0Do3CO5FVWD1CdVGSdenaSsGAEVu0J/7eJztzz0Jms2vuQNAWzSiP/eG9xfW2KsOABRpUFqmsRp+7QGAvBsE93yUVNMyDQz9DVwlACjXoNYyFSvINwm1VNsBtEsjgruKFuUA8HcNCu5JTN/tKlWT67wAUG0H0DqNCO5pWJcKNXdCLQD86Abt3NUu3VUVa+4kbQDgRw1q555Qa/Fa9dfc6QwSQOs0Li1TMecOACjRiOCudhz2Y9ZF29PLVXM1XGwAtE4jgnuCB0EB4FIa0f3AWU+oajvgveolgVu4AFqn7uCuvTn5izCdGY34CwCqJr5mr2mRmkwRgNapuylk0shd2yBSKrSDBABU0Yh27mmuJm02Q3wHgL9oRGsZNSHzY2TXNoXkhioAqBoR3FPJE0y/C6bXC8H8jADQOs0K7lIhJ6NtCnnVyjU1dwCtc/vgnnnQ9NfV5OvVr6m5A2id2wf3TCP3itXkzGjk3AFAdfvgLhe6NUoIBoDU7ftz/10qps5UCWkZAK1zg3buDw+iNnb/S1W9tu5lAKBdbpCWyUfhkoxKUS9j2vkAABKNyLk3uRewH9/pCgAN9CgigecsfRGxhvPpwDgpzhTF68VsFaalydDDONKfuCNbnUo/zww1u5J8Lk+21N9FAT8RALTP7vvfeP4Z7XbHD6mSol30+e9Q9O/7MHbyKfqcZ8dOjMdjzdAckezfKpNUHBMA7sF/cbS1Xp4MEbGf+2EUK3G/pCjw3uV1YIiIPdpX19XpRL5mjuM4jhdUucBkUh+ZVzJVeZ0eb14FANWjiPTMJG9imFa2WF8UeEt5cw11gLP0xRrORyISbPywN3Gntki8XniBnQ3+p/JpmfSz5B5rynQ5cL2ATufDAFrtUUS2USy2IRJHoZinxdqiYLMdvo7U0eyR644kXi8W6/F0MEpbOhpm7zCHPbWRe9L9b/4JVbX3mNt2/0vnwwBa6j/D7IVf37GIBBvfMtV7nwVFwWabJGuS/7zFWk3YnAyJo23vZJbiKtTh6QtUM8E03yFBPU0heVs3gFZ7FHs02TgzZyViDecjQ0Qk8BbR63RgaIpyAdsevW0O1fH+xB0ZIsch1nA+Pc3JFIXmomCaT7JrW8tcKYtCzR1ASz3saoxejuMUvWAvLwmsP0btNP5ePBDztBSA9mrEQ0zyhweXtN27A8Cda0pwT2vfiTQFX4IXdABAkRsE9yrdxagp+CqvVL14LOaGKoBWa0THYUVNYtS0e/l8rhGFf/02VwC4udv3557IpGXSinP+NmlRwL1sICasA2i1G/Tnrh2u7TIsrbnnuyLQtoi/INIyAFqtETdUM/dR1c/5N3KUhN2LV7epvwNoqUYE93xzRrUif8MIS80dQEs1IriLLueeeXwpf8eVajUAFKk7uGuDsjow004mTcvkM+xXzcxw5QDQanXfUNVG5HyjRm3NvUqDdwCANOQhpnRgGtPVHmMyoxVNftn3dZBtB9BqN2jnPh5r2rmntK0eRanRV+xOEgDuWVPaued7dsy3cK/tNUwA0HZNaS2Tf6meek+1yks8rrE+ANAicbD21vs3VzcluCeKau71d/Ny8Z8F2k4X7gTbfp/Y9toFn8uVH+3/aUpw1wZxtQeCoknktGNIcjUA7lK8Xix9EfGXzmIdNye4a1979PAg6d3XkqdVM/dUz71m/uIaW89luYYVY9uvPckvsO1XnaRL237KGEwnfRHpT9zpwGhOcC+nNnsvaUl5wcdWybkDaLXLv0P1nhNtAFCDgmaHgecs/f7EHdlyjaaQJa/ATuP+j6/Jzjd8FF0+vahB5N8bStLUEkCr1d3O/f3dLQnH2sbs9bydI4PIDqDV6s65lwdN7TtUS0bO1+7JuQO4V/br0BJ/6TheUH/NvUj+XXpFj6qqI6h/L/tKVWruAFrHGEzdwf5zs1rLaBtEZorUEYoq+H+vd1NzB9BqTam5Z2rfv3tFaqPuggaes/STj9ZwPh0Y6ZD9vx0VeM7mOblbL5pN7vRO0G67dP0EiNeL2SoUkeOW3c1xL9l2uf1x39VoPB7nB1ZZBZGT0fKTZEZogOhzPv+MlAHf/8bJgPRD93z/G4/H4/G/7/TfzCZ3eCdktv1+ToDvf+oB//d9T8c9v+1NOu63T8ucVddW20RmOiqQZr17L45EvmaO4yT3NiSOttbLkyEi9nM/jOJbr98VxOvo2XXnQ+vwf26Tu7sTstt+RyeAPTr8VhHDtOSujntu2xt13LsVsg8AAAFASURBVOtOyyRN3fPt3H/MqJS0n2nI27RPBBs/7E3cqS0SrxdeYL+K9MzkJ9nhNOgaYzAwRE7O3vwmd3Qn5Lb9Dk+AwJtFb+5A4uh+jvvBYdsbddyb1Z97iYpZ+Hy/8L/z1znYo3RDDbO3jWIR2Uax2IZIHIVi/mntWiO/yfeyE+7sBAg8ZymTtBp7V8f9ZNubdNxvn5apIv8CpnxO5oIucGM28BbrfT0ujrY90zDMXvj1HYtIsPEtszu3lIrlN/mOdsIdnQDxeuFsnl0lQXE/xz277Y067pfvW6aE4zg/djxwlpJXNd1cetM8vUfe0QYDGfF68WlO77O1jHbbO34CKI1DRA7bdifHvXTbb3/cbxDc//7CPPX12Zng3rQQDwA3cYO0zC8asEtB25j8fIjsACA119wBAPVoxw1VAMBZ/gfW7A/qACJs9wAAAABJRU5ErkJggg==\"></div>"
      ],
      "text/plain": [
       "-Graphics-"
      ]
     },
     "execution_count": 47,
     "metadata": {
      "text/html": [],
      "text/plain": []
     },
     "output_type": "execute_result"
    }
   ],
   "source": [
    "column = 2;\n",
    "Pointsf1 = {};\n",
    "Listx1 = List2[column];\n",
    "AppendTo[Pointsf1, Listx1[[1]]];\n",
    "\n",
    "For[i=2, \n",
    "    i <= Dimensions[DataGraph][[1]], \n",
    "    i++, \n",
    "    AppendTo[Pointsf1, \n",
    "            {Listx1[[i]][[1]], ((i-1)*Pointsf1[[i-1]][[2]]+Listx1[[i]][[2]])/i}]];\n",
    "\n",
    "Show[ListPlot[Pointsf1, PlotStyle -> Blue,\n",
    "            PlotLabel -> Style[\"Среднее значение компоненты x1 показаний акселерометра, м/с2\", Bold], \n",
    "            AxesLabel -> {Style[\"t\", Medium, Bold], Style[\"x1\", Medium, Bold]}],\n",
    "     ImageSize -> 500]\n",
    "Print[\"estimate of f1\" Pointsf1[[Dimensions[DataGraph][[1]]]][[2]]]"
   ]
  },
  {
   "cell_type": "code",
   "execution_count": 49,
   "metadata": {},
   "outputs": [
    {
     "name": "stdout",
     "output_type": "stream",
     "text": [
      "0.0449985 estimate of f2\r\n"
     ]
    },
    {
     "data": {
      "text/html": [
       "<div><img alt=\"Output\" src=\"data:image/png;base64,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\"></div>"
      ],
      "text/plain": [
       "-Graphics-"
      ]
     },
     "execution_count": 54,
     "metadata": {
      "text/html": [],
      "text/plain": []
     },
     "output_type": "execute_result"
    }
   ],
   "source": [
    "column = 3;\n",
    "Pointsf2 = {};\n",
    "Listx2 = List2[column];\n",
    "AppendTo[Pointsf2, Listx2[[1]]];\n",
    "\n",
    "For[i=2, \n",
    "    i <= Dimensions[DataGraph][[1]], \n",
    "    i++, \n",
    "    AppendTo[Pointsf2, \n",
    "            {Listx2[[i]][[1]], ((i-1)*Pointsf2[[i-1]][[2]]+Listx2[[i]][[2]])/i}]];\n",
    "\n",
    "Show[ListPlot[Pointsf2, PlotStyle -> Blue,\n",
    "            PlotLabel -> Style[\"Среднее значение компоненты x2 показаний акселерометра, м/с2\", Bold],\n",
    "            AxesLabel -> {Style[\"t\", Medium, Bold], Style[\"x2\", Medium, Bold]}],\n",
    "     ImageSize -> 500]\n",
    "Print[\"estimate of f2\" Pointsf2[[Dimensions[DataGraph][[1]]]][[2]]]"
   ]
  },
  {
   "cell_type": "code",
   "execution_count": 56,
   "metadata": {},
   "outputs": [
    {
     "name": "stdout",
     "output_type": "stream",
     "text": [
      "9.8156 estimate of f3\r\n"
     ]
    },
    {
     "data": {
      "text/html": [
       "<div><img alt=\"Output\" src=\"data:image/png;base64,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\"></div>"
      ],
      "text/plain": [
       "-Graphics-"
      ]
     },
     "execution_count": 61,
     "metadata": {
      "text/html": [],
      "text/plain": []
     },
     "output_type": "execute_result"
    }
   ],
   "source": [
    "column = 4;\n",
    "Pointsf3 = {};\n",
    "Listx3 = List2[column];\n",
    "AppendTo[Pointsf3, Listx3[[1]]];\n",
    "\n",
    "For[i=2, \n",
    "    i <= Dimensions[DataGraph][[1]], \n",
    "    i++, \n",
    "    AppendTo[Pointsf3, \n",
    "            {Listx3[[i]][[1]], ((i-1)*Pointsf3[[i-1]][[2]]+Listx3[[i]][[2]])/i}]];\n",
    "\n",
    "Show[ListPlot[Pointsf3, PlotStyle -> Blue,\n",
    "            PlotLabel -> Style[\"Среднее значение компоненты x3 показаний акселерометра, м/с2\", Bold],\n",
    "            AxesLabel -> {Style[\"t\", Medium, Bold], Style[\"x3\", Medium, Bold]}],\n",
    "     ImageSize -> 500]\n",
    "Print[\"estimate of f3\" Pointsf3[[Dimensions[DataGraph][[1]]]][[2]]]"
   ]
  },
  {
   "cell_type": "markdown",
   "metadata": {},
   "source": [
    "### Графики накапливающихся средних значений показаний ДУС"
   ]
  },
  {
   "cell_type": "code",
   "execution_count": 63,
   "metadata": {},
   "outputs": [
    {
     "name": "stdout",
     "output_type": "stream",
     "text": [
      "3.83295 estimate of w1\r\n"
     ]
    },
    {
     "data": {
      "text/html": [
       "<div><img alt=\"Output\" src=\"data:image/png;base64,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\"></div>"
      ],
      "text/plain": [
       "-Graphics-"
      ]
     },
     "execution_count": 70,
     "metadata": {
      "text/html": [],
      "text/plain": []
     },
     "output_type": "execute_result"
    }
   ],
   "source": [
    "column = 5;\n",
    "Pointsw1 = {};\n",
    "Pointsw11 = {};\n",
    "Listw1 = List2[column];\n",
    "AppendTo[Pointsw1, Listw1[[1]]];\n",
    "\n",
    "For[i=2, \n",
    "    i <= Dimensions[DataGraph][[1]], \n",
    "    i++, \n",
    "    AppendTo[Pointsw1, \n",
    "            {Listw1[[i]][[1]], ((i-1)*Pointsw1[[i-1]][[2]]+Listw1[[i]][[2]])/i}]];\n",
    "\n",
    "For[i=1, i < Dimensions[Pointsw1][[1]], i++, AppendTo[Pointsw11, {Pointsw1[[i]][[1]], Pointsw1[[i]][[2]]*180/Pi*3600}]];\n",
    "\n",
    "Show[ListPlot[Pointsw11, PlotStyle -> Blue,\n",
    "            PlotLabel -> Style[\"Среднее значение компоненты w1 показаний ДУС, рад/с\", Bold],\n",
    "            AxesLabel -> {Style[\"t\", Medium, Bold], Style[\"w1\", Medium, Bold]}],\n",
    "     ImageSize -> 500]\n",
    "Print[\"estimate of w1\" Pointsw11[[Dimensions[Pointsw11][[1]]]][[2]]]"
   ]
  },
  {
   "cell_type": "code",
   "execution_count": 72,
   "metadata": {},
   "outputs": [
    {
     "name": "stdout",
     "output_type": "stream",
     "text": [
      "-9.00387 estimate of w2\r\n"
     ]
    },
    {
     "data": {
      "text/html": [
       "<div><img alt=\"Output\" src=\"data:image/png;base64,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\"></div>"
      ],
      "text/plain": [
       "-Graphics-"
      ]
     },
     "execution_count": 79,
     "metadata": {
      "text/html": [],
      "text/plain": []
     },
     "output_type": "execute_result"
    }
   ],
   "source": [
    "column = 6;\n",
    "Pointsw2 = {};\n",
    "Pointsw22 = {};\n",
    "Listw2 = List2[column];\n",
    "AppendTo[Pointsw2, Listw2[[1]]];\n",
    "\n",
    "For[i=2, \n",
    "    i <= Dimensions[DataGraph][[1]], \n",
    "    i++, \n",
    "    AppendTo[Pointsw2, \n",
    "            {Listw2[[i]][[1]], ((i-1)*Pointsw2[[i-1]][[2]]+Listw2[[i]][[2]])/i}]];\n",
    "\n",
    "For[i=1, i < Dimensions[Pointsw2][[1]], i++, AppendTo[Pointsw22, {Pointsw2[[i]][[1]], Pointsw2[[i]][[2]]*180/Pi*3600}]];\n",
    "\n",
    "Show[ListPlot[Pointsw22, PlotStyle -> Blue,\n",
    "            PlotLabel -> Style[\"Среднее значение компоненты w2 показаний ДУС, рад/с\", Bold],\n",
    "            AxesLabel -> {Style[\"t\", Medium, Bold], Style[\"w2\", Medium, Bold]}],\n",
    "     ImageSize -> 500]\n",
    "Print[\"estimate of w2\" Pointsw22[[Dimensions[Pointsw22][[1]]]][[2]]]"
   ]
  },
  {
   "cell_type": "code",
   "execution_count": 81,
   "metadata": {},
   "outputs": [
    {
     "name": "stdout",
     "output_type": "stream",
     "text": [
      "12.5417 estimate of w3\r\n"
     ]
    },
    {
     "data": {
      "text/html": [
       "<div><img alt=\"Output\" src=\"data:image/png;base64,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\"></div>"
      ],
      "text/plain": [
       "-Graphics-"
      ]
     },
     "execution_count": 88,
     "metadata": {
      "text/html": [],
      "text/plain": []
     },
     "output_type": "execute_result"
    }
   ],
   "source": [
    "column = 7;\n",
    "Pointsw3 = {};\n",
    "Pointsw33 = {};\n",
    "Listw3 = List2[column];\n",
    "AppendTo[Pointsw3, Listw3[[1]]];\n",
    "\n",
    "For[i=2, \n",
    "    i <= Dimensions[DataGraph][[1]], \n",
    "    i++, \n",
    "    AppendTo[Pointsw3, \n",
    "            {Listw3[[i]][[1]], ((i-1)*Pointsw3[[i-1]][[2]]+Listw3[[i]][[2]])/i}]];\n",
    "\n",
    "For[i=1, i < Dimensions[Pointsw3][[1]], i++, AppendTo[Pointsw33, {Pointsw3[[i]][[1]], Pointsw3[[i]][[2]]*180/Pi*3600}]];\n",
    "\n",
    "Show[ListPlot[Pointsw33, PlotStyle -> Blue,\n",
    "            PlotLabel -> Style[\"Среднее значение компоненты w3 показаний ДУС, рад/с\", Bold],\n",
    "            AxesLabel -> {Style[\"t\", Medium, Bold], Style[\"w3\", Medium, Bold]}],\n",
    "     ImageSize -> 500]\n",
    "Print[\"estimate of w3\" Pointsw33[[Dimensions[Pointsw33][[1]]]][[2]]]"
   ]
  },
  {
   "cell_type": "markdown",
   "metadata": {},
   "source": [
    "### Графики накапливающихся среднеквадратичных отклонений показаний акселерометров"
   ]
  },
  {
   "cell_type": "markdown",
   "metadata": {},
   "source": [
    "Вычисление дисперсии:\n",
    "\n",
    "\\begin{eqnarray*}\n",
    "\\sigma^2_{1}  = \\frac{(x_0-x_1)^2}{2}.\n",
    " \\end{eqnarray*}\n",
    "при  $ j = 2, 3 \\ldots $\n",
    "\\begin{eqnarray*}\n",
    "\\widetilde \\sigma^2_{j} &=& \\left(1 - \\frac{1}{j}\\right)\\widetilde\n",
    "\\sigma^2_{j-1} + \\frac{\\left(x_{j} - \\widetilde\n",
    "\\mu_{j-1}\\right)^2}{j+1},  \\quad \\mbox{или}\n",
    "\\nonumber  \\\\\n",
    "\\widetilde \\sigma^2_{j} &=& \\left(1 - \\frac{1}{j}\\right)\\widetilde\n",
    "\\sigma^2_{j-1} + \\left(\\frac{x_{j} - \\widetilde\n",
    "\\mu_{j}}{j}\\right)^2(j+1).\n",
    " \\end{eqnarray*}\n"
   ]
  },
  {
   "cell_type": "code",
   "execution_count": 90,
   "metadata": {},
   "outputs": [
    {
     "name": "stdout",
     "output_type": "stream",
     "text": [
      "0.000686227 Std of f1\r\n"
     ]
    },
    {
     "data": {
      "text/html": [
       "<div><img alt=\"Output\" src=\"data:image/png;base64,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\"></div>"
      ],
      "text/plain": [
       "-Graphics-"
      ]
     },
     "execution_count": 94,
     "metadata": {
      "text/html": [],
      "text/plain": []
     },
     "output_type": "execute_result"
    }
   ],
   "source": [
    "stdx11 = {Pointsf1[[2]][[1]], Sqrt[(Pointsf1[[1]][[2]]-Pointsf1[[2]][[2]])^2/2]};\n",
    "PointStdX1 = {};\n",
    "AppendTo[PointStdX1, stdx11];\n",
    "\n",
    "For[i=3, \n",
    "    i < Dimensions[DataGraph][[1]], \n",
    "    i++, \n",
    "    AppendTo[PointStdX1, \n",
    "            {Pointsf1[[i]][[1]], Sqrt[(1 - 1/(i-1))*(PointStdX1[[i-2]][[2]])^2+((Listx1[[i]][[2]]-Pointsf1[[i-1]][[2]])/(i-1))^2]}]];\n",
    "\n",
    "Show[ListPlot[PointStdX1, PlotStyle -> Blue,\n",
    "            PlotLabel -> Style[\"Значение Std  компоненты f1 показаний акселерометра, м/с2\", Bold],\n",
    "            AxesLabel -> {Style[\"t\", Medium, Bold], Style[\"Std f1\", Medium, Bold]}],\n",
    "     ImageSize -> 500]\n",
    "Print[\"Std of f1\" PointStdX1[[Dimensions[DataGraph][[1]]-2]][[2]]]"
   ]
  },
  {
   "cell_type": "code",
   "execution_count": 96,
   "metadata": {},
   "outputs": [
    {
     "name": "stdout",
     "output_type": "stream",
     "text": [
      "0.000649426 Std of f2\r\n"
     ]
    },
    {
     "data": {
      "text/html": [
       "<div><img alt=\"Output\" src=\"data:image/png;base64,iVBORw0KGgoAAAANSUhEUgAAAfQAAAFMCAIAAACyLdnFAAAAz3pUWHRSYXcgcHJvZmlsZSB0eXBlIGV4aWYAAHjadU9bbgQhDPvnFHuEvHDgOMwsI/UGPf4mw1QVlWqJ2BgnKGV+f13llRCmYtUbOkAB69ZlhGi0sJip3/XGZY/i3S92LskjuP4+YC7mY/cdi6X9GUSyhOYPodWehmeQyvJ5rPvx5GW0tg9S2mA/a/E/d3VBBbtFNSF39NCthAxCFaqOCycQQcZbyM7gCfdog2dCRzYmZPqengUaxjtX0DysI7hHFW2SjoS2u3I4R7zqncl1PqX2WvoxJL17AAAACXBIWXMAAAsTAAALEwEAmpwYAAAAPHRFWHRTb2Z0d2FyZQBDcmVhdGVkIHdpdGggdGhlIFdvbGZyYW0gTGFuZ3VhZ2UgOiB3d3cud29sZnJhbS5jb21coqaFAAAAIXRFWHRDcmVhdGlvbiBUaW1lADIwMjE6MDk6MjggMjI6NDI6MTiaqomlAAAW0UlEQVR4nO3dW266TBzG8V+bLgKCi6BNGtbA/6JxDV6UuAmNbsLQ5GUNphd1DaSJZRESZhe+F3hAOYitogzfz1XLcGb6dBhhfFiv1wIA0MvjrXcAAHB5hDtwb6JgulAiajENolvviz5UFASRuvVeNOjp1jvQHLUIPuZhnP5iOf33gWvcdo/qiYLpLN1tyxmOBraIiIoWX4k5cO3DGb1Z6Az9gV20Gr1Fi+lsHotY/cnoWQUf+zP2PrBbcZmz7H+vn2NvLlZ/Mrr1vmhD/XyGq9d/UvbXoaK2V5tjnWm5R8F4Hvb6E9/3fX/Sl3A+bkWrKApmofQnvj/pW3E4S/c5+prNw+TWu3ZHouU8Fqs/8UeuRF+zUJzh5jLPPhYtbKwZ7sj3fX/UjuZHO6gktl6fy06o0qHaHOlMy90e+P5g87NSIiKWacimuWv1JyPXyLZ8M838bSM/U3zQRt7NursbKFznfqIspuN5nJYXLZ6lkpVI/P2jXNcd+a6IiFpMZ6GIhDNvtV+dWI7TKz98tZiO59KfjFwVTGeh9Ccj18hvWqXr2hxaFHhphR9I4M3CzOrOPPa6c74sDzZj9Yev37N0t/fnJXeDsj0h8XzsJUN/MPD9tMAweyJhokSMg4VrHUjRGZN8rcg0+LZXtLTy1KoSqqSe7K9kbuXVFzdbsYoq2/EpyR/G0SVzHAnDODNj2dkrqEh2fuaj7Vv9fm8+L9hKwYGX1PPC7apkJb0X4/gkbldl2FXVpp0603LfigLPG8/msTN8L28WqcXHfPU68X3fHzpxOP8qbeOrxXSczjoZ9urdDURf8/jMxeP5eLrrLjTc0dAREWfoj1xDLT7msdWf+KMXCQsXPtrfz7A39EeusbmXGU58f/K6mo+nmaZKuIxk848lw+pPfN8fOvsjKV/D8VbrnSV74PuTvpUeXO2G6/aEWP3JYZdUtCw+I2cdyP6MFdUKtfjY3FkNnXj+kfaU1608++1nqkT1xMqVF1/c3RmvugrOML2jtfbrKps5Xpnv6Y3kZuo5FalgtbmLbhZt5byzmq/A6uc7TptzUnhysie+pNq0TufC3R6klTicVQSx4Y78d/NnEUzTNuEqUSKGaW1+2lM/37GkN3uG/eJsa1UFtfjcV53Tixvue/oHF4ez8TTIxWdmDfaLI6fsq7hafIZi9f/Zhojx/GpJ/P2TrtyyrHQ/VJIPl+MjKVxD0VbPO0sXEAXTWShi9f+d+gii8kAyoVBUKwx3lP4TUrtessLKc3L7tSZWrzyzq9EyFHFebEPSJqk/sM+7ChUzb6Y+v6Z/DmdVpPr7cLSVc85qYQXOdMoUnZyd+tXm/nWmW+aA4b4581m4jDaXNZ6PvXmmPL25s5z+2/twOd7cNBrue/97fDRnbulVosQsWmfq+3MeW5YVx3H54oef5BjuaGIuvj7nYRyH8w/zubQ9a5hWccF+S7NYnOF7bvndjeiziEivZ8XhMnqR0HGcsF4rZreG0mM/5yyVLWn1hyO3zu5sP4S2+hX3Z4UOT8XBGSusFZIp6U/2PRJFs9WuEiUTK/chu6vH91wlu5CvbCdmNkVEept/dQdXfKNWRaq1D8dbUT9lB16wbH67mU6Z8pPzh2pzl7oZ7scynaEi2/bFprN0Kfuatu32PuwmPO4Vlahgnak4jsUZvslsFpcvnmPY7sB+fgk+ZmFc0RWoklikot9904c9+3o5fqBGJavNZxCJiJgvr1Y4//y0rNfXqt0qXsP+kH59lnK7PRltuq3nn4vnt5P7stj8iTrD8z+RPDwV2TNWViskrRhm4M3GU5m8S9FsqvRgi6pE8UQpq5mble931TB7IoW3XacrW9XMkcgujg+veOHZK6lItfbhaCvq57Ps5Oflt6t+vmPrNV2i7OT8qdrcpa50y6jF1PO8bb91es/rvFTdecWJElFp/1vpPWD2PlQtpp5X3u+8cXC/d3LxzG4bhin5v6bMGup0FRrumyPh50JtFpx/RergZjmz0jjumWbVuirWUDTnOWep2Ikbk5RafMxjEdk9NnpS5YHsz5iI5GtFFHiel+/fq1V5dodV1AVQ0S9QtvLMrm67PLJn/KyrUDFzOnV3os6qSPX34WgrxQdecvbz2z14Uqbo5Pyi2ty/rrTcDfd9KB+fs7GX/m45w0npRdx0wMy8UCzHsaSivWy4o2EynaX3mdv/+RV/zM6ba0hUvfjRbicfs9k43Ox0erto/+tb4Xzmhc7QH2w6i74dx5HTn6naL46E86/IHbijiQQfs7EnYjn9ySCz58bzqzWPey+2LCtWZVSs4W9n6VCmW8YZuoYEVTOrn++0VRbOvPRknH7yv/pA9mesoFa4g6GzmqWbspz+u2sYUlR5KhxViYqJJ2vmflftwaQvH5vqvj3j+auwuYso+E9SfsmsXvI19cI4PVwROacinarwO8dbKTzwUkfbPXhSRqTg5KjF+dXm7j0wtgyAWjIPdN7JVqJgunyp0dZWSgwtulrO0ZVuGQC6UYulvNV6rKV7yS603AFAS7TcAUBDhDsAaIhwBwAN/flRyL8NSKvXSK0AcC/+2HL/44C0uo3UCgB34m8t9z8NSHvOSK0AgHNcos/9lwPSnj1SKwCgpr+F+4UHpBXRa8hNALiVv7bcDXc0GfYdS0TicF7VUX5yQFrRbshNALiVC3TLGLY7GE2GjrUZtq3Eia9+0HHITQC4lT+F+yUHpNVxyE0AuJU/PS1zwQFpfzNSKwCgBAOHAYCGGH4AADREuAOAhgh3ANAQ4Q4AGiLcAUBDhDsAaIhwBwANEe4AoKFGw93zvN8t+PBw2R0BAM3RcgcADRHuAKCh1oQ7PTMAUF87wp3BzQDgLO0IdwDAWQh3ANDQk4hEgTcLRcTqT46/3y5flJuiFtPxPP2ije207TzF6wQAXN3657/3yVeyXu9/2MkXFf7w389u9v9+1ut18jU5WtHG+/t7wdR6RH69KAB0zqNKVtbrsyEi9otz+AXX+aKCme3B7tvwDNPaLCfyPfY8z/OC6IL/h3hgBgBqehSR3uZrrbfhnJEvKp05CsbJ28AWiZZh3Hvzfd/3J+bnpeKdB2YAoL4nEVklSmxDRCWxmIfF+aLCmaPAm8n2C63tge9vphtmbzv/RnYEAn83HwDgop4Msxd//ijXNaJlaJn/MmX5oqKZ1WI6Tt58394uFgXT5N/mw9ZktW3pbxDoANCAh/V6nXsAZh/PJ5+WyTwYI7upu4lHz8p4nveXcH94oHMGAGp5WDeYl38Pd6HzHQBqaNNLTMQ6ANTUpnAHANREuAOAhgh3ANBQ+8Kd91QB4KSWhTufqQJAHU2Hu+d5v/6abABATU8Nb483VAGgAS3rlgEA1NHKcOczVQCo1r5w5zNVADipfeEOADiJcAcADbU13Ol2B4AKrQx3ut0BoForwx0AUI1wBwANMfwAAGiorcMPrNd8pSoAlKJbBgA0RLgDgIYIdwDQULvDnVeZAKBQi8OdT1MBoEyLwx0AUIZwBwANtTvc06fdAQBH2h3uAIBCDD8AABpq6/ADWYxDAABHWt8tQ6wDQF7rwx0AkEe4A4CGNAl3HogEgCwdwp1udwA4okO4AwCO6BPu9MwAwI4m4U7PDABk8YYqAGhIhzdUd3hVFQBSmnTLCD0zAJChT7gDAHZ0C3eemQEA0Szc6ZkBgJRW4Q4ASD2JSBR4s1BErP5k5BoHxfmi3BS1mI7nsUhmWsUKG8AzMwDwKFEwW/Unvu8Pe/OPhcoW5osKpnzNe0Pf99NpX1HRPA0i1gFARB5VsrJenw0RsV+cOMlmcb6oYGZ74A/sdH7DtAqXAgA07FFEembadZKG84F8UenMUTBO3tKcr1hhM3hmBkDHPYnIKlFiGyIqicU8LM4XFc4cBd5MhrsmfMUKs2MPXOlt1fWacAfQdU+G2Ys/f5TrGtEytMx/mbJ8UdHMajEdJ2++b5culXXV4Qey+FgVQJc9rNfr3MMtUTBN/pU893I0ZfvrRjq17GkZz/MIdwBowMO6wQgk3AGgGTq/xETPO4DO0jbcabYD6DJtwx0AukzncOeZSACdpXO4A0Bn6R/uNN4BdJDm4c7HqgC6qelw9zwvOwJBM2i8A+iap4a319hLTDt8rAqggzTvltkh3wF0SifCnZ53AF3TiXAHgK7pSrjT8w6gU7oS7inyHUBHdCjc6XkH0B0dCncA6I5uhTs97wA6olvhDgAd0YnhB7JovAPoAv2HHyjEN6wC0FsXu2WIdQDa62K4p+icAaCxjoY7jXcAeutouKdovAPQVXfDncY7AI11N9xTNN4BaKnT4Z423sl3APrpdLgLnTMANNW5N1QL0XgHoJmOvqGalQ5IwDurAHTS9W6ZFLEOQDOE+x6dMwC0Qbhv0HgHoBPCfY/RgAFog3A/Rr4D0ADhfoDXmgDogXA/Ruc7AA0Q7sVovANoNcK9AJ0zANqO4QeKke8AWo3hB0rxZCSA9qJb5gTyHUAbEe5V6JwB0FKE+wnkO4A2ItxPI98BtA7hXgtvNgFolycRiQJvFoqI1Z+MXOOgOF9UMnMUeMsXf2AfLFW8zpZKH54h5QG0wpNEwWzVn/iuEQXex+L5MLGPiwpn3mS587JZTCUrfTL9CPkOoBUeVbKyXp8NEbFfnDhRmbJ8UdHMapG8+P6kb2WWE/kee57neUHU6NFcGZ3vANriSUR6ZtrGNkzruDhflJtiuK4hkvmnEC3DuDf0R7aIWkyDyN501miBL1wF0ApPIrJKlNiGiEpiMQ+L80UVM2/Yg91bqIbZ286/kR17oEVvq2aR7wDu36Nh9uLvHyUi0TK0zGw/eb6oYua9KJguNg15lax6h3P5GVc5oEbQPwPgzj2JPRguvbE3F7H6k8HmiZhp8m/kGvmigplz7MHbctNAt/qTkUZ9Mlm03wHcs4d1g+HkeV6rG+x5aeOdfAdwb3iJ6U/onwFwnwj3vyLfAdwhwv0CyHcA94ZwvwzyHcBdIdwvhnwHcD8I90si3wHciaa/Q1V72XznEUkAt9J0y93zvOwIBLqiCQ/gtppuuWv2ElMFXmEFcEP0uV8R7XcAt0K4X9cu34l4AE0i3K9uvaYJD6BphHtDyHcATSLcm0O+A2gMz7k3iqfgATSDlvsN0IQHcG2E+23wFA2Aq+IN1ZvhKRoA18Mbqje2e5FV6IUHcDl0y9weTXgAF8fTMveCB2kAXBAt9/vCB60ALoJwvzv00gD4O8L9TtGEB/AXhPv9yjbhiXgAZyHc7x0RD+AXCPd2IOIBnIVwbxMiHkBNDD/QPjxOA+Akhh9oK8YtAFCBbpkWo5cGQBmGH2i9XbN9l+805AHQctcHDXkAO4S7boh4AEK464qIBzqOcNcZEQ90Fh+o6i+f73ziCmiPcO+K7EM1PB0PaI9w7xwa8kAXPKwb/MveDTzAe6r3g4gHtMTwA11HQx7QEt0yECnqkRdSHmgzwh0HSHlAD4Q7ipHyQKsR7jiBlAfa6ElEosCbhSJi9Scj1zgozheVzBwF3vLFH9glS0EDpDzQIo8SBbNVf+L7/rA3/1iobGG+qHDmKPDSMC9bCnpJRzXIPmbD2AbAvXlUycp6fTZExH5x4iSbxfmiopnVInnx/UnfKl0KuiLlgbv1JCI9M+06MUzruDhflJtiuK4hoqqXgt4Ke2yEThvgdp5EZJUosQ0RlcRiHhbniypmrlhqJ/vt2LzQpJ9smtM1D9zQo2H24u8fJSLRMrTM7Mef+aKKmSuWyvIzrnRIuBOFnTb02wDNeBJ7MFx6Y28uYvUng80TMdPk38g18kUFM+fUmQddQnMeaF7TA4fRYEfqqAlP0AOXxUtMuI2y5rwQ9MAlEO64PYIeuDjCHfeFoAcugnDH/aoIeiHrgUqEO9rhKMpp1APVCHe0Eo16oBrhjtajUQ/kNR3u6fADPO2O68lnfUUpoCu+IBuaowMH3US3DDqkugOncB6gpQh3dFc+x2naQxuEO7BH0x7aINyBUnWa9oWzATdHuANnIO7RFoQ78CfEPe4T4Q5cGHGPe0C4A1dXM+4L5wR+h3AHbqAwxEl8XFDTX7OX/sB7qkBNZV8pTuKjGsMPAHftrDZ+2fzoILplgPYpS3BCHzuEO6APQh87hDugP0K/gwh3oLt+EfoVS+GuEO4AjlXEN7nfFoQ7gDP8Overl8XFEe4ALqM6u4n+hhHuAJpA9DeMcAdwe3+M/pNr6CCGHwDQeiejX7qX/gw/AKD1TgZ3nbZ/nfW0CN0yAPRXJ7U1+wdAuAOAyEX/AdRc21UR7gBQV83Irv8/oP46z0W4A8CF1c/r6w3vQ7gDwM1cr/fm8VorBgDcDuEOABoi3AFAQ02Hu+d5u/dUAQBXwhuqAKAhumUAQEOEOwBoiHAHAA0R7gCgIcIdADT0JCJR4M1CEbH6k5FrHBTni86ZUrxOAMC1PUoUzFb9ie/7w978Y6GyhfmiOlNEJSurP/F93/d9kh0AbuBRJSvr9dkQEfvFiZNsuOeL6kwRUYnI99jzPM8LohscEwB03pOI9My0dW2Y1nFxvuj0lGgZxr2hP7JF1GIaRPbAvt7+AwAKPInIKlFiGyIqicU8LM4XnZ5iD3ZvoRpmb1u6kR17gLdVAeBKHg2zF3//KBGJlqFlZnvI80V1pkgUTLdd9ypZ9Q5WKX5GM0cIAB30sF6vc4+7RME0+TdyjT8/LXP0rIzneWQ6ADTgYd3g17gS7gDQDF5iAgANEe4AoCHCHQA0RLgDgIYIdwDQEOEOABoi3AFAQ02Hu+d52REIAADX8NTw9niJCQAaQLcMAGiIcAcADRHuAKAhwh0ANES4A4CGCHcA0BDhDgAaItwBQEOEOwBoiOEHAEBDDD8AABqiWwYANES4A4CGCHcA0BDhDgAaItwBQEOEOwBoiHAHAA0R7gCgId5QBQAN8YYqAGiIbhkA0BDhDgAaItwBQEOEOwBoiHAHAA0R7gCgIcIdADREuAOAhgh3ANAQww8AgIYYfgAANES3DABoiHAHAA0R7gCgIcIdADREuAOADlS0CBbR7lfCvSFdfgCUY+8mjr1Z0ddsHib73wl3AGg7tZjOQhEJZ950oUTk/sP9F/8Az12kgU38Dsd+1UU49msv8gsc+28Z7mjoiIgz9EeuISL3H+4AgF94WK/Xl11jlzvaAKABRa/6R4E3C52hP7DT3y8//EDFAAOe5zH8AAA0gG4ZANAQ4Q4AGrD/9S0JZ54XpM+6Nz0qJADgGgx35Lv7Xwn3a4kCbxamP1r9ycg1dlM2v2oqCrzly/Yznfwha30SCo9ddK8AajEdz2MR2R9ZZ657xbHL7a/7GleRfE0mX0lmws9/7+mE3Q/6+fnv/f39/f2/n92vR4es8Uk4OvbuVICf/7IX/L+fLl33/LHf03Wnz/1KVCLyPfY8b9MDppKV9fpsiIj94sSJuvX+XYFaJC++P+lb299zh6zvSTg+9g5VAHuwe/bOMC3p1HXPHftdXXe6Za4jWoZxb+iPbBG1mAaR/U+kZ6a3ZNtqoBvDdQ2Rg9qbP2RNT0Lu2DtYAaJgnLz5rqikO9d9a3vsd3Xdablfhz3wt//TDbO3SpSIrDb/tlUS33DPGpU/5K6chI5VgCjwMh83dOu6Hxz7PV13wv06omA7eo+oZNUzDcPsxd8/SkSiZWiZ+nykVC5/yB06CR2qAGox9ZYvfqaDojvX/fjY7+q6X374AaR2H5rvPiPX9IGBI2ox/TJH3XxapvDYNa8AmYdDRLbH1pHrXnnst7/uhDsAaIhuGQDQEOEOABoi3AFAQ4Q7AGjof5XRgsQpRikHAAAAAElFTkSuQmCC\"></div>"
      ],
      "text/plain": [
       "-Graphics-"
      ]
     },
     "execution_count": 100,
     "metadata": {
      "text/html": [],
      "text/plain": []
     },
     "output_type": "execute_result"
    }
   ],
   "source": [
    "stdx12 = {Pointsf2[[2]][[1]], Sqrt[(Pointsf2[[1]][[2]]-Pointsf2[[2]][[2]])^2/2]};\n",
    "PointStdX2 = {};\n",
    "AppendTo[PointStdX2, stdx12];\n",
    "\n",
    "For[i=3, \n",
    "    i < Dimensions[DataGraph][[1]], \n",
    "    i++, \n",
    "    AppendTo[PointStdX2, \n",
    "            {Pointsf2[[i]][[1]], Sqrt[(1 - 1/(i-1))*(PointStdX2[[i-2]][[2]])^2+((Listx2[[i]][[2]]-Pointsf2[[i-1]][[2]])/(i-1))^2]}]];\n",
    "\n",
    "Show[ListPlot[PointStdX2, PlotStyle -> Blue,\n",
    "            PlotLabel -> Style[\"Значение Std  компоненты f2 показаний акселерометра, м/с2\", Bold],\n",
    "            AxesLabel -> {Style[\"t\", Medium, Bold], Style[\"Std f2\", Medium, Bold]}],\n",
    "     ImageSize -> 500]\n",
    "Print[\"Std of f2\" PointStdX2[[Dimensions[DataGraph][[1]]-2]][[2]]]"
   ]
  },
  {
   "cell_type": "code",
   "execution_count": 102,
   "metadata": {},
   "outputs": [
    {
     "name": "stdout",
     "output_type": "stream",
     "text": [
      "0.00030082 Std of f3\r\n"
     ]
    },
    {
     "data": {
      "text/html": [
       "<div><img alt=\"Output\" src=\"data:image/png;base64,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\"></div>"
      ],
      "text/plain": [
       "-Graphics-"
      ]
     },
     "execution_count": 106,
     "metadata": {
      "text/html": [],
      "text/plain": []
     },
     "output_type": "execute_result"
    }
   ],
   "source": [
    "stdx13 = {Pointsf3[[2]][[1]], Sqrt[(Pointsf3[[1]][[2]]-Pointsf3[[2]][[2]])^2/2]};\n",
    "PointStdX3 = {};\n",
    "AppendTo[PointStdX3, stdx13];\n",
    "\n",
    "For[i=3, \n",
    "    i < Dimensions[DataGraph][[1]], \n",
    "    i++, \n",
    "    AppendTo[PointStdX3, \n",
    "            {Pointsf3[[i]][[1]], Sqrt[(1 - 1/(i-1))*(PointStdX3[[i-2]][[2]])^2+((Listx3[[i]][[2]]-Pointsf3[[i-1]][[2]])/(i-1))^2]}]];\n",
    "\n",
    "Show[ListPlot[PointStdX3, PlotStyle -> Blue,\n",
    "            PlotLabel -> Style[\"Значение Std  компоненты f3 показаний акселерометра, м/с2\", Bold],\n",
    "            AxesLabel -> {Style[\"t\", Medium, Bold], Style[\"Std f3\", Medium, Bold]}],\n",
    "     ImageSize -> 500]\n",
    "Print[\"Std of f3\" PointStdX3[[Dimensions[DataGraph][[1]]-2]][[2]]]"
   ]
  },
  {
   "cell_type": "markdown",
   "metadata": {},
   "source": [
    "### Графики накапливающихся среднеквадратичных отклонений показаний ДУС"
   ]
  },
  {
   "cell_type": "code",
   "execution_count": 108,
   "metadata": {},
   "outputs": [
    {
     "name": "stdout",
     "output_type": "stream",
     "text": [
      "1.95558 Std of w1\r\n"
     ]
    },
    {
     "data": {
      "text/html": [
       "<div><img alt=\"Output\" src=\"data:image/png;base64,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\"></div>"
      ],
      "text/plain": [
       "-Graphics-"
      ]
     },
     "execution_count": 113,
     "metadata": {
      "text/html": [],
      "text/plain": []
     },
     "output_type": "execute_result"
    }
   ],
   "source": [
    "stdw11 = {Pointsw1[[2]][[1]], Sqrt[(Pointsw1[[1]][[2]]-Pointsw1[[2]][[2]])^2/2]};\n",
    "PointStdW1 = {};\n",
    "AppendTo[PointStdW1, stdw11];\n",
    "\n",
    "For[i=3, \n",
    "    i < Dimensions[DataGraph][[1]], \n",
    "    i++, \n",
    "    AppendTo[PointStdW1, \n",
    "            {Pointsw1[[i]][[1]], Sqrt[(1 - 1/(i-1))*(PointStdW1[[i-2]][[2]])^2+((Listw1[[i]][[2]]-Pointsw1[[i-1]][[2]])/(i-1))^2]}]];\n",
    "\n",
    "For[i=1, i < Dimensions[PointStdW1][[1]], i++, PointStdW1[[i]]= {PointStdW1[[i]][[1]], PointStdW1[[i]][[2]]*180/Pi*3600}];\n",
    "Show[ListPlot[PointStdW1, PlotStyle -> Blue,\n",
    "            PlotLabel -> Style[\"Значение Std компоненты w1 показаний ДУС, Град/час\", Bold],\n",
    "            AxesLabel -> {Style[\"t\", Medium, Bold], Style[\"Std w1\", Medium, Bold]}],\n",
    "     ImageSize -> 500]\n",
    "Print[\"Std of w1\" PointStdW1[[Dimensions[DataGraph][[1]]-3]][[2]]]"
   ]
  },
  {
   "cell_type": "code",
   "execution_count": 115,
   "metadata": {},
   "outputs": [
    {
     "name": "stdout",
     "output_type": "stream",
     "text": [
      "19.2039 Std of w2\r\n"
     ]
    },
    {
     "data": {
      "text/html": [
       "<div><img alt=\"Output\" src=\"data:image/png;base64,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\"></div>"
      ],
      "text/plain": [
       "-Graphics-"
      ]
     },
     "execution_count": 120,
     "metadata": {
      "text/html": [],
      "text/plain": []
     },
     "output_type": "execute_result"
    }
   ],
   "source": [
    "stdw12 = {Pointsw2[[2]][[1]], Sqrt[(Pointsw2[[1]][[2]]-Pointsw2[[2]][[2]])^2/2]};\n",
    "PointStdW2 = {};\n",
    "AppendTo[PointStdW2, stdw12];\n",
    "\n",
    "For[i=3, \n",
    "    i < Dimensions[DataGraph][[1]], \n",
    "    i++, \n",
    "    AppendTo[PointStdW2, \n",
    "            {Pointsw2[[i]][[1]], Sqrt[(1 - 1/(i-1))*(PointStdW2[[i-2]][[2]])^2+((Listw2[[i]][[2]]-Pointsw2[[i-1]][[2]])/(i-1))^2]}]];\n",
    "\n",
    "For[i=1, i < Dimensions[PointStdW2][[1]], i++, PointStdW2[[i]]= {PointStdW2[[i]][[1]], PointStdW2[[i]][[2]]*180/Pi*3600}];\n",
    "Show[ListPlot[PointStdW2, PlotStyle -> Blue,\n",
    "            PlotLabel -> Style[\"Значение Std компоненты w2 показаний ДУС, Град/час\", Bold],\n",
    "            AxesLabel -> {Style[\"t\", Medium, Bold], Style[\"Std w2\", Medium, Bold]}],\n",
    "     ImageSize -> 500]\n",
    "Print[\"Std of w2\" PointStdW2[[Dimensions[DataGraph][[1]]-3]][[2]]]"
   ]
  },
  {
   "cell_type": "code",
   "execution_count": 122,
   "metadata": {},
   "outputs": [
    {
     "name": "stdout",
     "output_type": "stream",
     "text": [
      "7.05585 Std of w3\r\n"
     ]
    },
    {
     "data": {
      "text/html": [
       "<div><img alt=\"Output\" src=\"data:image/png;base64,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\"></div>"
      ],
      "text/plain": [
       "-Graphics-"
      ]
     },
     "execution_count": 127,
     "metadata": {
      "text/html": [],
      "text/plain": []
     },
     "output_type": "execute_result"
    }
   ],
   "source": [
    "stdw13 = {Pointsw3[[2]][[1]], Sqrt[(Pointsw3[[1]][[2]]-Pointsw3[[2]][[2]])^2/2]};\n",
    "PointStdW3 = {};\n",
    "AppendTo[PointStdW3, stdw13];\n",
    "\n",
    "For[i=3, \n",
    "    i < Dimensions[DataGraph][[1]], \n",
    "    i++, \n",
    "    AppendTo[PointStdW3, \n",
    "            {Pointsw3[[i]][[1]], Sqrt[(1 - 1/(i-1))*(PointStdW3[[i-2]][[2]])^2+((Listw3[[i]][[2]]-Pointsw3[[i-1]][[2]])/(i-1))^2]}]];\n",
    "\n",
    "For[i=1, i < Dimensions[PointStdW3][[1]], i++, PointStdW3[[i]]= {PointStdW3[[i]][[1]], PointStdW3[[i]][[2]]*180/Pi*3600}];\n",
    "Show[ListPlot[PointStdW3, PlotStyle -> Blue,\n",
    "            PlotLabel -> Style[\"Значение Std компоненты w3 показаний ДУС, Град/час\", Bold],\n",
    "            AxesLabel -> {Style[\"t\", Medium, Bold], Style[\"Std w3\", Medium, Bold]}],\n",
    "     ImageSize -> 500]\n",
    "Print[\"Std of w3\" PointStdW3[[Dimensions[DataGraph][[1]]-3]][[2]]]"
   ]
  },
  {
   "cell_type": "markdown",
   "metadata": {},
   "source": [
    "### График накапливающихся среднеквадратичных отклонений модуля показаний ДУС"
   ]
  },
  {
   "cell_type": "code",
   "execution_count": 129,
   "metadata": {},
   "outputs": [
    {
     "name": "stdout",
     "output_type": "stream",
     "text": [
      "0.840756 Std of module w\r\n"
     ]
    },
    {
     "data": {
      "text/html": [
       "<div><img alt=\"Output\" src=\"data:image/png;base64,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\"></div>"
      ],
      "text/plain": [
       "-Graphics-"
      ]
     },
     "execution_count": 134,
     "metadata": {
      "text/html": [],
      "text/plain": []
     },
     "output_type": "execute_result"
    }
   ],
   "source": [
    "wMod = {};\n",
    "wMod1 = {};\n",
    "AppendTo[PointStdW3, stdw13];\n",
    "\n",
    "For[i=1, \n",
    "    i < Dimensions[Pointsw1][[1]], \n",
    "    i++, \n",
    "    AppendTo[wMod, \n",
    "            {Pointsw1[[i]][[1]], (Sqrt[Pointsw1[[i]][[2]]^2+Pointsw2[[i]][[2]]^2+Pointsw3[[i]][[2]]^2]-u)}]];\n",
    "\n",
    "For[i=1, i < Dimensions[wMod][[1]], i++, AppendTo[wMod1, {wMod[[i]][[1]], wMod[[i]][[2]]*180/Pi*3600}]];\n",
    "Show[ListPlot[wMod1, PlotStyle -> Blue,\n",
    "            PlotLabel -> Style[\"Значение Std модуля w показаний ДУС, Град/час\", Bold],\n",
    "            AxesLabel -> {Style[\"t\", Medium, Bold], Style[\"Std w3\", Medium, Bold]}],\n",
    "     ImageSize -> 500]\n",
    "Print[\"Std of module w\" wMod1[[Dimensions[wMod][[1]]-1]][[2]]]"
   ]
  },
  {
   "cell_type": "code",
   "execution_count": null,
   "metadata": {},
   "outputs": [],
   "source": []
  }
 ],
 "metadata": {
  "kernelspec": {
   "display_name": "Wolfram Language 12.2",
   "language": "Wolfram Language",
   "name": "wolframlanguage12.2"
  },
  "language_info": {
   "codemirror_mode": "mathematica",
   "file_extension": ".m",
   "mimetype": "application/vnd.wolfram.m",
   "name": "Wolfram Language",
   "pygments_lexer": "mathematica",
   "version": "12.0"
  }
 },
 "nbformat": 4,
 "nbformat_minor": 4
}
